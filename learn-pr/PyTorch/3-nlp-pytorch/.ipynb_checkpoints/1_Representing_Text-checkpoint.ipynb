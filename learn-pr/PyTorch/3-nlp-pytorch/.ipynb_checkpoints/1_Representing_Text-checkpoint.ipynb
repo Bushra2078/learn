{
 "cells": [
  {
   "cell_type": "markdown",
   "metadata": {},
   "source": [
    "# Introduction to Representing Text With Contextual Embeddings\n",
    "\n",
    "Before we dive into buiding our own Question and Answering model the first step if to understand how State of the Art PyTorch SOTA models represent text with Contextual Embeddings. \n",
    "\n",
    "At this point you may be wondering what the term 'Contextual Embedding' even means. Don't worry by the end of this module that will be abundently clear. In order to understand better the concept lets first take a step back and look at problem of textual representation, some of the different approaches that have culminated in the current state of the art.\n",
    "\n",
    "At the in the third module we will look at sample PyTorch code using the HuggingFace transformers library that use contextual embeddings to make our Question and Answering model work.\n",
    "\n",
    "# What is Text Representation?\n",
    "\n",
    "If you are here you proably at some point learned how to read, write and process language. Computers represent textual characters as numbers that map to fonts on your screen using coding formats such as ASCII or UTF-8. \n",
    "\n",
    "![Ascii Code](images/ASCII.png)\n",
    "\n",
    "You and I can understand what the letters the fonts mapped to these codes **represent** and how each of their characters come together to form the words of this sentence. However computers by themselves do not have such an understanding. Therefore we need we need a mechanism to represent **text features** as features such as words and characters in order to train langugage models.\n",
    "\n",
    "# How do we Represent Text with Computers?\n",
    "\n",
    "There are many different approaches to represent textual features in a format that can be modeled with machine learning. We've already mentioned that contextual embeddings is the state of the art but before we explain how contextual embeddigns work lets take a brief tour of the more tradional and early neural approaches for representing text.\n"
   ]
  },
  {
   "cell_type": "markdown",
   "metadata": {},
   "source": [
    "\n",
    "\n",
    "## Bag of Words Text Representation\n",
    "\n",
    "Bag of Words or BoW vector representations are the most common used traditional vector representation. Each word or n-gram is linked to a vector index and marked as 0 or 1 depending on whether it occurs in a given document.\n",
    "\n",
    "![bow image here](images/bow.png) \n",
    "\n",
    "Below is an example of how to generate a bag of word representation using the Scikit Learn python library:"
   ]
  },
  {
   "cell_type": "code",
   "execution_count": null,
   "metadata": {},
   "outputs": [],
   "source": [
    "from sklearn.feature_extraction.text import CountVectorizer\n",
    "vectorizer = CountVectorizer()\n",
    "corpus = [\n",
    "        'I like hot dogs.',\n",
    "        'The dog ran fast.',\n",
    "        'Its hot outside.',\n",
    "    ]\n",
    "vectorizer.fit_transform(corpus)\n",
    "vectorizer.transform(['My dog likes hot dogs on a hot day.']).toarray()\n",
    "\n"
   ]
  },
  {
   "cell_type": "markdown",
   "metadata": {},
   "source": [
    "## BiGrams, TriGram and N-Gram BoWs\n",
    "\n",
    "One limitation of a bag of words approach is that some words are part of multi word expresssions for example the word 'hot dog' has a completely different meaning than the words 'hot' and 'dog'. If we are too count these words as the same it can cause confuse our model.\n",
    "\n",
    "To address this N-gram representations are often used in methods of document classification where the frequency of each word, bi-word or tri-word is a useful feature for training classifiers. \n",
    "\n",
    "Below is an example of how to generate a bigram bag of word representation using the Scikit Learn python library:\n"
   ]
  },
  {
   "cell_type": "code",
   "execution_count": null,
   "metadata": {},
   "outputs": [],
   "source": [
    "bigram_vectorizer = CountVectorizer(ngram_range=(1, 2), token_pattern=r'\\b\\w+\\b', min_df=1)\n",
    "bigram_vectorizer.fit_transform(corpus)\n",
    "bigram_vectorizer.transform(['My dog likes hot dogs on a hot day.']).toarray()"
   ]
  },
  {
   "cell_type": "markdown",
   "metadata": {},
   "source": [
    "\n",
    "In BoW word occurrences are evenly weighted independently of how frequently or what context they occur. However in most NLP tasks some words are more relevant than others.\n"
   ]
  },
  {
   "cell_type": "markdown",
   "metadata": {},
   "source": [
    "\n",
    "## Term Frequency Inverse Document Frequency TF - IDF\n",
    "\n",
    "TF - IDF short for term frequency–inverse document frequency, is a variation of bag of words where instead of a binary 0 and 1 value being used to indicate the appearence of a ngram in a document a the TF-IDF value is used. The TF-IDF value is a numerical statstic that reflect how prominent a word or n-gram is to a document in a collection. The TF-IDF value increases proportionally to the number of times a word appears in a document and is offset by the number of documents in the corpus that contain the word, which helps to adjust for the fact that some words appear more frequently than others. \n",
    "\n",
    "![tfidf image here](images/tfidf.png)\n",
    "\n",
    "However even though TF-IDF representations provide frequency weight to different words they are unable to represent meaning or order. As the famous linguist J. R. Firth said in 1935, “The complete meaning of a word is always contextual, and no study of meaning apart from context can be taken seriously.”\n"
   ]
  },
  {
   "cell_type": "code",
   "execution_count": null,
   "metadata": {},
   "outputs": [],
   "source": [
    "from sklearn.feature_extraction.text import TfidfVectorizer\n",
    "vectorizer = TfidfVectorizer(ngram_range=(1,2))\n",
    "vectorizer.fit_transform(corpus)\n",
    "vectorizer.transform(['My dog likes hot dogs on a hot day.']).toarray()"
   ]
  },
  {
   "cell_type": "markdown",
   "metadata": {},
   "source": [
    "\n",
    "## Traditional Distributional Embeddings with Mutual Information\n",
    "\n",
    "Distributional Embeddings enable word vectors to encapsulate contextual context. Each embedding vector is represented based on the mutual information it has with other words in a given corpus. Mutual information can be represented as a global co-occurrence frequency or restricted to a given window either sequentially or based on dependency edges.\n",
    "\n",
    "![distributional matrix image here](images/dist_matrix.png)\n",
    "\n",
    "While these distributional methods were comparable to later neural embeddings they were difficult to implement, computationally expensive and not widely used in the industry. \n"
   ]
  },
  {
   "cell_type": "markdown",
   "metadata": {},
   "source": [
    "\n",
    "## PreTrained Embeddings Word2Vec and Varients\n",
    "\n",
    "As opposed to traditional distributional models neural embeddings such as Word to Vec are learned by training a neural langauge model to minimize a loss function for tasks that map to language understanding.  This process of training models on large collections of text to extract word representaions is called pre-training.  \n",
    "\n",
    "One of the first sucessful neural pretraining techniques for text representation was called Word2Vec. \n",
    "\n",
    "There are two main architectures that are used to produce a distributed representation of words:\n",
    "\n",
    " - Continuous bag-of-words (CBOW) — In the continuous skip-gram architecture, the model uses the current word to predict the surrounding window of context words.\n",
    " - Continuous skip-gram - In the continuous skip-gram architecture, the model uses surrounding window of context words to predict the current word.\n",
    "\n",
    "CBOW is faster while skip-gram is slower but does a better job of representing infrequent words.\n",
    "\n",
    "![word2vec image](images/word2vec.png)\n",
    "\n",
    "Both CBOW and Skip-Grams are “predictive” embeddings, in that they only take local contexts into account. Word2Vec does not take advantage of global context. FastText, built on Word2Vec by learning vector representations for each word and the charachter n-grams found within each word. The values of the representations are then averaged into one vector at each training step. While this adds a lot of additional computation to pre-training it enables word embeddings to encode sub-word information. \n",
    "\n",
    "Another method called GloVe by contrast leverages the same intuition behind the co-occurence matrix used by the traditional distributional embeddings above, but uses neural methods to decompose the co-occurrence matrix into more expressive and non linear word vectors.\n",
    "\n",
    "Below we can use the Gensim Api to play with pretrained word2vec, fast text, and glove embeddings to find the most similar pretrained embeddings to the word 'play':\n"
   ]
  },
  {
   "cell_type": "code",
   "execution_count": null,
   "metadata": {},
   "outputs": [],
   "source": [
    "import gensim.downloader as api\n",
    "w2v = api.load('word2vec-google-news-300')\n",
    "print(w2v.most_similar('play'))"
   ]
  },
  {
   "cell_type": "code",
   "execution_count": null,
   "metadata": {},
   "outputs": [],
   "source": [
    "from gensim.models.wrappers import FastText\n",
    "fast_text = FastText.load_fasttext_format('wiki.simple')\n",
    "print(fast_text.most_similar('play'))"
   ]
  },
  {
   "cell_type": "code",
   "execution_count": null,
   "metadata": {},
   "outputs": [],
   "source": [
    "glove = api.load(\"glove-twitter-25\")\n",
    "print(glove.most_similar('play'))"
   ]
  },
  {
   "cell_type": "markdown",
   "metadata": {},
   "source": [
    "\n",
    "One key limitation of tradition pretrained embedding representaitons such as Word2Vec is the problem of word sense disambigioution. While pretrained embeddings can capture some of the meaning of words in context every possible meaning of a word is encoded into the same embedding. This can cause problems in downstream models since many words such as the word 'play' have different meanings depending on the context they are used in.\n",
    "\n",
    "For example word 'play' in the the sentence\n",
    "- I went to a [play] at the theature.\n",
    "\n",
    "Does not mean the same thing as the word 'play' in the sentence.\n",
    "- John wants to [play] with his friends.\n",
    "\n",
    "The pretrained embeddings above represent both of these meanings of the word 'play' in the same embedding. Contextual embeddings ,methods were developed to address this challenge of disambigutation and contributed to the massive leap forward in natrual language processing applications. \n"
   ]
  },
  {
   "cell_type": "markdown",
   "metadata": {},
   "source": [
    "\n",
    "## Contextual Embeddings\n",
    "\n",
    "To address challenges of word sense disambigution a new method of pretraining models on large amounts of data and using the pre-trained models to generate contextual embeddings was spearheaded with the advent of models such as ULMFiT, ELMO and Later BERT.\n",
    "\n",
    "![elmo](images/elmo.png)\n",
    "\n",
    "Below we will look at Spacy's transformer api to play with contextual embeddings.\n"
   ]
  },
  {
   "cell_type": "code",
   "execution_count": null,
   "metadata": {},
   "outputs": [],
   "source": [
    "!pip install spacy-transformers\n",
    "!python -m spacy download \"en_trf_bertbaseuncased_lg\"\n",
    "\n",
    "import spacy\n",
    "\n",
    "nlp = spacy.load(\"en_trf_bertbaseuncased_lg\")\n",
    "doc1 = nlp(\"I went to a play.\")\n",
    "doc2 = nlp(\"John wants to play a game.\")\n",
    "doc3 = nlp(\"John went to a show.\")\n",
    "\n",
    "\n",
    "print(\"Similarity between the two words 'play' in doc1 and doc2:\", doc1[4].similarity(doc2[3]))\n",
    "print(\"Similarity between doc1 'play' and doc3 'show':\", doc1[4].similarity(doc3[4]))\n",
    "print(\"Similarity between doc2 'play' and doc3 'show':\", doc2[3].similarity(doc3[4]))"
   ]
  },
  {
   "cell_type": "markdown",
   "metadata": {},
   "source": [
    "ULMFit and ELMo were models that generates embedding for a word based on the context it appears thus generating slightly different embeddings for each of its occurrence and thus alowing a downstream model to better disambiguate between the correct sense of a given word such as 'play'. On in it’s release it enabled near instant state of the art results in many downstream tasks, including tasks such as co-reference were previously not as viable for practical usage in nlp.\n",
    "\n",
    "This was coined as the ImageNet moment of NLP more recent transfomer based models such as BERT capitalize on the development of BERT using attention transformers instead of bi-directonal RNNs to encode context. If you are unfamiliar with terms such as Transformers and RNNs do not worry in the next module we will walk through the progression of NLP models culminiating in the advent of current state of the models in NLP with PyTorch. \n"
   ]
  }
 ],
 "metadata": {
  "kernelspec": {
   "display_name": "Python 3",
   "language": "python",
   "name": "python3"
  },
  "language_info": {
   "codemirror_mode": {
    "name": "ipython",
    "version": 3
   },
   "file_extension": ".py",
   "mimetype": "text/x-python",
   "name": "python",
   "nbconvert_exporter": "python",
   "pygments_lexer": "ipython3",
   "version": "3.8.5"
  }
 },
 "nbformat": 4,
 "nbformat_minor": 2
}
