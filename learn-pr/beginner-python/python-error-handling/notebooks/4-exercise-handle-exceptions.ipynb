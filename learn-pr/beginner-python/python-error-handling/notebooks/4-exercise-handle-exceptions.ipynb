{
 "cells": [
  {
   "cell_type": "markdown",
   "metadata": {},
   "source": [
    "## Exercise: Handle exceptions\n",
    "With the knowledge of tracebacks and how exceptions are raised and handled, it's time to practice some of these concepts by using this notebook. We'll use a similar scenario where a program must read a configuration file called _config.txt_ and deal with errors as they show up.\n",
    "\n",
    "In real-world scenarios, exceptions more clearly deal with separate functions. So this exercise will have different functions for different tasks regarding the configuration file."
   ]
  },
  {
   "cell_type": "code",
   "execution_count": 1,
   "metadata": {},
   "outputs": [],
   "source": [
    "# Create a function that opens and reads the contents of the configuration file first\n",
    "# Allow the function to accept a path. This will become handy later\n",
    "def read_config(path):\n",
    "    with open(path) as config_path:\n",
    "        return config_path.readlines()"
   ]
  },
  {
   "cell_type": "code",
   "execution_count": 22,
   "metadata": {},
   "outputs": [
    {
     "name": "stdout",
     "output_type": "stream",
     "text": [
      "/var/folders/nk/r3v6ztqj761035fb_f59wd8m0000gn/T/tmp6czyaczv\n",
      "/var/folders/nk/r3v6ztqj761035fb_f59wd8m0000gn/T/tmp6czyaczv/config.txt\n"
     ]
    }
   ],
   "source": [
    "# To mimic a brand-new environment, define a temporary directory that will act as the normal destination for the configuration file\n",
    "# In this way, we prevent polluting the current notebook environment\n",
    "import tempfile\n",
    "import os \n",
    "\n",
    "# Create the temporary directory\n",
    "config_dir = tempfile.mkdtemp()\n",
    "config_path = os.path.join(config_dir, \"config.txt\")\n",
    "print(config_dir)\n",
    "print(config_path)"
   ]
  },
  {
   "cell_type": "code",
   "execution_count": 23,
   "metadata": {},
   "outputs": [
    {
     "ename": "FileNotFoundError",
     "evalue": "[Errno 2] No such file or directory: '/var/folders/nk/r3v6ztqj761035fb_f59wd8m0000gn/T/tmp6czyaczv/config.txt'",
     "output_type": "error",
     "traceback": [
      "\u001b[0;31m---------------------------------------------------------------------------\u001b[0m",
      "\u001b[0;31mFileNotFoundError\u001b[0m                         Traceback (most recent call last)",
      "\u001b[0;32m/var/folders/nk/r3v6ztqj761035fb_f59wd8m0000gn/T/ipykernel_48138/3890335293.py\u001b[0m in \u001b[0;36m<module>\u001b[0;34m\u001b[0m\n\u001b[1;32m      1\u001b[0m \u001b[0;31m# Now try reading the newly defined config.txt path\u001b[0m\u001b[0;34m\u001b[0m\u001b[0;34m\u001b[0m\u001b[0;34m\u001b[0m\u001b[0m\n\u001b[0;32m----> 2\u001b[0;31m \u001b[0mread_config\u001b[0m\u001b[0;34m(\u001b[0m\u001b[0mconfig_path\u001b[0m\u001b[0;34m)\u001b[0m\u001b[0;34m\u001b[0m\u001b[0;34m\u001b[0m\u001b[0m\n\u001b[0m",
      "\u001b[0;32m/var/folders/nk/r3v6ztqj761035fb_f59wd8m0000gn/T/ipykernel_48138/3064444193.py\u001b[0m in \u001b[0;36mread_config\u001b[0;34m(path)\u001b[0m\n\u001b[1;32m      2\u001b[0m \u001b[0;31m# Allow the function to accept a path. This will become handy later\u001b[0m\u001b[0;34m\u001b[0m\u001b[0;34m\u001b[0m\u001b[0;34m\u001b[0m\u001b[0m\n\u001b[1;32m      3\u001b[0m \u001b[0;32mdef\u001b[0m \u001b[0mread_config\u001b[0m\u001b[0;34m(\u001b[0m\u001b[0mpath\u001b[0m\u001b[0;34m)\u001b[0m\u001b[0;34m:\u001b[0m\u001b[0;34m\u001b[0m\u001b[0;34m\u001b[0m\u001b[0m\n\u001b[0;32m----> 4\u001b[0;31m     \u001b[0;32mwith\u001b[0m \u001b[0mopen\u001b[0m\u001b[0;34m(\u001b[0m\u001b[0mpath\u001b[0m\u001b[0;34m)\u001b[0m \u001b[0;32mas\u001b[0m \u001b[0mconfig_path\u001b[0m\u001b[0;34m:\u001b[0m\u001b[0;34m\u001b[0m\u001b[0;34m\u001b[0m\u001b[0m\n\u001b[0m\u001b[1;32m      5\u001b[0m         \u001b[0;32mreturn\u001b[0m \u001b[0mconfig_path\u001b[0m\u001b[0;34m.\u001b[0m\u001b[0mreadlines\u001b[0m\u001b[0;34m(\u001b[0m\u001b[0;34m)\u001b[0m\u001b[0;34m\u001b[0m\u001b[0;34m\u001b[0m\u001b[0m\n",
      "\u001b[0;31mFileNotFoundError\u001b[0m: [Errno 2] No such file or directory: '/var/folders/nk/r3v6ztqj761035fb_f59wd8m0000gn/T/tmp6czyaczv/config.txt'"
     ]
    }
   ],
   "source": [
    "# Now try reading the newly defined config.txt path\n",
    "read_config(config_path)"
   ]
  },
  {
   "cell_type": "markdown",
   "metadata": {},
   "source": [
    "That's a `FileNotFoundError` exception. In this case, we want to ensure that when there is no configuration file, a default configuration file is created with some basic values. Before you catch exceptions, create another function that writes the default values for the configuration file:"
   ]
  },
  {
   "cell_type": "code",
   "execution_count": 24,
   "metadata": {},
   "outputs": [],
   "source": [
    "import uuid\n",
    "\n",
    "default_config_contents = f\"\"\"# Rocket Ship Configuration File!\n",
    "fuel_tanks = 4\n",
    "oxygen_tanks = 3\n",
    "initial_propulsing_level = 84\n",
    "unique_key = {uuid.uuid4()}\"\"\"\n",
    "\n",
    "def write_default_config(path):\n",
    "    with open(path, 'w') as default_config:\n",
    "        default_config.write(default_config_contents)"
   ]
  },
  {
   "cell_type": "markdown",
   "metadata": {},
   "source": [
    "Now you have a `read_config()` function that will get the contents of the configuration file. You also have a `write_default_config()` function that will write the default contents to a configuration file. You're ready to define the `main()` function that puts everything together. \n",
    "\n",
    "Write it up so that you can catch and handle the `FileNotFoundError` exception from before: "
   ]
  },
  {
   "cell_type": "code",
   "execution_count": 16,
   "metadata": {},
   "outputs": [
    {
     "name": "stdout",
     "output_type": "stream",
     "text": [
      "['fuel_tanks = 4\\n', 'oxygen_tanks = 3\\n', 'initial_propulsing_level = 84\\n', 'unique_key = 5a468ff2-96b1-4218-ba26-0400c49a5142']\n"
     ]
    }
   ],
   "source": [
    "def main():\n",
    "    try:\n",
    "        config_contents = read_config(config_path)\n",
    "    except FileNotFoundError:\n",
    "        write_default_config(config_path)\n",
    "        config_contents = read_config(config_path)\n",
    "    # Output the contents to verify all worked fine\n",
    "    print(config_contents)\n",
    "    \n",
    "main()\n",
    "    "
   ]
  },
  {
   "cell_type": "markdown",
   "metadata": {},
   "source": [
    "The `main()` function now handles `FileNotFoundError` and creates one by default with some contents. But so far, all you have is a list with contents. That's not very useful. \n",
    "\n",
    "Add a parser function that reads the values and creates a Python dictionary. Make the `main()` function show the dictionary after the parsing."
   ]
  },
  {
   "cell_type": "code",
   "execution_count": 19,
   "metadata": {},
   "outputs": [],
   "source": [
    "def parse_config(contents):\n",
    "    config = {}\n",
    "    for line in contents:\n",
    "        key, value = line.split('=')\n",
    "        config[key] = value\n",
    "    return config"
   ]
  },
  {
   "cell_type": "code",
   "execution_count": 25,
   "metadata": {},
   "outputs": [
    {
     "ename": "ValueError",
     "evalue": "not enough values to unpack (expected 2, got 1)",
     "output_type": "error",
     "traceback": [
      "\u001b[0;31m---------------------------------------------------------------------------\u001b[0m",
      "\u001b[0;31mValueError\u001b[0m                                Traceback (most recent call last)",
      "\u001b[0;32m/var/folders/nk/r3v6ztqj761035fb_f59wd8m0000gn/T/ipykernel_48138/32029624.py\u001b[0m in \u001b[0;36m<module>\u001b[0;34m\u001b[0m\n\u001b[1;32m      9\u001b[0m     \u001b[0mprint\u001b[0m\u001b[0;34m(\u001b[0m\u001b[0mparse_config\u001b[0m\u001b[0;34m(\u001b[0m\u001b[0mconfig_contents\u001b[0m\u001b[0;34m)\u001b[0m\u001b[0;34m)\u001b[0m\u001b[0;34m\u001b[0m\u001b[0;34m\u001b[0m\u001b[0m\n\u001b[1;32m     10\u001b[0m \u001b[0;34m\u001b[0m\u001b[0m\n\u001b[0;32m---> 11\u001b[0;31m \u001b[0mmain\u001b[0m\u001b[0;34m(\u001b[0m\u001b[0;34m)\u001b[0m\u001b[0;34m\u001b[0m\u001b[0;34m\u001b[0m\u001b[0m\n\u001b[0m",
      "\u001b[0;32m/var/folders/nk/r3v6ztqj761035fb_f59wd8m0000gn/T/ipykernel_48138/32029624.py\u001b[0m in \u001b[0;36mmain\u001b[0;34m()\u001b[0m\n\u001b[1;32m      7\u001b[0m         \u001b[0mconfig_contents\u001b[0m \u001b[0;34m=\u001b[0m \u001b[0mread_config\u001b[0m\u001b[0;34m(\u001b[0m\u001b[0mconfig_path\u001b[0m\u001b[0;34m)\u001b[0m\u001b[0;34m\u001b[0m\u001b[0;34m\u001b[0m\u001b[0m\n\u001b[1;32m      8\u001b[0m     \u001b[0;31m# Output the contents to verify all worked fine\u001b[0m\u001b[0;34m\u001b[0m\u001b[0;34m\u001b[0m\u001b[0;34m\u001b[0m\u001b[0m\n\u001b[0;32m----> 9\u001b[0;31m     \u001b[0mprint\u001b[0m\u001b[0;34m(\u001b[0m\u001b[0mparse_config\u001b[0m\u001b[0;34m(\u001b[0m\u001b[0mconfig_contents\u001b[0m\u001b[0;34m)\u001b[0m\u001b[0;34m)\u001b[0m\u001b[0;34m\u001b[0m\u001b[0;34m\u001b[0m\u001b[0m\n\u001b[0m\u001b[1;32m     10\u001b[0m \u001b[0;34m\u001b[0m\u001b[0m\n\u001b[1;32m     11\u001b[0m \u001b[0mmain\u001b[0m\u001b[0;34m(\u001b[0m\u001b[0;34m)\u001b[0m\u001b[0;34m\u001b[0m\u001b[0;34m\u001b[0m\u001b[0m\n",
      "\u001b[0;32m/var/folders/nk/r3v6ztqj761035fb_f59wd8m0000gn/T/ipykernel_48138/3187556447.py\u001b[0m in \u001b[0;36mparse_config\u001b[0;34m(contents)\u001b[0m\n\u001b[1;32m      2\u001b[0m     \u001b[0mconfig\u001b[0m \u001b[0;34m=\u001b[0m \u001b[0;34m{\u001b[0m\u001b[0;34m}\u001b[0m\u001b[0;34m\u001b[0m\u001b[0;34m\u001b[0m\u001b[0m\n\u001b[1;32m      3\u001b[0m     \u001b[0;32mfor\u001b[0m \u001b[0mline\u001b[0m \u001b[0;32min\u001b[0m \u001b[0mcontents\u001b[0m\u001b[0;34m:\u001b[0m\u001b[0;34m\u001b[0m\u001b[0;34m\u001b[0m\u001b[0m\n\u001b[0;32m----> 4\u001b[0;31m         \u001b[0mkey\u001b[0m\u001b[0;34m,\u001b[0m \u001b[0mvalue\u001b[0m \u001b[0;34m=\u001b[0m \u001b[0mline\u001b[0m\u001b[0;34m.\u001b[0m\u001b[0msplit\u001b[0m\u001b[0;34m(\u001b[0m\u001b[0;34m'='\u001b[0m\u001b[0;34m)\u001b[0m\u001b[0;34m\u001b[0m\u001b[0;34m\u001b[0m\u001b[0m\n\u001b[0m\u001b[1;32m      5\u001b[0m         \u001b[0mconfig\u001b[0m\u001b[0;34m[\u001b[0m\u001b[0mkey\u001b[0m\u001b[0;34m]\u001b[0m \u001b[0;34m=\u001b[0m \u001b[0mvalue\u001b[0m\u001b[0;34m\u001b[0m\u001b[0;34m\u001b[0m\u001b[0m\n\u001b[1;32m      6\u001b[0m     \u001b[0;32mreturn\u001b[0m \u001b[0mconfig\u001b[0m\u001b[0;34m\u001b[0m\u001b[0;34m\u001b[0m\u001b[0m\n",
      "\u001b[0;31mValueError\u001b[0m: not enough values to unpack (expected 2, got 1)"
     ]
    }
   ],
   "source": [
    "# Update the main() function to use the new parser\n",
    "def main():\n",
    "    try:\n",
    "        config_contents = read_config(config_path)\n",
    "    except FileNotFoundError:\n",
    "        write_default_config(config_path)\n",
    "        config_contents = read_config(config_path)\n",
    "    # Output the contents to verify all worked fine\n",
    "    print(parse_config(config_contents))\n",
    "    \n",
    "main()"
   ]
  },
  {
   "cell_type": "markdown",
   "metadata": {},
   "source": [
    "Now there's a `ValueError` exception. This is happening in the parser function. You know that you can handle this exception, but where? There are several functions involved, and `main()` is currently handling exceptions.\n",
    "\n",
    "Choosing where to handle exceptions isn't always straightforward. There's no particular rule in Python that helps here.\n",
    "\n",
    "You can handle an exception anywhere in code. Use common sense and see what fits best. Remember that inadequate handling can always be improved later, as with everything in code. \n",
    "\n",
    "In this case, the parser itself should probably be responsible for handling the specifics of parsing a configuration file. That way, it can continue parsing the entire file while handling errors within the parsing."
   ]
  },
  {
   "cell_type": "code",
   "execution_count": 27,
   "metadata": {},
   "outputs": [
    {
     "name": "stdout",
     "output_type": "stream",
     "text": [
      "{'fuel_tanks ': ' 4\\n', 'oxygen_tanks ': ' 3\\n', 'initial_propulsing_level ': ' 84\\n', 'unique_key ': ' 1f14d837-0bbb-4bcb-a2a2-7093ced5b236'}\n"
     ]
    }
   ],
   "source": [
    "# Update the parser to handle ValueError\n",
    "def parse_config(contents):\n",
    "    config = {}\n",
    "    for line in contents:\n",
    "        try:\n",
    "            key, value = line.split('=')\n",
    "        except ValueError:\n",
    "            # Ignore this error and skip to the next line\n",
    "            continue\n",
    "        config[key] = value\n",
    "    return config\n",
    "    \n",
    "# Now call main() again and see if all is good now\n",
    "main()"
   ]
  },
  {
   "cell_type": "markdown",
   "metadata": {},
   "source": [
    "You're almost there. Somehow, the keys have trailing spaces, and some values have newline characters in them. Clean those up in the `parse_config()` function:"
   ]
  },
  {
   "cell_type": "code",
   "execution_count": 34,
   "metadata": {},
   "outputs": [
    {
     "name": "stdout",
     "output_type": "stream",
     "text": [
      "{'fuel_tanks': '4', 'oxygen_tanks': '3', 'initial_propulsing_level': '84', 'unique_key': '1f14d837-0bbb-4bcb-a2a2-7093ced5b236'}\n"
     ]
    }
   ],
   "source": [
    "def parse_config(contents):\n",
    "    config = {}\n",
    "    for line in contents:\n",
    "        try:\n",
    "            key, value = line.split('=')\n",
    "        except ValueError:\n",
    "            # Ignore this error and skip to the next line\n",
    "            continue\n",
    "        config[key.strip()] = value.strip('\\n').strip()\n",
    "    return config\n",
    "\n",
    "main()"
   ]
  },
  {
   "cell_type": "markdown",
   "metadata": {},
   "source": [
    "Good job! Now you have a few functions, each of which handles exceptions in its own way. Some functions delegate the error handling when doing the work (like the parsing one). Others, like the `main()` function, handle the logic at a higher level."
   ]
  }
 ],
 "metadata": {
  "interpreter": {
   "hash": "4cc27f0c2a93286e74f8aa1707ad89c9442d41d18de69b2ad37fbbf6a3107a2a"
  },
  "kernelspec": {
   "display_name": "Python 3.9.6 64-bit ('tmp': virtualenv)",
   "name": "python3"
  },
  "language_info": {
   "codemirror_mode": {
    "name": "ipython",
    "version": 3
   },
   "file_extension": ".py",
   "mimetype": "text/x-python",
   "name": "python",
   "nbconvert_exporter": "python",
   "pygments_lexer": "ipython3",
   "version": "3.9.6"
  },
  "orig_nbformat": 4
 },
 "nbformat": 4,
 "nbformat_minor": 2
}
