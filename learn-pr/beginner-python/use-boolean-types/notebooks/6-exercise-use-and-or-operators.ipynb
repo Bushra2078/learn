{
 "cells": [
  {
   "cell_type": "markdown",
   "metadata": {},
   "source": [
    "# Exercise: Use `and` and `or` operators\n",
    "\n",
    "In the previous exercise, you worked with `if`, `else`, and `elif` statements to write programs with complex conditional logic. To create even more interesting Boolean expressions, you can use the `and` and `or` operators in Python. \n",
    "\n",
    "`And` expressions are true only if both subexpressions are true. \n",
    "\n",
    "`expression1 and expression2`\n",
    "\n",
    "`Or` expressions are true if *at least* one subexpression is true. \n",
    "\n",
    "`expression1 or expression2`\n",
    "\n",
    "In this exercise, you'll learn more nuanced information about when asteroids pose a danger to Earth, and you'll use that information to improve our warning system. Here's the new information you need to know:\n",
    "\n",
    "* Asteroids smaller than 25 meters in their largest dimension will most likely burn up as they enter the Earth's atmosphere. \n",
    "* If a piece of an asteroid that's larger than 25 meters but smaller than 1000 meters were to hit Earth, it would cause a lot of damage. \n",
    "\n",
    "We also discussed in the previous exercise that:\n",
    "\n",
    "* Asteroid speed varies based on how close it is to the sun, and any speed greater than 25 kilometers per second (km/s) merits a warning.\n",
    "* If an asteroid enters Earth's atmosphere at a speed greater than or equal to 20 km/s, it sometimes produces a streak of light that can be seen from Earth.\n",
    "\n",
    "Using all of this information, write a program that will issue the correct warning or information to the people of Earth, based on an asteroid's speed and size. Use `if`, `else`, and `elif` statements, and use the `and` and `or` operators. \n",
    "\n"
   ]
  },
  {
   "cell_type": "code",
   "execution_count": 3,
   "metadata": {},
   "outputs": [
    {
     "name": "stdout",
     "output_type": "stream",
     "text": [
      "Look up! There's a magical light in the sky!\n"
     ]
    }
   ],
   "source": [
    "# Add the code to create new variables for asteroid speed and size\n",
    "# To test your code, try out various speeds and sizes\n",
    "# Write multiple test expressions or combinations of test expressions to determine what message should be sent to Earth\n",
    "\n",
    "asteroid_speed = 25\n",
    "asteroid_size = 40\n",
    "if asteroid_speed > 25 and asteroid_size > 25:\n",
    "    print(\"Alert! A very dangerous asteroid is coming towards Earth!\")\n",
    "elif asteroid_speed >= 20:\n",
    "    print(\"Look up! There's a magical light in the sky!\")\n",
    "elif asteroid_size < 25:\n",
    "    print(\"Nothing to see here :)\")\n",
    "else:\n",
    "    print(\"Nothing to see here :)\")"
   ]
  },
  {
   "cell_type": "code",
   "execution_count": null,
   "metadata": {},
   "outputs": [],
   "source": []
  }
 ],
 "metadata": {
  "kernel_info": {
   "name": "conda-env-py37_default-py"
  },
  "kernelspec": {
   "display_name": "py37_default",
   "language": "python",
   "name": "conda-env-py37_default-py"
  },
  "language_info": {
   "codemirror_mode": {
    "name": "ipython",
    "version": 3
   },
   "file_extension": ".py",
   "mimetype": "text/x-python",
   "name": "python",
   "nbconvert_exporter": "python",
   "pygments_lexer": "ipython3",
   "version": "3.7.9"
  },
  "orig_nbformat": 4
 },
 "nbformat": 4,
 "nbformat_minor": 2
}
