{
 "cells": [
  {
   "cell_type": "markdown",
   "metadata": {},
   "source": [
    "# Exercise: Write `if`, `else`, and `elif` statements\n",
    "\n",
    "`If` statements allow you to conditionally execute Python code. They are commonly used in Python to \"make decisions\" about what should happen next while a program is running. \n",
    "\n",
    "To create an `if` statement in Python, define a test expression that can have a value of either `True` or `False`, followed by an indented block of code that will run if the condition is met. \n",
    "\n",
    "```python\n",
    "if test_expression:\n",
    "    # statement(s) to be run\n",
    "```\n",
    "\n",
    "To write a program with more complex conditional logic, you can add `else` and `elif` statements to your code block. You can also nest conditional statements. \n",
    "\n",
    "```python\n",
    "if test_expression:\n",
    "    # statement(s) to be run\n",
    "    if test_expression:\n",
    "        # statement(s) to be run\n",
    "    else: \n",
    "        # statement(s) to be run\n",
    "elif test_expression:\n",
    "    # statement(s) to be run\n",
    "else:\n",
    "    # statement(s) to be run\n",
    "```\n",
    "\n",
    "\n",
    "For this exercise, you will write conditional logic that prints a warning if an asteroid is approaching Earth too quickly. Asteroid speed varies depending on how close it is to the sun, and any speed greater than 25 kilometers per second (km/s) merits a warning. \n",
    "\n",
    "There is an approaching asteroid, and it's traveling at a speed of 49 km/s."
   ]
  },
  {
   "cell_type": "code",
   "execution_count": 2,
   "metadata": {},
   "outputs": [
    {
     "name": "stdout",
     "output_type": "stream",
     "text": [
      "Warning! An asteroid is approaching at dangerous speeds!\n"
     ]
    }
   ],
   "source": [
    "# Add the code to create a new variable for the first asteroid's speed\n",
    "# Write a test expression to calculate whether it needs a warning\n",
    "# Add the statement(s) that will be run if the test expression is true or false\n",
    "\n",
    "asteroid = 49\n",
    "if asteroid > 25:\n",
    "    print(\"Warning! An asteroid is approaching at dangerous speeds!\")\n",
    "else:\n",
    "    print(\"Carry on with your day!\")"
   ]
  },
  {
   "cell_type": "markdown",
   "metadata": {},
   "source": [
    "If an asteroid enters Earth's atmosphere at a speed greater than or equal to 20 km/s, it sometimes produces a streak of light that can be seen from Earth. Write conditional logic that uses `if`, `else`, and `elif` statements to alert people worldwide that they should look for an asteroid in the sky. There's one coming now at a speed of 19 km/s!\n"
   ]
  },
  {
   "cell_type": "code",
   "execution_count": 3,
   "metadata": {},
   "outputs": [
    {
     "name": "stdout",
     "output_type": "stream",
     "text": [
      "Nothing to see here!\n"
     ]
    }
   ],
   "source": [
    "# Add the code to create a new variable for an asteroid traveling at 19 km/s\n",
    "# Write multiple test expressions to determine whether you can see the light from earth\n",
    "# Add the statement(s) that will be run if the test expressions are True or False\n",
    "\n",
    "asteroid = 19\n",
    "if asteroid > 20:\n",
    "    print(\"Look up! There's a magical light in the sky!\")\n",
    "elif asteroid == 20:\n",
    "    print(\"Look up! There's a magical light in the sky!\")\n",
    "else:\n",
    "    print(\"Nothing to see here!\")"
   ]
  },
  {
   "cell_type": "markdown",
   "metadata": {},
   "source": []
  }
 ],
 "metadata": {
  "kernel_info": {
   "name": "conda-env-py37_default-py"
  },
  "kernelspec": {
   "display_name": "py37_default",
   "language": "python",
   "name": "conda-env-py37_default-py"
  },
  "language_info": {
   "codemirror_mode": {
    "name": "ipython",
    "version": 3
   },
   "file_extension": ".py",
   "mimetype": "text/x-python",
   "name": "python",
   "nbconvert_exporter": "python",
   "pygments_lexer": "ipython3",
   "version": "3.7.9"
  },
  "orig_nbformat": 4
 },
 "nbformat": 4,
 "nbformat_minor": 2
}
