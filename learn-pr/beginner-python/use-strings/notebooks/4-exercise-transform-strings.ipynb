{
    "cells": [
        {
            "cell_type": "markdown",
            "metadata": {},
            "source": [
                "# Exercise: Transform strings\n",
                "\n",
                "There are several operations you can perform on strings when manipulating them. In this exercise you will use string methods to modify a text with facts about the Moon and extract information to create a short summary."
            ]
        },
        {
            "cell_type": "code",
            "execution_count": null,
            "metadata": {},
            "outputs": [],
            "source": [
                "text = \"\"\"Interesting facts about the Moon. The Moon is Earth's only satellite. There are several interesting facts about the Moon and how it affects life here on Earth. \n",
                "On average, the Moon moves 4cm away from the Earth every year. This yearly drift is not significant to cause immediate effects on Earth. The highest daylight temperature of the Moon is 127 C.\"\"\""
            ]
        },
        {
            "cell_type": "markdown",
            "metadata": {},
            "source": [
                "First, split the text on every sentence to work with its content"
            ]
        },
        {
            "cell_type": "code",
            "execution_count": null,
            "metadata": {},
            "outputs": [],
            "source": [
                "text_parts = text.split('. ')\n",
                "text_parts\n"
            ]
        },
        {
            "cell_type": "markdown",
            "metadata": {},
            "source": [
                "Now define some key words to look for that will help determine if a sentence has a fact. "
            ]
        },
        {
            "cell_type": "code",
            "execution_count": null,
            "metadata": {},
            "outputs": [],
            "source": [
                "key_words = [\"average\", \"temperature\", \"distance\"]"
            ]
        },
        {
            "cell_type": "markdown",
            "metadata": {},
            "source": [
                "Create a loop to print out only facts about the Moon, as related to the `key_words` previously defined:"
            ]
        },
        {
            "cell_type": "code",
            "execution_count": null,
            "metadata": {},
            "outputs": [],
            "source": [
                "for sentence in text_parts:\n",
                "    for key_word in key_words:\n",
                "        if key_word in sentence:\n",
                "            print(sentence)\n",
                "            break"
            ]
        },
        {
            "cell_type": "markdown",
            "metadata": {},
            "source": [
                "Finally, update the loop to change _C_ to _Celsius_"
            ]
        },
        {
            "cell_type": "code",
            "execution_count": null,
            "metadata": {},
            "outputs": [],
            "source": [
                "for sentence in text_parts:\n",
                "    for key_word in key_words:\n",
                "        if key_word in sentence:\n",
                "            print(sentence.replace(' C', ' Celsius'))\n",
                "            break"
            ]
        }
    ],
 "metadata": {
   "kernelspec": {
     "name": "conda-env-py37_default-py",
     "language": "python",
     "display_name": "py37_default"
   },
   "language_info": {
     "name": "python",
     "version": "3.7.9",
     "mimetype": "text/x-python",
     "codemirror_mode": {
       "name": "ipython",
       "version": 3
     },
     "pygments_lexer": "ipython3",
     "nbconvert_exporter": "python",
     "file_extension": ".py"
   },
   "kernel_info": {
     "name": "conda-env-py37_default-py"
   },
  "orig_nbformat": 4
 },
 "nbformat": 4,
 "nbformat_minor": 2
}
