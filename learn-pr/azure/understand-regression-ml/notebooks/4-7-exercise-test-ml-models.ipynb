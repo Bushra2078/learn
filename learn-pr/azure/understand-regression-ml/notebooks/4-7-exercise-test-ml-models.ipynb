{
 "cells": [
  {
   "cell_type": "markdown",
   "id": "edd76bd1",
   "metadata": {},
   "source": [
    "# Exercise: Fitting a Polynomial Curve"
   ]
  },
  {
   "cell_type": "markdown",
   "id": "70d0b5f9",
   "metadata": {},
   "source": [
    "In this exercise, we will have a look at a different type of regression called _polynomial regression_.\n",
    "In contrast to _linear regression_ which models relationships as straight lines, _polynomial regression_ models relationships as curves.\n",
    "\n",
    "Recall in our previous exercise how the relationship between `core_temperature` and `protein_content_of_last_meal` could not be properly explained using a straight line. In this exercise, we will use _polynomial regression_ to fit a curve to the data instead.\n",
    "\n",
    "## Data visualisation\n",
    "\n",
    "Let's start this exercise by loading in and having a look at our data."
   ]
  },
  {
   "cell_type": "code",
   "execution_count": null,
   "id": "4eec3f24",
   "metadata": {
    "scrolled": true
   },
   "outputs": [],
   "source": [
    "import pandas\n",
    "!wget https://raw.githubusercontent.com/MicrosoftDocs/mslearn-introduction-to-machine-learning/main/graphing.py\n",
    "!wget https://raw.githubusercontent.com/MicrosoftDocs/mslearn-introduction-to-machine-learning/main/Data/doggy-illness.csv\n",
    "\n",
    "#Import the data from the .csv file\n",
    "dataset = pandas.read_csv('doggy-illness.csv', delimiter=\"\\t\")\n",
    "\n",
    "#Let's have a look at the data\n",
    "dataset"
   ]
  },
  {
   "cell_type": "markdown",
   "id": "774c01eb",
   "metadata": {},
   "source": [
    "# Simple Linear Regression\n",
    "\n",
    "Let's quickly jog our memory by performing the same _simple linear regression_ as we did in the previous exercise using the `temperature` and `protein_content_of_last_meal` columns of the dataset. \n"
   ]
  },
  {
   "cell_type": "code",
   "execution_count": null,
   "id": "d6a82f68",
   "metadata": {},
   "outputs": [],
   "source": [
    "import statsmodels.formula.api as smf\n",
    "import graphing # custom graphing code. See our GitHub repo for details\n",
    "\n",
    "# Perform linear regression. This method takes care of\n",
    "# the entire fitting procedure for us.\n",
    "simple_formula = \"core_temperature ~ protein_content_of_last_meal\"\n",
    "simple_model = smf.ols(formula = simple_formula, data = dataset).fit()\n",
    "\n",
    "# Show a graph of the result\n",
    "graphing.scatter_2D(dataset, label_x=\"protein_content_of_last_meal\", \n",
    "                             label_y=\"core_temperature\",\n",
    "                             trendline=lambda x: simple_model.params[1] * x + simple_model.params[0])\n"
   ]
  },
  {
   "cell_type": "markdown",
   "id": "f8864599",
   "metadata": {},
   "source": [
    "Notice how the relationship between the two variables is not truly linear. Looking at the plot, it is fairly clear to see that the points tend more heavily towards one side of the line, especially for the higher `core-temperature` and `protein_content_of_last_meal` values. \n",
    "A straight line might not be the best way to describe this relationship.\n",
    "\n",
    "Let's have a quick look at the model's R<sup>2</sup> score:"
   ]
  },
  {
   "cell_type": "code",
   "execution_count": null,
   "id": "d197da30",
   "metadata": {},
   "outputs": [],
   "source": [
    "print(\"R-squared:\", simple_model.rsquared)"
   ]
  },
  {
   "cell_type": "markdown",
   "id": "6402480c",
   "metadata": {},
   "source": [
    "That is quite a reasonable R<sup>2</sup> score, but let's see if we can get an even better one!\n",
    "\n",
    "## Simple Polynomial Regression\n",
    "\n",
    "Let's fit a _simple polynomial regression_ this time. Similarly to a _simple linear regression_, a _simple polynomial regression_ models the relationship between a label and a single feature. Unlike a _simple linear regression_, a _simple polynomial regression_ can explain relationships that are not simply straight lines. \n",
    "\n",
    "In our example, we are going to use a three parameter polynomial."
   ]
  },
  {
   "cell_type": "code",
   "execution_count": null,
   "id": "8f4f0423",
   "metadata": {},
   "outputs": [],
   "source": [
    "# Perform polynomial regression. This method takes care of\n",
    "# the entire fitting procedure for us.\n",
    "polynomial_formula = \"core_temperature ~ protein_content_of_last_meal + I(protein_content_of_last_meal**2)\"\n",
    "polynomial_model = smf.ols(formula = polynomial_formula, data = dataset).fit()\n",
    "\n",
    "# Show a graph of the result\n",
    "graphing.scatter_2D(dataset, label_x=\"protein_content_of_last_meal\", \n",
    "                             label_y=\"core_temperature\",\n",
    "                             # Our trendline is the equation for the polynomial\n",
    "                             trendline=lambda x: polynomial_model.params[2] * x**2 + polynomial_model.params[1] * x + polynomial_model.params[0])\n"
   ]
  },
  {
   "cell_type": "markdown",
   "id": "1378c578",
   "metadata": {},
   "source": [
    "That looks a lot better already. Let's confirm by having a quick look at the R<sup>2</sup> score:"
   ]
  },
  {
   "cell_type": "code",
   "execution_count": null,
   "id": "039450ad",
   "metadata": {},
   "outputs": [],
   "source": [
    "print(\"R-squared:\", polynomial_model.rsquared)"
   ]
  },
  {
   "cell_type": "markdown",
   "id": "334a71ce",
   "metadata": {},
   "source": [
    "That's a better R<sup>2</sup> score than the one obtained from the previous model - great! We can now confidently tell our vet to prioritize dogs who ate a high protein diet the night before. \n",
    "\n",
    "## Extrapolating\n",
    "\n",
    "Let's see what happens if we extroplate our data. We would like to see if dogs that ate meals even higher in protein are expected to get even sicker.\n",
    "\n",
    "Let's start with the _linear regression_. We can set what range we would like to extrapolate our data over by using the `x_range` argument in the plotting function. Let's extrapolate over the range `[0,100]`:\n"
   ]
  },
  {
   "cell_type": "code",
   "execution_count": null,
   "id": "3ff91978",
   "metadata": {},
   "outputs": [],
   "source": [
    "# Show an extrapolated graph of the linear model\n",
    "graphing.scatter_2D(dataset, label_x=\"protein_content_of_last_meal\", \n",
    "                             label_y=\"core_temperature\",\n",
    "                             # We extrapolate over the following range\n",
    "                             x_range = [0,100],\n",
    "                             trendline=lambda x: simple_model.params[1] * x + simple_model.params[0])\n"
   ]
  },
  {
   "cell_type": "markdown",
   "id": "69de5c82",
   "metadata": {},
   "source": [
    "Next, we extrapolate the _polynomial regression_ over the same range:"
   ]
  },
  {
   "cell_type": "code",
   "execution_count": null,
   "id": "e494f199",
   "metadata": {},
   "outputs": [],
   "source": [
    "# Show an extrapolated graph of the polynomial model\n",
    "graphing.scatter_2D(dataset, label_x=\"protein_content_of_last_meal\", \n",
    "                             label_y=\"core_temperature\",\n",
    "                             # We extrapolate over the following range\n",
    "                             x_range = [0,100],\n",
    "                             trendline=lambda x: polynomial_model.params[2] * x**2 + polynomial_model.params[1] * x + polynomial_model.params[0])\n"
   ]
  },
  {
   "cell_type": "markdown",
   "id": "e7b6a979",
   "metadata": {},
   "source": [
    "These two graphs predict two very different things!\n",
    "\n",
    "The extrapolated _polynolmial regression_ expects `core_temperature` to go down, while the extrapolated _linear regression_ expects linear expects `core_temperature` to go up.\n",
    "A quick look at the graphs obtained in the previous exercise confirms that we should expect the `core_temeprature` to be rising as the `protein_content_of_last_meal` increases, not falling.\n",
    "\n",
    "In general, it's not recommended to extrapolate from a _polynomial regression_ unless you have an a-priori reason do so (which is only very rarely the case, so it is best to err on the side of caution, and never extrapolate from  _polynomial regressions_!)\n",
    "\n",
    "## Summary\n",
    "\n",
    "We covered the following concepts in this exercise:\n",
    "\n",
    "- Build _simple linear regression_ and _simple polynomial regression_ models.\n",
    "- Compare the performance of both models by plotting them, and looking at R<sup>2</sup> values.\n",
    "- Extrapolated the models over a wider range of values."
   ]
  }
 ],
"metadata": {
  "kernelspec": {
    "name": "conda-env-py37_default-py",
    "language": "python",
    "display_name": "py37_default"
  },
  "language_info": {
    "name": "python",
    "version": "3.7.9",
    "mimetype": "text/x-python",
    "codemirror_mode": {
      "name": "ipython",
      "version": 3
    },
    "pygments_lexer": "ipython3",
    "nbconvert_exporter": "python",
    "file_extension": ".py"
  },
  "kernel_info": {
    "name": "conda-env-py37_default-py"
  },
  "nteract": {
    "version": "nteract-front-end@1.0.0"
  }
 },
 "nbformat": 4,
 "nbformat_minor": 5
}
