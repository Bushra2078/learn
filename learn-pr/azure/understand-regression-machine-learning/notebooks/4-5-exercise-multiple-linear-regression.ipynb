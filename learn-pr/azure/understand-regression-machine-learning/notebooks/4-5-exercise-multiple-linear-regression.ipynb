{
 "cells": [
  {
   "cell_type": "markdown",
   "metadata": {},
   "source": [
    "# Exercise: Train a multiple linear regression model\n",
    "In this exercise, we'll train both a simple linear regression model and a multiple linear regression model, and compare their performance using R-Squared.\n",
    "\n",
    "## Loading data\n",
    "Let's start by having a look at our data."
   ]
  },
  {
   "cell_type": "code",
   "execution_count": null,
   "metadata": {},
   "outputs": [],
   "source": [
    "import pandas\n",
    "!pip install statsmodels\n",
    "!wget https://raw.githubusercontent.com/MicrosoftDocs/mslearn-introduction-to-machine-learning/main/graphing.py\n",
    "!wget https://raw.githubusercontent.com/MicrosoftDocs/mslearn-introduction-to-machine-learning/main/Data/doggy-illness.csv\n",
    "\n",
    "#Import the data from the .csv file\n",
    "dataset = pandas.read_csv('doggy-illness.csv', delimiter=\"\\t\")\n",
    "\n",
    "#Let's have a look at the data\n",
    "dataset"
   ]
  },
  {
   "cell_type": "markdown",
   "metadata": {},
   "source": [
    "For this exercise we'll try to predict `core_temperature` from some of the other available features. \n",
    "\n",
    "## Data visualization\n",
    "Let's quickly eyeball which features seem to have some kind of relationship with `core_temperature`"
   ]
  },
  {
   "cell_type": "code",
   "execution_count": null,
   "metadata": {},
   "outputs": [],
   "source": [
    "import graphing # Custom graphing code that uses Plotly. See our GitHub repository for details\n",
    "\n",
    "graphing.box_and_whisker(dataset, \"male\", \"core_temperature\", show=True)\n",
    "graphing.box_and_whisker(dataset, \"attended_training\", \"core_temperature\", show=True)\n",
    "graphing.box_and_whisker(dataset, \"ate_at_tonys_steakhouse\", \"core_temperature\", show=True)\n",
    "graphing.scatter_2D(dataset, \"body_fat_percentage\", \"core_temperature\", show=True)\n",
    "graphing.scatter_2D(dataset, \"protein_content_of_last_meal\", \"core_temperature\", show=True)\n",
    "graphing.scatter_2D(dataset, \"age\", \"core_temperature\")"
   ]
  },
  {
   "cell_type": "markdown",
   "metadata": {},
   "source": [
    "At a glance, fatter, older, and male dogs seem to more commonly have higher temperatures than thinner, younger, or female dogs. Dogs who ate a lot of protein last night also seem to be more unwell. The other features don't seem particularly useful.\n",
    "\n",
    "## Simple linear regression\n",
    "\n",
    "Let's try to predict `core_temperature` using simple linear regression, and note the R-Squared for these relationships."
   ]
  },
  {
   "cell_type": "code",
   "execution_count": null,
   "metadata": {},
   "outputs": [],
   "source": [
    "import statsmodels.formula.api as smf\n",
    "import graphing # custom graphing code. See our GitHub repo for details\n",
    "\n",
    "for feature in [\"male\", \"age\", \"protein_content_of_last_meal\", \"body_fat_percentage\"]:\n",
    "    # Perform linear regression. This method takes care of\n",
    "    # the entire fitting procedure for us.\n",
    "    formula = \"core_temperature ~ \" + feature\n",
    "    simple_model = smf.ols(formula = formula, data = dataset).fit()\n",
    "\n",
    "    print(feature)\n",
    "    print(\"R-squared:\", simple_model.rsquared)\n",
    "    \n",
    "    # Show a graph of the result\n",
    "    graphing.scatter_2D(dataset, label_x=feature, \n",
    "                                 label_y=\"core_temperature\",\n",
    "                                 title = feature,\n",
    "                                 trendline=lambda x: simple_model.params[1] * x + simple_model.params[0],\n",
    "                                 show=True)"
   ]
  },
  {
   "cell_type": "markdown",
   "metadata": {},
   "source": [
    "Scrolling through these graphs, we get R-square values of 0.0002 (`body_fat_percentage`), 0.1 (`male`), and 0.26 (`age`).\n",
    "\n",
    "While `protein_content_of_last_meal` looks very promising too, the relationship looks curved, not linear. We'll leave this feature for now and come back to it in the next exercise."
   ]
  },
  {
   "cell_type": "markdown",
   "metadata": {},
   "source": [
    "## R-Squared\n",
    "\n",
    "We've shown the R-Squared value for these models and used it as a measure of 'correctness' for our regression, but what is it?\n",
    "\n",
    "Intuitively, we can think of R-Squared as ratio for how much better our regression line is than a naive regression that just goes straight through the mean of all examples. \n",
    "Roughly, the R-Squared is calculated by taking the loss/error of the trained model, and dividing by the loss/error of the naive model. That gives a range where `0` is better and `1` is worse, so the whole thing is subtracted from `1` to flip those results.\n",
    "\n",
    "Below, we once again show the scatter plot with `age` and `core_temperature`, but this time, we show two regression lines. The first is the naive line that just goes straight through the mean. This has an R-Squared of `0` (since it's no better than itself). An R-Squared of `1` would be a line that fit each training example perfectly. The second plot shows our trained regression line and we once again see its R-Squared."
   ]
  },
  {
   "cell_type": "code",
   "execution_count": null,
   "metadata": {},
   "outputs": [],
   "source": [
    "formula = \"core_temperature ~ age\"\n",
    "age_trained_model = smf.ols(formula = formula, data = dataset).fit()\n",
    "age_naive_model = smf.ols(formula = formula, data = dataset).fit()\n",
    "age_naive_model.params[0] = dataset['core_temperature'].mean()\n",
    "age_naive_model.params[1] = 0\n",
    "\n",
    "print(\"naive R-squared:\", age_naive_model.rsquared)\n",
    "print(\"trained R-squared:\", age_trained_model.rsquared)\n",
    "\n",
    "# Show a graph of the result\n",
    "graphing.scatter_2D(dataset, label_x=\"age\", \n",
    "                                label_y=\"core_temperature\",\n",
    "                                title = \"Naive model\",\n",
    "                                trendline=lambda x: dataset['core_temperature'].repeat(len(x)), \n",
    "                                show=True)\n",
    "# Show a graph of the result\n",
    "graphing.scatter_2D(dataset, label_x=\"age\", \n",
    "                                label_y=\"core_temperature\",\n",
    "                                title = \"Trained model\",\n",
    "                                trendline=lambda x: age_trained_model.params[1] * x + age_trained_model.params[0])\n",
    "\n"
   ]
  },
  {
   "cell_type": "markdown",
   "metadata": {},
   "source": [
    "## Multiple Linear Regression\n",
    "\n",
    "Instead of modelling these separately, lets try to combine these into a single model. Body fat didn't seem to be useful after all, so let's just use `male` and `age` as features."
   ]
  },
  {
   "cell_type": "code",
   "execution_count": null,
   "metadata": {},
   "outputs": [],
   "source": [
    "model = smf.ols(formula = \"core_temperature ~ age + male\", data = dataset).fit()\n",
    "\n",
    "print(\"R-squared:\", model.rsquared)"
   ]
  },
  {
   "cell_type": "markdown",
   "metadata": {},
   "source": [
    "By using both features at the same time, we got a better result than any of the one-feature (univariate) models.\n",
    "\n",
    "How can we view this though? Well, a simple linear regression is drawn in 2d. If we are working with an extra variable, we add one dimension and work in 3D. \n"
   ]
  },
  {
   "cell_type": "code",
   "execution_count": null,
   "metadata": {},
   "outputs": [],
   "source": [
    "import numpy as np\n",
    "# Show a graph of the result\n",
    "# this needs to be 3D, because we now have three variables in play: two features and one label\n",
    "\n",
    "def predict(age, male):\n",
    "    '''\n",
    "    This converts given age and male values into a prediction from the model\n",
    "    '''\n",
    "    # to make a prediction with statsmodels, we need to provide a dataframe\n",
    "    # so create a dataframe with just the age and male variables\n",
    "    df = pandas.DataFrame(dict(age=[age], male=[male]))\n",
    "    return model.predict(df)\n",
    "\n",
    "# Create the surface graph\n",
    "fig = graphing.surface(\n",
    "    x_values=np.array([min(dataset.age), max(dataset.age)]),\n",
    "    y_values=np.array([0, 1]),\n",
    "    calc_z=predict,\n",
    "    axis_title_x=\"Age\",\n",
    "    axis_title_y=\"Male\",\n",
    "    axis_title_z=\"Core temperature\"\n",
    ")\n",
    "\n",
    "# Add our datapoints to it and display\n",
    "fig.add_scatter3d(x=dataset.age, y=dataset.male, z=dataset.core_temperature, mode='markers')\n",
    "fig.show()"
   ]
  },
  {
   "cell_type": "markdown",
   "metadata": {},
   "source": [
    "The graph above is interactive. Try rotating it to see how the model (shown as a solid plane) would predict core temperature from different combinations of age and sex.\n",
    "\n",
    "### Inspecting our model\n",
    "\n",
    "When we have more than two features, it becomes very difficult to visualise these models. We usually have to look at the parameters directly. Let's do that now. _Statsmodels_, one of the common machine learning and statistics libraries, provides a `summary()` method which provides information about our model.    "
   ]
  },
  {
   "cell_type": "code",
   "execution_count": null,
   "metadata": {},
   "outputs": [],
   "source": [
    "# Print summary information\n",
    "model.summary()"
   ]
  },
  {
   "cell_type": "markdown",
   "metadata": {},
   "source": [
    "If we look at the top right hand corner, we can see our R-squared statistic that we printed out earlier.\n",
    "\n",
    "Slightly down and to the left, we can also see information about the data we trained our model on. For example, we can see that we trained it on 98 observations (`No. Observations`).\n",
    "\n",
    "Below this we find information about our parameters, in a column called `coef` (which stands for _coefficients_, a synonym for parameters in machine learning). Here we can see the intercept was about `38` - meaning that the model predicts a core temperature of 38 for a dog with `age=0` and `male=0`. Below this we see the parameter for age is 0.14, meaning that for each additional year of age, the predicted temperature would rise 0.14 degrees celsius. For `male`, we can see a parameter of 0.32, meaning that the model estimates all dogs (i.e. where `male == 1`) to have temperatures 0.32 degrees celsius higher than female dogs (i.e. where `male == 0`).\n",
    "\n",
    "Although we don't have space here to go into detail, the `P` column is also very useful. This tells us how confident the model is about this parameter value. As a rule of thumb, if the p value is less than 0.05, there is a good chance that this relationship if trustable. For example, here both `age` and `male` are less than 0.05, so we should feel confident using this model in the real world.\n",
    "\n",
    "As a final exercise, lets do the same thing with our earlier simple linear regression model, relating `age` to `core_temperature`. Read through the table below and see what you can make out from this model. "
   ]
  },
  {
   "cell_type": "code",
   "execution_count": null,
   "metadata": {},
   "outputs": [],
   "source": [
    "age_trained_model.summary()"
   ]
  },
  {
   "cell_type": "markdown",
   "metadata": {},
   "source": [
    "## Summary\n",
    "We covered the following concepts in this exercise:\n",
    "\n",
    "- Build Simple and Multiple Linear Regression Models.\n",
    "- Compare the performance of both models by looking at R-Squared values.\n",
    "- Inspected models to understand how they work."
   ]
  }
 ],
 "metadata": {
  "kernel_info": {
   "name": "conda-env-azureml_py38-py"
  },
  "kernelspec": {
   "display_name": "py38_default",
   "language": "python",
   "name": "conda-env-azureml_py38-py"
  },
  "language_info": {
   "codemirror_mode": {
    "name": "ipython",
    "version": 3
   },
   "file_extension": ".py",
   "mimetype": "text/x-python",
   "name": "python",
   "nbconvert_exporter": "python",
   "pygments_lexer": "ipython3",
   "version": "3.7.9"
  },
  "nteract": {
   "version": "nteract-front-end@1.0.0"
  },
  "vscode": {
   "interpreter": {
    "hash": "2a35a5d7a1695c145f6d485f5528d9f0e062df43578e4fcb0dcb8fc15dd48b38"
   }
  }
 },
 "nbformat": 4,
 "nbformat_minor": 5
}
