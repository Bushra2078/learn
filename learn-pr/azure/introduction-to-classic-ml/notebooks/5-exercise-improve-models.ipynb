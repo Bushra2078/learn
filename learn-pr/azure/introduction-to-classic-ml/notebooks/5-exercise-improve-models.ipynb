{
 "cells": [
  {
   "cell_type": "markdown",
   "id": "6aee698d",
   "metadata": {},
   "source": [
    "# Exercise: Linear regression using different cost functions\n",
    "\n",
    "Previously, we have fit some simple models using what is called Ordinary Least-Squares (OLS) Linear Regression. OLS refers to the way that the best model is chosen, which ultimately is dictated by its cost function.\n",
    "\n",
    "Cost functions can be changed though, depending on the user's needs. \n",
    "\n",
    "In this exercise, we will have a deeper look at how cost functions can change:\n",
    "\n",
    "1. how well models appear to have fit data\n",
    "2. the kinds of relationships a model represents\n",
    "\n",
    "## Loading the data\n",
    "\n",
    "Let's start by having a look at the data. To make this exercise simpler, we will only use a few datapoints this time."
   ]
  },
  {
   "cell_type": "code",
   "execution_count": 4,
   "metadata": {},
   "outputs": [
    {
     "output_type": "execute_result",
     "data": {
      "text/plain": [
       "            date  amount_of_precipitation  max_temperature  min_temperature  \\\n",
       "762   1950-02-01                     0.00               27                1   \n",
       "4414  1960-02-01                     0.15               52               44   \n",
       "8067  1970-02-01                     0.00               50               42   \n",
       "11719 1980-02-01                     0.37               54               36   \n",
       "15372 1990-02-01                     0.08               45               37   \n",
       "19024 2000-02-01                     1.34               49               41   \n",
       "22677 2010-02-01                     0.08               49               40   \n",
       "25234 2017-02-01                     0.00               43               29   \n",
       "\n",
       "        rain         year  \n",
       "762    False  1950.087611  \n",
       "4414    True  1960.087611  \n",
       "8067   False  1970.087611  \n",
       "11719   True  1980.087611  \n",
       "15372   True  1990.087611  \n",
       "19024   True  2000.087611  \n",
       "22677   True  2010.087611  \n",
       "25234  False  2017.087611  "
      ],
      "text/html": "<div>\n<style scoped>\n    .dataframe tbody tr th:only-of-type {\n        vertical-align: middle;\n    }\n\n    .dataframe tbody tr th {\n        vertical-align: top;\n    }\n\n    .dataframe thead th {\n        text-align: right;\n    }\n</style>\n<table border=\"1\" class=\"dataframe\">\n  <thead>\n    <tr style=\"text-align: right;\">\n      <th></th>\n      <th>date</th>\n      <th>amount_of_precipitation</th>\n      <th>max_temperature</th>\n      <th>min_temperature</th>\n      <th>rain</th>\n      <th>year</th>\n    </tr>\n  </thead>\n  <tbody>\n    <tr>\n      <th>762</th>\n      <td>1950-02-01</td>\n      <td>0.00</td>\n      <td>27</td>\n      <td>1</td>\n      <td>False</td>\n      <td>1950.087611</td>\n    </tr>\n    <tr>\n      <th>4414</th>\n      <td>1960-02-01</td>\n      <td>0.15</td>\n      <td>52</td>\n      <td>44</td>\n      <td>True</td>\n      <td>1960.087611</td>\n    </tr>\n    <tr>\n      <th>8067</th>\n      <td>1970-02-01</td>\n      <td>0.00</td>\n      <td>50</td>\n      <td>42</td>\n      <td>False</td>\n      <td>1970.087611</td>\n    </tr>\n    <tr>\n      <th>11719</th>\n      <td>1980-02-01</td>\n      <td>0.37</td>\n      <td>54</td>\n      <td>36</td>\n      <td>True</td>\n      <td>1980.087611</td>\n    </tr>\n    <tr>\n      <th>15372</th>\n      <td>1990-02-01</td>\n      <td>0.08</td>\n      <td>45</td>\n      <td>37</td>\n      <td>True</td>\n      <td>1990.087611</td>\n    </tr>\n    <tr>\n      <th>19024</th>\n      <td>2000-02-01</td>\n      <td>1.34</td>\n      <td>49</td>\n      <td>41</td>\n      <td>True</td>\n      <td>2000.087611</td>\n    </tr>\n    <tr>\n      <th>22677</th>\n      <td>2010-02-01</td>\n      <td>0.08</td>\n      <td>49</td>\n      <td>40</td>\n      <td>True</td>\n      <td>2010.087611</td>\n    </tr>\n    <tr>\n      <th>25234</th>\n      <td>2017-02-01</td>\n      <td>0.00</td>\n      <td>43</td>\n      <td>29</td>\n      <td>False</td>\n      <td>2017.087611</td>\n    </tr>\n  </tbody>\n</table>\n</div>"
     },
     "metadata": {},
     "execution_count": 4
    }
   ],
   "source": [
    "import pandas\n",
    "from datetime import datetime\n",
    "\n",
    "# Load a file containing our weather data\n",
    "dataset = pandas.read_csv('Data/seattleWeather_1948-2017.csv', parse_dates=['date'])\n",
    "\n",
    "# Convert the dates into numbers so we can use it in our models\n",
    "# We make a year column which can contain fractions. For example\n",
    "# 1948.5 is half way through the year 1948\n",
    "dataset[\"year\"] = [(d.year + d.timetuple().tm_yday / 365.25) for d in dataset.date]\n",
    "\n",
    "\n",
    "# For the sake of this exercise, let's look at Feb 1st for the following years:\n",
    "desired_dates = [\n",
    "    datetime(1950,2,1),\n",
    "    datetime(1960,2,1),\n",
    "    datetime(1970,2,1),\n",
    "    datetime(1980,2,1),\n",
    "    datetime(1990,2,1),\n",
    "    datetime(2000,2,1),\n",
    "    datetime(2010,2,1),\n",
    "    datetime(2017,2,1),\n",
    "]\n",
    "\n",
    "dataset = dataset[dataset.date.isin(desired_dates)].copy()\n",
    "\n",
    "# Print the dataset\n",
    "dataset\n"
   ]
  },
  {
   "cell_type": "markdown",
   "id": "ddecb338",
   "metadata": {},
   "source": [
    "## First method: Ordinary Least Squares Regression\n",
    "\n",
    "The first method we'll look at is called _Ordinary Least Squares (OLS) Regression_. This is the most common method for linear regressions. \n",
    "\n",
    "It works by minimizing the residual sum of squares between the actual and predicted labels of the dataset. In other words, it calculates the difference between each predicted value with the expected value, squares that difference, and sums or averages the result. It aims to make this final value as small as possible.\n",
    "\n",
    "As this method works with squared differences, points that are outliers (deviate from the normal trend) will influence the fitting procedure much more than those that are more 'typical'. \n",
    "\n",
    "OLS is built into many machine learning packages. Here, we will use a custom implementation which provides more flexibility, so we can contrast the result with other cost functions later.\n",
    "\n",
    "Read the code carefully below to understand the fitting and assessment procedure."
   ]
  },
  {
   "cell_type": "code",
   "execution_count": 7,
   "id": "58a56759",
   "metadata": {},
   "outputs": [
    {
     "output_type": "stream",
     "name": "stdout",
     "text": [
      "MSE Ordinary Least Squares: 147.49019906534954\nMAD, Ordinary Least Squares: 9.25061456833484\n"
     ]
    },
    {
     "output_type": "display_data",
     "data": {
      "application/vnd.plotly.v1+json": {
       "config": {
        "plotlyServerURL": "https://plot.ly"
       },
       "data": [
        {
         "hovertemplate": "year=%{x}<br>min temperature=%{y}<extra></extra>",
         "legendgroup": "",
         "marker": {
          "color": "#636efa",
          "size": 20,
          "symbol": "circle"
         },
         "mode": "markers",
         "name": "",
         "orientation": "v",
         "showlegend": false,
         "type": "scatter",
         "x": [
          1950.0876112251883,
          1960.0876112251883,
          1970.0876112251883,
          1980.0876112251883,
          1990.0876112251883,
          2000.0876112251883,
          2010.0876112251883,
          2017.0876112251883
         ],
         "xaxis": "x",
         "y": [
          1,
          44,
          42,
          36,
          37,
          41,
          40,
          29
         ],
         "yaxis": "y"
        }
       ],
       "layout": {
        "legend": {
         "tracegroupgap": 0
        },
        "shapes": [
         {
          "line": {
           "color": "Crimson"
          },
          "path": "M1950.0876112251883 26.093299044713035 L 1950.4242946422737 26.167750548644904 L 1950.760978059359 26.242202052576772 L 1951.0976614764445 26.316653556508697 L 1951.4343448935301 26.391105060440566 L 1951.7710283106155 26.465556564372434 L 1952.107711727701 26.540008068304303 L 1952.4443951447863 26.61445957223623 L 1952.7810785618717 26.688911076168097 L 1953.117761978957 26.763362580099965 L 1953.4544453960425 26.837814084031834 L 1953.791128813128 26.912265587963702 L 1954.1278122302135 26.986717091895628 L 1954.464495647299 27.061168595827496 L 1954.8011790643843 27.135620099759365 L 1955.1378624814697 27.210071603691233 L 1955.474545898555 27.2845231076231 L 1955.8112293156405 27.35897461155497 L 1956.147912732726 27.43342611548684 L 1956.4845961498115 27.507877619418764 L 1956.821279566897 27.582329123350632 L 1957.1579629839823 27.6567806272825 L 1957.4946464010677 27.73123213121437 L 1957.831329818153 27.805683635146238 L 1958.1680132352385 27.880135139078106 L 1958.504696652324 27.954586643009975 L 1958.8413800694095 28.0290381469419 L 1959.178063486495 28.10348965087377 L 1959.5147469035803 28.177941154805637 L 1959.8514303206657 28.252392658737506 L 1960.188113737751 28.326844162669374 L 1960.5247971548365 28.401295666601243 L 1960.861480571922 28.47574717053311 L 1961.1981639890073 28.55019867446498 L 1961.534847406093 28.624650178396905 L 1961.8715308231783 28.699101682328774 L 1962.2082142402637 28.773553186260642 L 1962.544897657349 28.84800469019251 L 1962.8815810744345 28.92245619412438 L 1963.21826449152 28.996907698056248 L 1963.5549479086053 29.071359201988116 L 1963.891631325691 29.14581070592004 L 1964.2283147427763 29.22026220985191 L 1964.5649981598617 29.29471371378378 L 1964.901681576947 29.369165217715647 L 1965.2383649940325 29.443616721647516 L 1965.575048411118 29.518068225579384 L 1965.9117318282033 29.592519729511253 L 1966.248415245289 29.666971233443178 L 1966.5850986623743 29.741422737375046 L 1966.9217820794597 29.815874241306915 L 1967.258465496545 29.890325745238783 L 1967.5951489136305 29.964777249170652 L 1967.931832330716 30.03922875310252 L 1968.2685157478013 30.11368025703439 L 1968.6051991648867 30.188131760966257 L 1968.9418825819723 30.262583264898183 L 1969.2785659990577 30.33703476883005 L 1969.6152494161431 30.41148627276192 L 1969.9519328332285 30.48593777669379 L 1970.288616250314 30.560389280625657 L 1970.6252996673993 30.634840784557525 L 1970.9619830844847 30.709292288489394 L 1971.2986665015703 30.78374379242132 L 1971.6353499186557 30.858195296353188 L 1971.9720333357411 30.932646800285056 L 1972.3087167528265 31.007098304216925 L 1972.645400169912 31.081549808148793 L 1972.9820835869973 31.15600131208066 L 1973.3187670040827 31.23045281601253 L 1973.655450421168 31.3049043199444 L 1973.9921338382537 31.379355823876324 L 1974.3288172553391 31.453807327808192 L 1974.6655006724245 31.52825883174006 L 1975.00218408951 31.60271033567193 L 1975.3388675065953 31.677161839603855 L 1975.6755509236807 31.751613343535723 L 1976.012234340766 31.826064847467592 L 1976.3489177578517 31.90051635139946 L 1976.6856011749371 31.974967855331386 L 1977.0222845920225 32.049419359263254 L 1977.358968009108 32.12387086319512 L 1977.6956514261933 32.19832236712699 L 1978.0323348432787 32.27277387105886 L 1978.369018260364 32.34722537499073 L 1978.7057016774497 32.42167687892265 L 1979.0423850945351 32.49612838285452 L 1979.3790685116205 32.57057988678639 L 1979.715751928706 32.64503139071826 L 1980.0524353457913 32.71948289465013 L 1980.3891187628767 32.793934398581996 L 1980.725802179962 32.868385902513864 L 1981.0624855970475 32.94283740644573 L 1981.3991690141331 33.01728891037766 L 1981.7358524312185 33.09174041430953 L 1982.072535848304 33.166191918241395 L 1982.4092192653893 33.240643422173264 L 1982.7459026824747 33.31509492610513 L 1983.08258609956 33.389546430037 L 1983.4192695166455 33.46399793396887 L 1983.7559529337311 33.538449437900795 L 1984.0926363508165 33.61290094183266 L 1984.429319767902 33.68735244576453 L 1984.7660031849873 33.7618039496964 L 1985.1026866020727 33.83625545362827 L 1985.439370019158 33.91070695756014 L 1985.7760534362435 33.985158461492006 L 1986.1127368533291 34.05960996542393 L 1986.4494202704145 34.1340614693558 L 1986.7861036875 34.20851297328767 L 1987.1227871045853 34.28296447721954 L 1987.4594705216707 34.357415981151405 L 1987.796153938756 34.43186748508327 L 1988.1328373558415 34.50631898901514 L 1988.469520772927 34.58077049294701 L 1988.8062041900125 34.655221996878936 L 1989.142887607098 34.729673500810804 L 1989.4795710241833 34.80412500474267 L 1989.8162544412687 34.87857650867454 L 1990.152937858354 34.95302801260641 L 1990.4896212754395 35.02747951653828 L 1990.826304692525 35.10193102047015 L 1991.1629881096105 35.17638252440207 L 1991.499671526696 35.25083402833394 L 1991.8363549437813 35.32528553226581 L 1992.1730383608667 35.39973703619768 L 1992.509721777952 35.474188540129546 L 1992.8464051950375 35.548640044061415 L 1993.183088612123 35.62309154799328 L 1993.5197720292085 35.69754305192521 L 1993.856455446294 35.77199455585708 L 1994.1931388633793 35.846446059788946 L 1994.5298222804647 35.920897563720814 L 1994.86650569755 35.99534906765268 L 1995.2031891146355 36.06980057158455 L 1995.539872531721 36.14425207551642 L 1995.8765559488063 36.21870357944829 L 1996.213239365892 36.29315508338021 L 1996.5499227829773 36.36760658731208 L 1996.8866062000627 36.44205809124395 L 1997.223289617148 36.51650959517582 L 1997.5599730342335 36.59096109910769 L 1997.896656451319 36.665412603039556 L 1998.2333398684043 36.73986410697148 L 1998.57002328549 36.81431561090335 L 1998.9067067025753 36.88876711483522 L 1999.2433901196607 36.96321861876709 L 1999.580073536746 37.03767012269901 L 1999.9167569538315 37.11212162663088 L 2000.253440370917 37.18657313056275 L 2000.5901237880023 37.26102463449462 L 2000.9268072050877 37.335476138426486 L 2001.2634906221733 37.40992764235841 L 2001.6001740392587 37.48437914629028 L 2001.9368574563441 37.55883065022215 L 2002.2735408734295 37.63328215415402 L 2002.610224290515 37.707733658085886 L 2002.9469077076003 37.782185162017754 L 2003.2835911246857 37.85663666594962 L 2003.6202745417713 37.93108816988155 L 2003.9569579588567 38.005539673813416 L 2004.2936413759421 38.079991177745285 L 2004.6303247930275 38.15444268167715 L 2004.967008210113 38.22889418560902 L 2005.3036916271983 38.30334568954089 L 2005.6403750442837 38.37779719347276 L 2005.9770584613693 38.452248697404684 L 2006.3137418784547 38.52670020133655 L 2006.6504252955401 38.60115170526842 L 2006.9871087126255 38.67560320920029 L 2007.323792129711 38.75005471313216 L 2007.6604755467963 38.82450621706403 L 2007.9971589638817 38.898957720995895 L 2008.333842380967 38.973409224927764 L 2008.6705257980527 39.04786072885969 L 2009.0072092151381 39.12231223279156 L 2009.3438926322235 39.196763736723426 L 2009.680576049309 39.271215240655295 L 2010.0172594663943 39.34566674458716 L 2010.3539428834797 39.42011824851903 L 2010.690626300565 39.4945697524509 L 2011.0273097176507 39.569021256382825 L 2011.3639931347361 39.643472760314694 L 2011.7006765518215 39.71792426424656 L 2012.037359968907 39.79237576817843 L 2012.3740433859923 39.8668272721103 L 2012.7107268030777 39.94127877604217 L 2013.047410220163 40.015730279974036 L 2013.3840936372487 40.09018178390596 L 2013.7207770543341 40.16463328783783 L 2014.0574604714195 40.2390847917697 L 2014.394143888505 40.31353629570157 L 2014.7308273055903 40.387987799633436 L 2015.0675107226757 40.462439303565304 L 2015.404194139761 40.53689080749717 L 2015.7408775568465 40.61134231142904 L 2016.0775609739321 40.68579381536097 L 2016.4142443910175 40.760245319292835 L 2016.750927808103 40.834696823224704 L 2017.0876112251883 40.90914832715657",
          "type": "path"
         }
        ],
        "template": {
         "data": {
          "bar": [
           {
            "error_x": {
             "color": "#2a3f5f"
            },
            "error_y": {
             "color": "#2a3f5f"
            },
            "marker": {
             "line": {
              "color": "white",
              "width": 0.5
             }
            },
            "type": "bar"
           }
          ],
          "barpolar": [
           {
            "marker": {
             "line": {
              "color": "white",
              "width": 0.5
             }
            },
            "type": "barpolar"
           }
          ],
          "box": [
           {
            "boxpoints": "outliers",
            "notched": false,
            "type": "box"
           }
          ],
          "carpet": [
           {
            "aaxis": {
             "endlinecolor": "#2a3f5f",
             "gridcolor": "#C8D4E3",
             "linecolor": "#C8D4E3",
             "minorgridcolor": "#C8D4E3",
             "startlinecolor": "#2a3f5f"
            },
            "baxis": {
             "endlinecolor": "#2a3f5f",
             "gridcolor": "#C8D4E3",
             "linecolor": "#C8D4E3",
             "minorgridcolor": "#C8D4E3",
             "startlinecolor": "#2a3f5f"
            },
            "type": "carpet"
           }
          ],
          "choropleth": [
           {
            "colorbar": {
             "outlinewidth": 0,
             "ticks": ""
            },
            "type": "choropleth"
           }
          ],
          "contour": [
           {
            "colorbar": {
             "outlinewidth": 0,
             "ticks": ""
            },
            "colorscale": [
             [
              0,
              "#0d0887"
             ],
             [
              0.1111111111111111,
              "#46039f"
             ],
             [
              0.2222222222222222,
              "#7201a8"
             ],
             [
              0.3333333333333333,
              "#9c179e"
             ],
             [
              0.4444444444444444,
              "#bd3786"
             ],
             [
              0.5555555555555556,
              "#d8576b"
             ],
             [
              0.6666666666666666,
              "#ed7953"
             ],
             [
              0.7777777777777778,
              "#fb9f3a"
             ],
             [
              0.8888888888888888,
              "#fdca26"
             ],
             [
              1,
              "#f0f921"
             ]
            ],
            "type": "contour"
           }
          ],
          "contourcarpet": [
           {
            "colorbar": {
             "outlinewidth": 0,
             "ticks": ""
            },
            "type": "contourcarpet"
           }
          ],
          "heatmap": [
           {
            "colorbar": {
             "outlinewidth": 0,
             "ticks": ""
            },
            "colorscale": [
             [
              0,
              "#0d0887"
             ],
             [
              0.1111111111111111,
              "#46039f"
             ],
             [
              0.2222222222222222,
              "#7201a8"
             ],
             [
              0.3333333333333333,
              "#9c179e"
             ],
             [
              0.4444444444444444,
              "#bd3786"
             ],
             [
              0.5555555555555556,
              "#d8576b"
             ],
             [
              0.6666666666666666,
              "#ed7953"
             ],
             [
              0.7777777777777778,
              "#fb9f3a"
             ],
             [
              0.8888888888888888,
              "#fdca26"
             ],
             [
              1,
              "#f0f921"
             ]
            ],
            "type": "heatmap"
           }
          ],
          "heatmapgl": [
           {
            "colorbar": {
             "outlinewidth": 0,
             "ticks": ""
            },
            "colorscale": [
             [
              0,
              "#0d0887"
             ],
             [
              0.1111111111111111,
              "#46039f"
             ],
             [
              0.2222222222222222,
              "#7201a8"
             ],
             [
              0.3333333333333333,
              "#9c179e"
             ],
             [
              0.4444444444444444,
              "#bd3786"
             ],
             [
              0.5555555555555556,
              "#d8576b"
             ],
             [
              0.6666666666666666,
              "#ed7953"
             ],
             [
              0.7777777777777778,
              "#fb9f3a"
             ],
             [
              0.8888888888888888,
              "#fdca26"
             ],
             [
              1,
              "#f0f921"
             ]
            ],
            "type": "heatmapgl"
           }
          ],
          "histogram": [
           {
            "marker": {
             "colorbar": {
              "outlinewidth": 0,
              "ticks": ""
             },
             "line": {
              "width": 1
             }
            },
            "type": "histogram"
           }
          ],
          "histogram2d": [
           {
            "colorbar": {
             "outlinewidth": 0,
             "ticks": ""
            },
            "colorscale": [
             [
              0,
              "#0d0887"
             ],
             [
              0.1111111111111111,
              "#46039f"
             ],
             [
              0.2222222222222222,
              "#7201a8"
             ],
             [
              0.3333333333333333,
              "#9c179e"
             ],
             [
              0.4444444444444444,
              "#bd3786"
             ],
             [
              0.5555555555555556,
              "#d8576b"
             ],
             [
              0.6666666666666666,
              "#ed7953"
             ],
             [
              0.7777777777777778,
              "#fb9f3a"
             ],
             [
              0.8888888888888888,
              "#fdca26"
             ],
             [
              1,
              "#f0f921"
             ]
            ],
            "type": "histogram2d"
           }
          ],
          "histogram2dcontour": [
           {
            "colorbar": {
             "outlinewidth": 0,
             "ticks": ""
            },
            "colorscale": [
             [
              0,
              "#0d0887"
             ],
             [
              0.1111111111111111,
              "#46039f"
             ],
             [
              0.2222222222222222,
              "#7201a8"
             ],
             [
              0.3333333333333333,
              "#9c179e"
             ],
             [
              0.4444444444444444,
              "#bd3786"
             ],
             [
              0.5555555555555556,
              "#d8576b"
             ],
             [
              0.6666666666666666,
              "#ed7953"
             ],
             [
              0.7777777777777778,
              "#fb9f3a"
             ],
             [
              0.8888888888888888,
              "#fdca26"
             ],
             [
              1,
              "#f0f921"
             ]
            ],
            "type": "histogram2dcontour"
           }
          ],
          "mesh3d": [
           {
            "colorbar": {
             "outlinewidth": 0,
             "ticks": ""
            },
            "type": "mesh3d"
           }
          ],
          "parcoords": [
           {
            "line": {
             "colorbar": {
              "outlinewidth": 0,
              "ticks": ""
             }
            },
            "type": "parcoords"
           }
          ],
          "pie": [
           {
            "automargin": true,
            "type": "pie"
           }
          ],
          "scatter": [
           {
            "marker": {
             "colorbar": {
              "outlinewidth": 0,
              "ticks": ""
             },
             "opacity": 0.8
            },
            "type": "scatter"
           }
          ],
          "scatter3d": [
           {
            "line": {
             "colorbar": {
              "outlinewidth": 0,
              "ticks": ""
             }
            },
            "marker": {
             "colorbar": {
              "outlinewidth": 0,
              "ticks": ""
             },
             "opacity": 0.8
            },
            "type": "scatter3d"
           }
          ],
          "scattercarpet": [
           {
            "marker": {
             "colorbar": {
              "outlinewidth": 0,
              "ticks": ""
             }
            },
            "type": "scattercarpet"
           }
          ],
          "scattergeo": [
           {
            "marker": {
             "colorbar": {
              "outlinewidth": 0,
              "ticks": ""
             }
            },
            "type": "scattergeo"
           }
          ],
          "scattergl": [
           {
            "marker": {
             "colorbar": {
              "outlinewidth": 0,
              "ticks": ""
             }
            },
            "type": "scattergl"
           }
          ],
          "scattermapbox": [
           {
            "marker": {
             "colorbar": {
              "outlinewidth": 0,
              "ticks": ""
             }
            },
            "type": "scattermapbox"
           }
          ],
          "scatterpolar": [
           {
            "marker": {
             "colorbar": {
              "outlinewidth": 0,
              "ticks": ""
             }
            },
            "type": "scatterpolar"
           }
          ],
          "scatterpolargl": [
           {
            "marker": {
             "colorbar": {
              "outlinewidth": 0,
              "ticks": ""
             }
            },
            "type": "scatterpolargl"
           }
          ],
          "scatterternary": [
           {
            "marker": {
             "colorbar": {
              "outlinewidth": 0,
              "ticks": ""
             }
            },
            "type": "scatterternary"
           }
          ],
          "surface": [
           {
            "colorbar": {
             "outlinewidth": 0,
             "ticks": ""
            },
            "colorscale": [
             [
              0,
              "#0d0887"
             ],
             [
              0.1111111111111111,
              "#46039f"
             ],
             [
              0.2222222222222222,
              "#7201a8"
             ],
             [
              0.3333333333333333,
              "#9c179e"
             ],
             [
              0.4444444444444444,
              "#bd3786"
             ],
             [
              0.5555555555555556,
              "#d8576b"
             ],
             [
              0.6666666666666666,
              "#ed7953"
             ],
             [
              0.7777777777777778,
              "#fb9f3a"
             ],
             [
              0.8888888888888888,
              "#fdca26"
             ],
             [
              1,
              "#f0f921"
             ]
            ],
            "type": "surface"
           }
          ],
          "table": [
           {
            "cells": {
             "fill": {
              "color": "#EBF0F8"
             },
             "line": {
              "color": "white"
             }
            },
            "header": {
             "fill": {
              "color": "#C8D4E3"
             },
             "line": {
              "color": "white"
             }
            },
            "type": "table"
           }
          ]
         },
         "layout": {
          "annotationdefaults": {
           "arrowcolor": "#2a3f5f",
           "arrowhead": 0,
           "arrowwidth": 1
          },
          "autotypenumbers": "strict",
          "coloraxis": {
           "colorbar": {
            "outlinewidth": 0,
            "ticks": ""
           }
          },
          "colorscale": {
           "diverging": [
            [
             0,
             "#8e0152"
            ],
            [
             0.1,
             "#c51b7d"
            ],
            [
             0.2,
             "#de77ae"
            ],
            [
             0.3,
             "#f1b6da"
            ],
            [
             0.4,
             "#fde0ef"
            ],
            [
             0.5,
             "#f7f7f7"
            ],
            [
             0.6,
             "#e6f5d0"
            ],
            [
             0.7,
             "#b8e186"
            ],
            [
             0.8,
             "#7fbc41"
            ],
            [
             0.9,
             "#4d9221"
            ],
            [
             1,
             "#276419"
            ]
           ],
           "sequential": [
            [
             0,
             "#0d0887"
            ],
            [
             0.1111111111111111,
             "#46039f"
            ],
            [
             0.2222222222222222,
             "#7201a8"
            ],
            [
             0.3333333333333333,
             "#9c179e"
            ],
            [
             0.4444444444444444,
             "#bd3786"
            ],
            [
             0.5555555555555556,
             "#d8576b"
            ],
            [
             0.6666666666666666,
             "#ed7953"
            ],
            [
             0.7777777777777778,
             "#fb9f3a"
            ],
            [
             0.8888888888888888,
             "#fdca26"
            ],
            [
             1,
             "#f0f921"
            ]
           ],
           "sequentialminus": [
            [
             0,
             "#0d0887"
            ],
            [
             0.1111111111111111,
             "#46039f"
            ],
            [
             0.2222222222222222,
             "#7201a8"
            ],
            [
             0.3333333333333333,
             "#9c179e"
            ],
            [
             0.4444444444444444,
             "#bd3786"
            ],
            [
             0.5555555555555556,
             "#d8576b"
            ],
            [
             0.6666666666666666,
             "#ed7953"
            ],
            [
             0.7777777777777778,
             "#fb9f3a"
            ],
            [
             0.8888888888888888,
             "#fdca26"
            ],
            [
             1,
             "#f0f921"
            ]
           ]
          },
          "colorway": [
           "#636efa",
           "#EF553B",
           "#00cc96",
           "#ab63fa",
           "#FFA15A",
           "#19d3f3",
           "#FF6692",
           "#B6E880",
           "#FF97FF",
           "#FECB52"
          ],
          "font": {
           "color": "#2a3f5f"
          },
          "geo": {
           "bgcolor": "white",
           "lakecolor": "white",
           "landcolor": "white",
           "showlakes": true,
           "showland": true,
           "subunitcolor": "#C8D4E3"
          },
          "height": 400,
          "hoverlabel": {
           "align": "left"
          },
          "hovermode": "closest",
          "mapbox": {
           "style": "light"
          },
          "margin": {
           "b": 2,
           "l": 2,
           "r": 2,
           "t": 30
          },
          "paper_bgcolor": "white",
          "plot_bgcolor": "white",
          "polar": {
           "angularaxis": {
            "gridcolor": "#EBF0F8",
            "linecolor": "#EBF0F8",
            "ticks": ""
           },
           "bgcolor": "white",
           "radialaxis": {
            "gridcolor": "#EBF0F8",
            "linecolor": "#EBF0F8",
            "ticks": ""
           }
          },
          "scene": {
           "camera": {
            "eye": {
             "x": 1.5,
             "y": 1.5,
             "z": 0.1
            }
           },
           "xaxis": {
            "backgroundcolor": "white",
            "gridcolor": "#DFE8F3",
            "gridwidth": 2,
            "linecolor": "#EBF0F8",
            "showbackground": true,
            "ticks": "",
            "zerolinecolor": "#EBF0F8"
           },
           "yaxis": {
            "backgroundcolor": "white",
            "gridcolor": "#DFE8F3",
            "gridwidth": 2,
            "linecolor": "#EBF0F8",
            "showbackground": true,
            "ticks": "",
            "zerolinecolor": "#EBF0F8"
           },
           "zaxis": {
            "backgroundcolor": "white",
            "gridcolor": "#DFE8F3",
            "gridwidth": 2,
            "linecolor": "#EBF0F8",
            "showbackground": true,
            "ticks": "",
            "zerolinecolor": "#EBF0F8"
           }
          },
          "shapedefaults": {
           "line": {
            "color": "#2a3f5f"
           }
          },
          "ternary": {
           "aaxis": {
            "gridcolor": "#DFE8F3",
            "linecolor": "#A2B1C6",
            "ticks": ""
           },
           "baxis": {
            "gridcolor": "#DFE8F3",
            "linecolor": "#A2B1C6",
            "ticks": ""
           },
           "bgcolor": "white",
           "caxis": {
            "gridcolor": "#DFE8F3",
            "linecolor": "#A2B1C6",
            "ticks": ""
           }
          },
          "title": {
           "x": 0.5
          },
          "xaxis": {
           "automargin": true,
           "gridcolor": "#EBF0F8",
           "linecolor": "#EBF0F8",
           "linewidth": 2,
           "showline": true,
           "ticks": "",
           "title": {
            "standoff": 15
           },
           "zerolinecolor": "#EBF0F8",
           "zerolinewidth": 2
          },
          "yaxis": {
           "automargin": true,
           "gridcolor": "#EBF0F8",
           "linecolor": "#EBF0F8",
           "linewidth": 2,
           "showline": true,
           "ticks": "",
           "title": {
            "standoff": 15
           },
           "zerolinecolor": "#EBF0F8",
           "zerolinewidth": 2
          }
         }
        },
        "xaxis": {
         "anchor": "y",
         "domain": [
          0,
          1
         ],
         "title": {
          "text": "year"
         }
        },
        "yaxis": {
         "anchor": "x",
         "domain": [
          0,
          1
         ],
         "title": {
          "text": "min temperature"
         }
        }
       }
      }
     },
     "metadata": {}
    }
   ],
   "source": [
    "%run microsoft_custom_linear_regressor\n",
    "from sklearn.linear_model import LinearRegression, Ridge\n",
    "from sklearn.metrics import mean_squared_error, mean_absolute_error\n",
    "from sklearn.preprocessing import StandardScaler\n",
    "import pandas as pd\n",
    "import graphing # custom graphing code. See our github repository\n",
    "\n",
    "# Create and fit the model\n",
    "# We use a custom object that we have hidden from this notebook as\n",
    "# you do not need to understand its details. This accepts:\n",
    "# 1) our features (X)\n",
    "# 2) our labels (y)\n",
    "# 3) a cost function to try to minimise. Here we will use \n",
    "#    mean_squared_error (from sklearn) as our cost function\n",
    "X = dataset.year\n",
    "y = dataset.min_temperature\n",
    "\n",
    "model_ols = MicrosoftCustomLinearRegressor().fit(X, y, mean_squared_error)\n",
    "\n",
    "# Make predictions on the training data\n",
    "y_ols_pred = model_ols.predict(X)\n",
    "\n",
    "# Calculate how far those predictions were from the expected\n",
    "# results. For this, use mean squared error, which is the \n",
    "# same as our cost function\n",
    "mse_ols = mean_squared_error(y, y_ols_pred)\n",
    "print(f\"MSE Ordinary Least Squares: {mse_ols}\")\n",
    "\n",
    "# We also calculate the mean absolute difference for reference\n",
    "# later in this exercise \n",
    "mad_ols = mean_absolute_error(y, y_ols_pred)\n",
    "print(f\"MAD, Ordinary Least Squares: {mad_ols}\")\n",
    "\n",
    "\n",
    "# Graph the model\n",
    "graphing.scatter_2D(dataset, \n",
    "                    label_x=\"year\", \n",
    "                    label_y=\"min_temperature\", \n",
    "                    trendline=model_ols.predict)"
   ]
  },
  {
   "cell_type": "markdown",
   "id": "c8694563",
   "metadata": {},
   "source": [
    "Our OLS method normally does well, but here it did a poor job - the line is a far distance from the values for many years. Why? Notice the datapoint at the bottom left doesn't seem to follow the trend of the other datapoints. 1950 was a very cold winter in Seattle, and this datapoint is strongly influencing our final model (the blue line). What happens if we change the cost function?\n",
    "\n",
    "## Second method: Mean Absolute Deviation\n",
    "\n",
    "The second cost function we will look at is called _Mean Absolute Deviation_ (MAD). \n",
    "\n",
    "This is similar to OLS, except that instead of calculating the squared difference between predictions and expected values, it calculates the absolute difference. This means that outlier points have less effect on the regression than they do in OLS.\n",
    "\n",
    "Let's repeat what we've just done, but using MAD."
   ]
  },
  {
   "cell_type": "code",
   "execution_count": 8,
   "id": "71d741ff",
   "metadata": {},
   "outputs": [
    {
     "output_type": "stream",
     "name": "stdout",
     "text": [
      "MSE error for MAD model: 196.77019826098672\nMAD error for MAD model: 7.992568442937199\n"
     ]
    },
    {
     "output_type": "display_data",
     "data": {
      "application/vnd.plotly.v1+json": {
       "config": {
        "plotlyServerURL": "https://plot.ly"
       },
       "data": [
        {
         "hovertemplate": "year=%{x}<br>min temperature=%{y}<extra></extra>",
         "legendgroup": "",
         "marker": {
          "color": "#636efa",
          "size": 20,
          "symbol": "circle"
         },
         "mode": "markers",
         "name": "",
         "orientation": "v",
         "showlegend": false,
         "type": "scatter",
         "x": [
          1950.0876112251883,
          1960.0876112251883,
          1970.0876112251883,
          1980.0876112251883,
          1990.0876112251883,
          2000.0876112251883,
          2010.0876112251883,
          2017.0876112251883
         ],
         "xaxis": "x",
         "y": [
          1,
          44,
          42,
          36,
          37,
          41,
          40,
          29
         ],
         "yaxis": "y"
        }
       ],
       "layout": {
        "legend": {
         "tracegroupgap": 0
        },
        "shapes": [
         {
          "line": {
           "color": "Crimson"
          },
          "path": "M1950.0876112251883 38.450594026432356 L 1950.4242946422737 38.45726624516881 L 1950.760978059359 38.46393846390526 L 1951.0976614764445 38.470610682641706 L 1951.4343448935301 38.47728290137816 L 1951.7710283106155 38.483955120114615 L 1952.107711727701 38.49062733885106 L 1952.4443951447863 38.49729955758751 L 1952.7810785618717 38.503971776323965 L 1953.117761978957 38.51064399506041 L 1953.4544453960425 38.51731621379687 L 1953.791128813128 38.523988432533315 L 1954.1278122302135 38.53066065126977 L 1954.464495647299 38.53733287000622 L 1954.8011790643843 38.54400508874267 L 1955.1378624814697 38.55067730747912 L 1955.474545898555 38.55734952621557 L 1955.8112293156405 38.56402174495202 L 1956.147912732726 38.57069396368847 L 1956.4845961498115 38.577366182424925 L 1956.821279566897 38.58403840116137 L 1957.1579629839823 38.59071061989783 L 1957.4946464010677 38.597382838634275 L 1957.831329818153 38.60405505737072 L 1958.1680132352385 38.61072727610718 L 1958.504696652324 38.617399494843625 L 1958.8413800694095 38.62407171358008 L 1959.178063486495 38.63074393231653 L 1959.5147469035803 38.63741615105298 L 1959.8514303206657 38.64408836978943 L 1960.188113737751 38.65076058852588 L 1960.5247971548365 38.65743280726233 L 1960.861480571922 38.66410502599878 L 1961.1981639890073 38.67077724473523 L 1961.534847406093 38.67744946347168 L 1961.8715308231783 38.684121682208136 L 1962.2082142402637 38.690793900944584 L 1962.544897657349 38.69746611968103 L 1962.8815810744345 38.704138338417486 L 1963.21826449152 38.710810557153934 L 1963.5549479086053 38.71748277589038 L 1963.891631325691 38.724154994626836 L 1964.2283147427763 38.73082721336329 L 1964.5649981598617 38.73749943209974 L 1964.901681576947 38.744171650836186 L 1965.2383649940325 38.75084386957264 L 1965.575048411118 38.75751608830909 L 1965.9117318282033 38.764188307045536 L 1966.248415245289 38.77086052578199 L 1966.5850986623743 38.777532744518446 L 1966.9217820794597 38.78420496325489 L 1967.258465496545 38.79087718199134 L 1967.5951489136305 38.797549400727796 L 1967.931832330716 38.80422161946424 L 1968.2685157478013 38.81089383820069 L 1968.6051991648867 38.817566056937146 L 1968.9418825819723 38.8242382756736 L 1969.2785659990577 38.83091049441005 L 1969.6152494161431 38.837582713146496 L 1969.9519328332285 38.84425493188295 L 1970.288616250314 38.8509271506194 L 1970.6252996673993 38.857599369355846 L 1970.9619830844847 38.8642715880923 L 1971.2986665015703 38.870943806828755 L 1971.6353499186557 38.8776160255652 L 1971.9720333357411 38.88428824430165 L 1972.3087167528265 38.890960463038105 L 1972.645400169912 38.89763268177455 L 1972.9820835869973 38.904304900511 L 1973.3187670040827 38.910977119247455 L 1973.655450421168 38.9176493379839 L 1973.9921338382537 38.92432155672036 L 1974.3288172553391 38.930993775456805 L 1974.6655006724245 38.93766599419326 L 1975.00218408951 38.94433821292971 L 1975.3388675065953 38.951010431666155 L 1975.6755509236807 38.95768265040261 L 1976.012234340766 38.96435486913906 L 1976.3489177578517 38.97102708787551 L 1976.6856011749371 38.97769930661196 L 1977.0222845920225 38.984371525348415 L 1977.358968009108 38.99104374408486 L 1977.6956514261933 38.99771596282131 L 1978.0323348432787 39.004388181557765 L 1978.369018260364 39.01106040029421 L 1978.7057016774497 39.01773261903067 L 1979.0423850945351 39.024404837767115 L 1979.3790685116205 39.03107705650357 L 1979.715751928706 39.03774927524002 L 1980.0524353457913 39.044421493976465 L 1980.3891187628767 39.05109371271292 L 1980.725802179962 39.05776593144937 L 1981.0624855970475 39.064438150185815 L 1981.3991690141331 39.07111036892227 L 1981.7358524312185 39.077782587658724 L 1982.072535848304 39.08445480639517 L 1982.4092192653893 39.09112702513162 L 1982.7459026824747 39.097799243868074 L 1983.08258609956 39.10447146260452 L 1983.4192695166455 39.11114368134097 L 1983.7559529337311 39.117815900077424 L 1984.0926363508165 39.12448811881388 L 1984.429319767902 39.13116033755033 L 1984.7660031849873 39.137832556286774 L 1985.1026866020727 39.14450477502323 L 1985.439370019158 39.15117699375968 L 1985.7760534362435 39.157849212496124 L 1986.1127368533291 39.16452143123258 L 1986.4494202704145 39.171193649969034 L 1986.7861036875 39.17786586870548 L 1987.1227871045853 39.18453808744193 L 1987.4594705216707 39.191210306178384 L 1987.796153938756 39.19788252491483 L 1988.1328373558415 39.204554743651286 L 1988.469520772927 39.211226962387734 L 1988.8062041900125 39.21789918112419 L 1989.142887607098 39.224571399860636 L 1989.4795710241833 39.23124361859709 L 1989.8162544412687 39.23791583733354 L 1990.152937858354 39.244588056069986 L 1990.4896212754395 39.25126027480644 L 1990.826304692525 39.25793249354289 L 1991.1629881096105 39.26460471227934 L 1991.499671526696 39.27127693101579 L 1991.8363549437813 39.277949149752246 L 1992.1730383608667 39.28462136848869 L 1992.509721777952 39.29129358722514 L 1992.8464051950375 39.297965805961596 L 1993.183088612123 39.30463802469804 L 1993.5197720292085 39.3113102434345 L 1993.856455446294 39.317982462170946 L 1994.1931388633793 39.3246546809074 L 1994.5298222804647 39.33132689964385 L 1994.86650569755 39.337999118380296 L 1995.2031891146355 39.34467133711675 L 1995.539872531721 39.3513435558532 L 1995.8765559488063 39.358015774589646 L 1996.213239365892 39.3646879933261 L 1996.5499227829773 39.371360212062555 L 1996.8866062000627 39.378032430799 L 1997.223289617148 39.38470464953545 L 1997.5599730342335 39.391376868271905 L 1997.896656451319 39.39804908700835 L 1998.2333398684043 39.4047213057448 L 1998.57002328549 39.411393524481255 L 1998.9067067025753 39.41806574321771 L 1999.2433901196607 39.42473796195416 L 1999.580073536746 39.431410180690605 L 1999.9167569538315 39.43808239942706 L 2000.253440370917 39.44475461816351 L 2000.5901237880023 39.451426836899955 L 2000.9268072050877 39.45809905563641 L 2001.2634906221733 39.464771274372865 L 2001.6001740392587 39.47144349310931 L 2001.9368574563441 39.47811571184576 L 2002.2735408734295 39.484787930582215 L 2002.610224290515 39.49146014931866 L 2002.9469077076003 39.49813236805511 L 2003.2835911246857 39.504804586791565 L 2003.6202745417713 39.51147680552802 L 2003.9569579588567 39.51814902426447 L 2004.2936413759421 39.524821243000915 L 2004.6303247930275 39.53149346173737 L 2004.967008210113 39.53816568047382 L 2005.3036916271983 39.544837899210265 L 2005.6403750442837 39.55151011794672 L 2005.9770584613693 39.558182336683174 L 2006.3137418784547 39.56485455541962 L 2006.6504252955401 39.57152677415607 L 2006.9871087126255 39.578198992892524 L 2007.323792129711 39.58487121162897 L 2007.6604755467963 39.59154343036542 L 2007.9971589638817 39.598215649101874 L 2008.333842380967 39.60488786783832 L 2008.6705257980527 39.61156008657478 L 2009.0072092151381 39.618232305311224 L 2009.3438926322235 39.62490452404768 L 2009.680576049309 39.63157674278413 L 2010.0172594663943 39.638248961520574 L 2010.3539428834797 39.64492118025703 L 2010.690626300565 39.65159339899348 L 2011.0273097176507 39.65826561772993 L 2011.3639931347361 39.66493783646638 L 2011.7006765518215 39.671610055202834 L 2012.037359968907 39.67828227393928 L 2012.3740433859923 39.68495449267573 L 2012.7107268030777 39.691626711412184 L 2013.047410220163 39.69829893014863 L 2013.3840936372487 39.704971148885086 L 2013.7207770543341 39.711643367621534 L 2014.0574604714195 39.71831558635799 L 2014.394143888505 39.724987805094436 L 2014.7308273055903 39.731660023830884 L 2015.0675107226757 39.73833224256734 L 2015.404194139761 39.745004461303786 L 2015.7408775568465 39.751676680040234 L 2016.0775609739321 39.75834889877669 L 2016.4142443910175 39.76502111751314 L 2016.750927808103 39.77169333624959 L 2017.0876112251883 39.77836555498604",
          "type": "path"
         }
        ],
        "template": {
         "data": {
          "bar": [
           {
            "error_x": {
             "color": "#2a3f5f"
            },
            "error_y": {
             "color": "#2a3f5f"
            },
            "marker": {
             "line": {
              "color": "white",
              "width": 0.5
             }
            },
            "type": "bar"
           }
          ],
          "barpolar": [
           {
            "marker": {
             "line": {
              "color": "white",
              "width": 0.5
             }
            },
            "type": "barpolar"
           }
          ],
          "box": [
           {
            "boxpoints": "outliers",
            "notched": false,
            "type": "box"
           }
          ],
          "carpet": [
           {
            "aaxis": {
             "endlinecolor": "#2a3f5f",
             "gridcolor": "#C8D4E3",
             "linecolor": "#C8D4E3",
             "minorgridcolor": "#C8D4E3",
             "startlinecolor": "#2a3f5f"
            },
            "baxis": {
             "endlinecolor": "#2a3f5f",
             "gridcolor": "#C8D4E3",
             "linecolor": "#C8D4E3",
             "minorgridcolor": "#C8D4E3",
             "startlinecolor": "#2a3f5f"
            },
            "type": "carpet"
           }
          ],
          "choropleth": [
           {
            "colorbar": {
             "outlinewidth": 0,
             "ticks": ""
            },
            "type": "choropleth"
           }
          ],
          "contour": [
           {
            "colorbar": {
             "outlinewidth": 0,
             "ticks": ""
            },
            "colorscale": [
             [
              0,
              "#0d0887"
             ],
             [
              0.1111111111111111,
              "#46039f"
             ],
             [
              0.2222222222222222,
              "#7201a8"
             ],
             [
              0.3333333333333333,
              "#9c179e"
             ],
             [
              0.4444444444444444,
              "#bd3786"
             ],
             [
              0.5555555555555556,
              "#d8576b"
             ],
             [
              0.6666666666666666,
              "#ed7953"
             ],
             [
              0.7777777777777778,
              "#fb9f3a"
             ],
             [
              0.8888888888888888,
              "#fdca26"
             ],
             [
              1,
              "#f0f921"
             ]
            ],
            "type": "contour"
           }
          ],
          "contourcarpet": [
           {
            "colorbar": {
             "outlinewidth": 0,
             "ticks": ""
            },
            "type": "contourcarpet"
           }
          ],
          "heatmap": [
           {
            "colorbar": {
             "outlinewidth": 0,
             "ticks": ""
            },
            "colorscale": [
             [
              0,
              "#0d0887"
             ],
             [
              0.1111111111111111,
              "#46039f"
             ],
             [
              0.2222222222222222,
              "#7201a8"
             ],
             [
              0.3333333333333333,
              "#9c179e"
             ],
             [
              0.4444444444444444,
              "#bd3786"
             ],
             [
              0.5555555555555556,
              "#d8576b"
             ],
             [
              0.6666666666666666,
              "#ed7953"
             ],
             [
              0.7777777777777778,
              "#fb9f3a"
             ],
             [
              0.8888888888888888,
              "#fdca26"
             ],
             [
              1,
              "#f0f921"
             ]
            ],
            "type": "heatmap"
           }
          ],
          "heatmapgl": [
           {
            "colorbar": {
             "outlinewidth": 0,
             "ticks": ""
            },
            "colorscale": [
             [
              0,
              "#0d0887"
             ],
             [
              0.1111111111111111,
              "#46039f"
             ],
             [
              0.2222222222222222,
              "#7201a8"
             ],
             [
              0.3333333333333333,
              "#9c179e"
             ],
             [
              0.4444444444444444,
              "#bd3786"
             ],
             [
              0.5555555555555556,
              "#d8576b"
             ],
             [
              0.6666666666666666,
              "#ed7953"
             ],
             [
              0.7777777777777778,
              "#fb9f3a"
             ],
             [
              0.8888888888888888,
              "#fdca26"
             ],
             [
              1,
              "#f0f921"
             ]
            ],
            "type": "heatmapgl"
           }
          ],
          "histogram": [
           {
            "marker": {
             "colorbar": {
              "outlinewidth": 0,
              "ticks": ""
             },
             "line": {
              "width": 1
             }
            },
            "type": "histogram"
           }
          ],
          "histogram2d": [
           {
            "colorbar": {
             "outlinewidth": 0,
             "ticks": ""
            },
            "colorscale": [
             [
              0,
              "#0d0887"
             ],
             [
              0.1111111111111111,
              "#46039f"
             ],
             [
              0.2222222222222222,
              "#7201a8"
             ],
             [
              0.3333333333333333,
              "#9c179e"
             ],
             [
              0.4444444444444444,
              "#bd3786"
             ],
             [
              0.5555555555555556,
              "#d8576b"
             ],
             [
              0.6666666666666666,
              "#ed7953"
             ],
             [
              0.7777777777777778,
              "#fb9f3a"
             ],
             [
              0.8888888888888888,
              "#fdca26"
             ],
             [
              1,
              "#f0f921"
             ]
            ],
            "type": "histogram2d"
           }
          ],
          "histogram2dcontour": [
           {
            "colorbar": {
             "outlinewidth": 0,
             "ticks": ""
            },
            "colorscale": [
             [
              0,
              "#0d0887"
             ],
             [
              0.1111111111111111,
              "#46039f"
             ],
             [
              0.2222222222222222,
              "#7201a8"
             ],
             [
              0.3333333333333333,
              "#9c179e"
             ],
             [
              0.4444444444444444,
              "#bd3786"
             ],
             [
              0.5555555555555556,
              "#d8576b"
             ],
             [
              0.6666666666666666,
              "#ed7953"
             ],
             [
              0.7777777777777778,
              "#fb9f3a"
             ],
             [
              0.8888888888888888,
              "#fdca26"
             ],
             [
              1,
              "#f0f921"
             ]
            ],
            "type": "histogram2dcontour"
           }
          ],
          "mesh3d": [
           {
            "colorbar": {
             "outlinewidth": 0,
             "ticks": ""
            },
            "type": "mesh3d"
           }
          ],
          "parcoords": [
           {
            "line": {
             "colorbar": {
              "outlinewidth": 0,
              "ticks": ""
             }
            },
            "type": "parcoords"
           }
          ],
          "pie": [
           {
            "automargin": true,
            "type": "pie"
           }
          ],
          "scatter": [
           {
            "marker": {
             "colorbar": {
              "outlinewidth": 0,
              "ticks": ""
             },
             "opacity": 0.8
            },
            "type": "scatter"
           }
          ],
          "scatter3d": [
           {
            "line": {
             "colorbar": {
              "outlinewidth": 0,
              "ticks": ""
             }
            },
            "marker": {
             "colorbar": {
              "outlinewidth": 0,
              "ticks": ""
             },
             "opacity": 0.8
            },
            "type": "scatter3d"
           }
          ],
          "scattercarpet": [
           {
            "marker": {
             "colorbar": {
              "outlinewidth": 0,
              "ticks": ""
             }
            },
            "type": "scattercarpet"
           }
          ],
          "scattergeo": [
           {
            "marker": {
             "colorbar": {
              "outlinewidth": 0,
              "ticks": ""
             }
            },
            "type": "scattergeo"
           }
          ],
          "scattergl": [
           {
            "marker": {
             "colorbar": {
              "outlinewidth": 0,
              "ticks": ""
             }
            },
            "type": "scattergl"
           }
          ],
          "scattermapbox": [
           {
            "marker": {
             "colorbar": {
              "outlinewidth": 0,
              "ticks": ""
             }
            },
            "type": "scattermapbox"
           }
          ],
          "scatterpolar": [
           {
            "marker": {
             "colorbar": {
              "outlinewidth": 0,
              "ticks": ""
             }
            },
            "type": "scatterpolar"
           }
          ],
          "scatterpolargl": [
           {
            "marker": {
             "colorbar": {
              "outlinewidth": 0,
              "ticks": ""
             }
            },
            "type": "scatterpolargl"
           }
          ],
          "scatterternary": [
           {
            "marker": {
             "colorbar": {
              "outlinewidth": 0,
              "ticks": ""
             }
            },
            "type": "scatterternary"
           }
          ],
          "surface": [
           {
            "colorbar": {
             "outlinewidth": 0,
             "ticks": ""
            },
            "colorscale": [
             [
              0,
              "#0d0887"
             ],
             [
              0.1111111111111111,
              "#46039f"
             ],
             [
              0.2222222222222222,
              "#7201a8"
             ],
             [
              0.3333333333333333,
              "#9c179e"
             ],
             [
              0.4444444444444444,
              "#bd3786"
             ],
             [
              0.5555555555555556,
              "#d8576b"
             ],
             [
              0.6666666666666666,
              "#ed7953"
             ],
             [
              0.7777777777777778,
              "#fb9f3a"
             ],
             [
              0.8888888888888888,
              "#fdca26"
             ],
             [
              1,
              "#f0f921"
             ]
            ],
            "type": "surface"
           }
          ],
          "table": [
           {
            "cells": {
             "fill": {
              "color": "#EBF0F8"
             },
             "line": {
              "color": "white"
             }
            },
            "header": {
             "fill": {
              "color": "#C8D4E3"
             },
             "line": {
              "color": "white"
             }
            },
            "type": "table"
           }
          ]
         },
         "layout": {
          "annotationdefaults": {
           "arrowcolor": "#2a3f5f",
           "arrowhead": 0,
           "arrowwidth": 1
          },
          "autotypenumbers": "strict",
          "coloraxis": {
           "colorbar": {
            "outlinewidth": 0,
            "ticks": ""
           }
          },
          "colorscale": {
           "diverging": [
            [
             0,
             "#8e0152"
            ],
            [
             0.1,
             "#c51b7d"
            ],
            [
             0.2,
             "#de77ae"
            ],
            [
             0.3,
             "#f1b6da"
            ],
            [
             0.4,
             "#fde0ef"
            ],
            [
             0.5,
             "#f7f7f7"
            ],
            [
             0.6,
             "#e6f5d0"
            ],
            [
             0.7,
             "#b8e186"
            ],
            [
             0.8,
             "#7fbc41"
            ],
            [
             0.9,
             "#4d9221"
            ],
            [
             1,
             "#276419"
            ]
           ],
           "sequential": [
            [
             0,
             "#0d0887"
            ],
            [
             0.1111111111111111,
             "#46039f"
            ],
            [
             0.2222222222222222,
             "#7201a8"
            ],
            [
             0.3333333333333333,
             "#9c179e"
            ],
            [
             0.4444444444444444,
             "#bd3786"
            ],
            [
             0.5555555555555556,
             "#d8576b"
            ],
            [
             0.6666666666666666,
             "#ed7953"
            ],
            [
             0.7777777777777778,
             "#fb9f3a"
            ],
            [
             0.8888888888888888,
             "#fdca26"
            ],
            [
             1,
             "#f0f921"
            ]
           ],
           "sequentialminus": [
            [
             0,
             "#0d0887"
            ],
            [
             0.1111111111111111,
             "#46039f"
            ],
            [
             0.2222222222222222,
             "#7201a8"
            ],
            [
             0.3333333333333333,
             "#9c179e"
            ],
            [
             0.4444444444444444,
             "#bd3786"
            ],
            [
             0.5555555555555556,
             "#d8576b"
            ],
            [
             0.6666666666666666,
             "#ed7953"
            ],
            [
             0.7777777777777778,
             "#fb9f3a"
            ],
            [
             0.8888888888888888,
             "#fdca26"
            ],
            [
             1,
             "#f0f921"
            ]
           ]
          },
          "colorway": [
           "#636efa",
           "#EF553B",
           "#00cc96",
           "#ab63fa",
           "#FFA15A",
           "#19d3f3",
           "#FF6692",
           "#B6E880",
           "#FF97FF",
           "#FECB52"
          ],
          "font": {
           "color": "#2a3f5f"
          },
          "geo": {
           "bgcolor": "white",
           "lakecolor": "white",
           "landcolor": "white",
           "showlakes": true,
           "showland": true,
           "subunitcolor": "#C8D4E3"
          },
          "height": 400,
          "hoverlabel": {
           "align": "left"
          },
          "hovermode": "closest",
          "mapbox": {
           "style": "light"
          },
          "margin": {
           "b": 2,
           "l": 2,
           "r": 2,
           "t": 30
          },
          "paper_bgcolor": "white",
          "plot_bgcolor": "white",
          "polar": {
           "angularaxis": {
            "gridcolor": "#EBF0F8",
            "linecolor": "#EBF0F8",
            "ticks": ""
           },
           "bgcolor": "white",
           "radialaxis": {
            "gridcolor": "#EBF0F8",
            "linecolor": "#EBF0F8",
            "ticks": ""
           }
          },
          "scene": {
           "camera": {
            "eye": {
             "x": 1.5,
             "y": 1.5,
             "z": 0.1
            }
           },
           "xaxis": {
            "backgroundcolor": "white",
            "gridcolor": "#DFE8F3",
            "gridwidth": 2,
            "linecolor": "#EBF0F8",
            "showbackground": true,
            "ticks": "",
            "zerolinecolor": "#EBF0F8"
           },
           "yaxis": {
            "backgroundcolor": "white",
            "gridcolor": "#DFE8F3",
            "gridwidth": 2,
            "linecolor": "#EBF0F8",
            "showbackground": true,
            "ticks": "",
            "zerolinecolor": "#EBF0F8"
           },
           "zaxis": {
            "backgroundcolor": "white",
            "gridcolor": "#DFE8F3",
            "gridwidth": 2,
            "linecolor": "#EBF0F8",
            "showbackground": true,
            "ticks": "",
            "zerolinecolor": "#EBF0F8"
           }
          },
          "shapedefaults": {
           "line": {
            "color": "#2a3f5f"
           }
          },
          "ternary": {
           "aaxis": {
            "gridcolor": "#DFE8F3",
            "linecolor": "#A2B1C6",
            "ticks": ""
           },
           "baxis": {
            "gridcolor": "#DFE8F3",
            "linecolor": "#A2B1C6",
            "ticks": ""
           },
           "bgcolor": "white",
           "caxis": {
            "gridcolor": "#DFE8F3",
            "linecolor": "#A2B1C6",
            "ticks": ""
           }
          },
          "title": {
           "x": 0.5
          },
          "xaxis": {
           "automargin": true,
           "gridcolor": "#EBF0F8",
           "linecolor": "#EBF0F8",
           "linewidth": 2,
           "showline": true,
           "ticks": "",
           "title": {
            "standoff": 15
           },
           "zerolinecolor": "#EBF0F8",
           "zerolinewidth": 2
          },
          "yaxis": {
           "automargin": true,
           "gridcolor": "#EBF0F8",
           "linecolor": "#EBF0F8",
           "linewidth": 2,
           "showline": true,
           "ticks": "",
           "title": {
            "standoff": 15
           },
           "zerolinecolor": "#EBF0F8",
           "zerolinewidth": 2
          }
         }
        },
        "xaxis": {
         "anchor": "y",
         "domain": [
          0,
          1
         ],
         "title": {
          "text": "year"
         }
        },
        "yaxis": {
         "anchor": "x",
         "domain": [
          0,
          1
         ],
         "title": {
          "text": "min temperature"
         }
        }
       }
      }
     },
     "metadata": {}
    }
   ],
   "source": [
    "from sklearn.base import BaseEstimator\n",
    "from scipy.optimize import minimize\n",
    "import numpy as np\n",
    "\n",
    "# Create and fit the model, using MAD\n",
    "# skikit provides use with a MAD function, called mean_absolute_error\n",
    "model_mad = MicrosoftCustomLinearRegressor().fit(X, y, mean_absolute_error)\n",
    "\n",
    "# Make predictions, and calculate the error term\n",
    "y_mad_pred = model_mad.predict(X)\n",
    "\n",
    "# Calculate the error, using mean squared error\n",
    "mse = mean_squared_error(y, y_mad_pred)\n",
    "print(f\"MSE error for MAD model: {mse}\")\n",
    "\n",
    "# Calculate the error, using MAD\n",
    "mad = mean_absolute_error(y, y_mad_pred)\n",
    "print(f\"MAD error for MAD model: {mad}\")\n",
    "\n",
    "# Graph the result\n",
    "graphing.scatter_2D(dataset, \n",
    "                    label_x=\"year\", \n",
    "                    label_y=\"min_temperature\", \n",
    "                    trendline=model_mad.predict)"
   ]
  },
  {
   "cell_type": "markdown",
   "id": "5145f572",
   "metadata": {},
   "source": [
    "It's clear that this line passes through the majority of points much better than OLS did, at the expense of almost ignoring the measurement taken in 1950. \n",
    "\n",
    "In our farming scenario, we're interested in how average temperatures are changing over time. We don't have much interest in 1950 specifically, so for us this is a better result. In other situations, of course, we might consider this result worse.\n",
    "\n",
    "Looking at costs calculated, notice how:\n",
    "* MSE is better for OLS regression.\n",
    "* MAD is better for the MAD regression. \n",
    "\n",
    "We can expect these differences, because OLS aims to minimise MSE, ignoring MAD. The MAD option aims for the opposite.\n",
    "\n",
    "## Summary\n",
    "\n",
    "In this exercise, you learned about how changing the cost function used during fitting can result in different final results. \n",
    "\n",
    "We also learned how this behaviour is because these cost functions describe the 'best' way to fit a model, although from a data analyst's point of view there can be drawbacks no matter which cost function is chosen."
   ]
  }
],
"metadata": {
   "kernelspec": {
    "display_name": "Python 3",
    "language": "python",
    "name": "python3"
   },
   "language_info": {
    "codemirror_mode": {
     "name": "ipython",
     "version": 3
    },
    "file_extension": ".py",
    "mimetype": "text/x-python",
    "name": "python",
    "nbconvert_exporter": "python",
    "pygments_lexer": "ipython3",
    "version": "3.8.8"
   }
  },
  "nbformat": 4,
  "nbformat_minor": 2
}