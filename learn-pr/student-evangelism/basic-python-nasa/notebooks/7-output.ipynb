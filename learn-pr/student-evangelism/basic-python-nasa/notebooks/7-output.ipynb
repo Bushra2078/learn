{
 "cells": [
  {
   "cell_type": "markdown",
   "metadata": {},
   "source": [
    "Now that we've created some variables and given them values, we can learn how to view the values beyond running a notebook cell. We'll use a function called `print()`. \n",
    "\n",
    "Notebooks are useful because each cell outputs the value of the final command without the need to use the `print()` function. However, it might be useful to print values or messages between larger code blocks, for debugging, logging, or informational purposes. Without the `print()` function, the cell prints only the last value:"
   ]
  },
  {
   "cell_type": "code",
   "execution_count": null,
   "metadata": {},
   "outputs": [],
   "source": [
    "2 + 2\r\n",
    "5 + 3"
   ]
  },
  {
   "cell_type": "markdown",
   "metadata": {},
   "source": [
    "The `print()` function, like the functions we called earlier when using strings, is code we can use that has been written by others. The `print()` function makes the computer write the value you pass in as a parameter.\n",
    "\n",
    "Try to print some values by running this code cell:"
   ]
  },
  {
   "cell_type": "code",
   "execution_count": null,
   "metadata": {},
   "outputs": [],
   "source": [
    "print(6)\r\n",
    "print(\"Hello World\")"
   ]
  },
  {
   "cell_type": "markdown",
   "metadata": {},
   "source": [
    "Along with values, we can use the code below to print the value of a variable:"
   ]
  },
  {
   "cell_type": "code",
   "execution_count": null,
   "metadata": {},
   "outputs": [],
   "source": [
    "numRocks = 15\r\n",
    "print(numRocks)"
   ]
  },
  {
   "cell_type": "markdown",
   "metadata": {},
   "source": [
    "We can combine variables and strings by putting a comma between them:"
   ]
  },
  {
   "cell_type": "code",
   "execution_count": null,
   "metadata": {},
   "outputs": [],
   "source": [
    "numBasalt = 4\r\n",
    "print(\"The number of Basalt rocks found:\", numBasalt)"
   ]
  },
  {
   "cell_type": "code",
   "execution_count": null,
   "metadata": {},
   "outputs": [],
   "source": [
    "date = \"February 26\"\r\n",
    "numRocks = 15\r\n",
    "print(\"On\", date, \"number of rocks found:\", numRocks)"
   ]
  },
  {
   "cell_type": "markdown",
   "metadata": {},
   "source": [
    "The `print()` function is very helpful because the people using our programs can't always see our code or know how to read it. The `print()` function lets us show them only the values we want them to see."
   ]
  }
 ],
 "metadata": {
  "kernelspec": {
   "display_name": "py38_default",
   "language": "python",
   "name": "conda-env-py38_default-py"
  },
  "language_info": {
   "name": "python",
   "version": ""
  },
  "orig_nbformat": 2
 },
 "nbformat": 4,
 "nbformat_minor": 2
}