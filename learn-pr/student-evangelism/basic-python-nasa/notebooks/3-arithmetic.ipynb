{
 "cells": [
  {
   "cell_type": "markdown",
   "metadata": {},
   "source": [
    "Math is used frequently in computer science. The concepts you'll learn in this module will be great tools to add to your coding arsenal. Python has features that allow you to do many different mathematical computations.\r\n",
    "\r\n",
    "## Simple calculations\r\n",
    "\r\n",
    "As with a calculator, you can use the addition `+` , subtraction `-` , multiplication `* `, and division `/` operators in Python to add, subtract, multiply, and divide numbers.\r\n",
    "\r\n",
    "For example, write the following comment and code in a cell, then select the run button to see the output."
   ]
  },
  {
   "cell_type": "code",
   "execution_count": null,
   "metadata": {},
   "outputs": [],
   "source": [
    "# Combining two piles of space rocks\r\n",
    "3 + 6"
   ]
  },
  {
   "cell_type": "code",
   "execution_count": null,
   "metadata": {},
   "outputs": [],
   "source": [
    "# Lose three units of oxygen\r\n",
    "15 - 3"
   ]
  },
  {
   "cell_type": "code",
   "execution_count": null,
   "metadata": {},
   "outputs": [],
   "source": [
    "# Finding how far a rocket has gone by multiplying speed by time travelling\r\n",
    "17000 * 2"
   ]
  },
  {
   "cell_type": "code",
   "execution_count": null,
   "metadata": {},
   "outputs": [],
   "source": [
    "# Number of rocks per pile if we separate 100 space rocks in 4 piles\r\n",
    "100 / 4"
   ]
  },
  {
   "cell_type": "markdown",
   "metadata": {},
   "source": [
    "Furthermore, just like on calculators, the order of operations are in play when coding with Python. You can use parentheses to combat this issue.\n",
    "\n",
    "If you are following along using Visual Studio Code, you can copy the following code into a Notebook cell and run it. Otherwise, you can run this code directly on this page! Notice how you get two different numbers."
   ]
  },
  {
   "cell_type": "code",
   "execution_count": null,
   "metadata": {},
   "outputs": [],
   "source": [
    "2 + 5 * 3"
   ]
  },
  {
   "cell_type": "code",
   "execution_count": null,
   "metadata": {},
   "outputs": [],
   "source": [
    "(2 + 5) * 3"
   ]
  },
  {
   "cell_type": "markdown",
   "metadata": {},
   "source": [
    "You get two different numbers because the order of operations computes multiplication and division before addition and subtraction.\r\n",
    "\r\n",
    "## More advanced math\r\n",
    "\r\n",
    "There are also more advanced calculations that Python can compute.\r\n",
    "\r\n",
    "To calculate a remainder value when doing division, use the modulus `%` operator (the percent sign):"
   ]
  },
  {
   "cell_type": "code",
   "execution_count": null,
   "metadata": {},
   "outputs": [],
   "source": [
    "# How many rocks will be left when we divide 10 rocks into 3 even piles\r\n",
    "10 % 3"
   ]
  },
  {
   "cell_type": "markdown",
   "metadata": {},
   "source": [
    "To calculate exponents, use the exponential operator `**`, which is two asterisks:"
   ]
  },
  {
   "cell_type": "code",
   "execution_count": null,
   "metadata": {},
   "outputs": [],
   "source": [
    "# The moon is just under 10^5.37 miles away\r\n",
    "10 ** 5.37"
   ]
  },
  {
   "cell_type": "markdown",
   "metadata": {},
   "source": [
    "To leave off the remainder value when doing division, use the remainder operator `//`, which is two forward slash marks:"
   ]
  },
  {
   "cell_type": "code",
   "execution_count": null,
   "metadata": {},
   "outputs": [],
   "source": [
    "# How many even piles of 2 we can make with 5 rocks\r\n",
    "5 // 2"
   ]
  }
 ],
 "metadata": {
  "kernelspec": {
    "name": "conda-env-py37_default-py",
    "language": "python",
    "display_name": "py37_default"  
  },
  "language_info": {
   "name": "python",
   "version": ""
  },
  "orig_nbformat": 2
 },
 "nbformat": 4,
 "nbformat_minor": 2
}