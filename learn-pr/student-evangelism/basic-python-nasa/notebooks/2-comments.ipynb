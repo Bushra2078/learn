{
 "cells": [
  {
   "cell_type": "markdown",
   "metadata": {},
   "source": [
    "Over the course of this module, we'll be using comments in our code. Learning how to use comments efficiently will greatly improve the readability of your code and help you learn programming topics faster.\r\n",
    "\r\n",
    "## What are comments?\r\n",
    "\r\n",
    "In programming, comments are words that the computer will not read when running the code. Their sole purpose is to help developers who are reading and writing code. Comments are great for explaining complex code to others, helping you remember what a certain part of your code does, and reminding you of what needs to be added to your code.\r\n",
    "\r\n",
    "## How to use comments\r\n",
    "\r\n",
    "In Python, comments are as simple as including a # before the comment that you would like to add. Run the following cell by clicking on the run button to see that nothing gets printed out."
   ]
  },
  {
   "cell_type": "code",
   "execution_count": null,
   "metadata": {},
   "outputs": [],
   "source": [
    "# This is a comment"
   ]
  },
  {
   "cell_type": "markdown",
   "metadata": {},
   "source": [
    "As noted previously, comments are not run by the computer. If you look at the code below, 2 + 2 is commented out so the computer will only recognize and compute 2 + 3. Run this code in the cell by clicking on the run button and note the results."
   ]
  },
  {
   "cell_type": "code",
   "execution_count": null,
   "metadata": {},
   "outputs": [],
   "source": [
    "# 2 + 2\r\n",
    "2 + 3"
   ]
  },
  {
   "cell_type": "markdown",
   "metadata": {},
   "source": [
    "> **Note:** You're not expected to know what the code below does, it is used solely for the purpose of showing comments.\r\n",
    "\r\n",
    "Another great use of comments is to add TODOs to let you know what still needs to be done. In this example, the comment is reminding a developer to finish a piece of code at a later time."
   ]
  },
  {
   "cell_type": "code",
   "execution_count": null,
   "metadata": {},
   "outputs": [],
   "source": [
    "# TODO Finish analyze space rock function\r\n",
    "def analyzeSpaceRock():\r\n",
    "    "
   ]
  },
  {
   "cell_type": "markdown",
   "metadata": {},
   "source": [
    "## Block comments\r\n",
    "\r\n",
    "Block comments are many lines of comments strung together. They can be useful to help explain code to a user who might be unfamiliar with the concepts you're using or to describe what an entire program does."
   ]
  },
  {
   "cell_type": "code",
   "execution_count": null,
   "metadata": {},
   "outputs": [],
   "source": [
    "# This code is a function that will take in\r\n",
    "# text and then see what type of space rock it is.\r\n",
    "# If the rock matches a certain type of rock\r\n",
    "# it will increase the count of that rock type by 1.\r\n",
    "# Basalt is a common type of rock found on the moon.\r\n",
    "\r\n",
    "def countRocks(rockText):\r\n",
    "    if(rockText == \"Basalt\"):\r\n",
    "        basalt = basalt + 1"
   ]
  },
  {
   "cell_type": "markdown",
   "metadata": {},
   "source": [
    "## Inline comments\r\n",
    "\r\n",
    "Inline comments are written on the same line as written code. Use them sparingly because they can add clutter to your code. They're good at explaining a tricky line of code."
   ]
  },
  {
   "cell_type": "code",
   "execution_count": null,
   "metadata": {},
   "outputs": [],
   "source": [
    "rocketSpeed = 17000 # rocket speed needed to reach orbit"
   ]
  },
  {
   "cell_type": "markdown",
   "metadata": {},
   "source": [
    "Now that you have learned about comments, you can carry on to learn about using math in Python."
   ]
  }
 ],
 "metadata": {
  "kernelspec": {
   "display_name": "py37_default",
   "language": "python",
   "name": "conda-env-py37_default-py"
  },
  "language_info": {
   "name": "python",
   "version": ""
  },
  "orig_nbformat": 2
 },
 "nbformat": 4,
 "nbformat_minor": 2
}