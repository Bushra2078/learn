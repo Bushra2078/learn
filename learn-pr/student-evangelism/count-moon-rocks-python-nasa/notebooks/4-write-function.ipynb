{
 "cells": [
  {
   "source": [
    "Let's start by making sure we have the code from the previous units loaded in our notebook:"
   ],
   "cell_type": "markdown",
   "metadata": {}
  },
  {
   "cell_type": "code",
   "execution_count": null,
   "metadata": {},
   "outputs": [],
   "source": [
    "print(\"Artemis Rover Rock Scanner Starting\")\n",
    "\n",
    "basalt = 0\n",
    "breccia = 0\n",
    "highland = 0\n",
    "regolith = 0\n",
    "rockList = []\n",
    "\n",
    "strPath = \"rocks.txt\"\n",
    "fileObject = open(strPath)\n",
    "line = fileObject.readline()\n",
    "print(line)\n",
    "\n",
    "rockList = fileObject.readlines()\n",
    "\n",
    "for rock in rockList:\n",
    "    print(rock)\n",
    "\n",
    "fileObject.close()"
   ]
  },
  {
   "cell_type": "markdown",
   "metadata": {},
   "source": [
    "The next step in our application is to add a function that will look at a line of text, tell us which type of rock it is, and increment the corresponding variable. To start, copy this code:"
   ]
  },
  {
   "cell_type": "code",
   "execution_count": null,
   "metadata": {},
   "outputs": [],
   "source": [
    "def countMoonRocks(rockToID):\r\n",
    "    global basalt\r\n",
    "    global breccia\r\n",
    "    global highland\r\n",
    "    global regolith\r\n",
    "\r\n",
    "    rockToID = rockToID.lower()\r\n",
    "\r\n",
    "    if(\"basalt\" in rockToID):\r\n",
    "        print(\"Found a basalt\\n\")\r\n",
    "        basalt += 1\r\n",
    "\r\n",
    "    #TODO Add else if statements for breccia, highland and regolith\r\n",
    "\r\n",
    "    return"
   ]
  },
  {
   "cell_type": "markdown",
   "metadata": {},
   "source": [
    "Solution Code:"
   ]
  },
  {
   "cell_type": "code",
   "execution_count": null,
   "metadata": {},
   "outputs": [],
   "source": [
    "def countMoonRocks(rockToID):\r\n",
    "    global basalt\r\n",
    "    global breccia\r\n",
    "    global highland\r\n",
    "    global regolith\r\n",
    "\r\n",
    "    rockToID = rockToID.lower()\r\n",
    "\r\n",
    "    if(\"basalt\" in rockToID):\r\n",
    "        print(\"Found a basalt\\n\")\r\n",
    "        basalt += 1\r\n",
    "    elif(\"breccia\" in rockToID):\r\n",
    "        print(\"Found a breccia\\n\")\r\n",
    "        breccia += 1\r\n",
    "    elif(\"highland\" in rockToID):\r\n",
    "        print(\"Found a highland\\n\")\r\n",
    "        highland += 1\r\n",
    "    elif(\"regolith\" in rockToID):\r\n",
    "        print(\"Found a regolith\\n\")\r\n",
    "        regolith += 1\r\n",
    "\r\n",
    "    return"
   ]
  },
  {
   "cell_type": "markdown",
   "metadata": {},
   "source": [
    "As you recall, these lines will create a function that has a parameter of a string variable `rockToID` and returns nothing. We'll be calling the function and passing in one of four rock names: Basalt, Breccia, Highland, or Regolith. We'll need to make each rock type a global variable, to ensure that the variables will remember how many rocks they've counted. To increment the correct variable based on the types of rocks that Artemis found, we'll use if statements.\r\n",
    "\r\n",
    "The code above checks if the string we've passed through to the function has the text \"basalt\". If it does, we'll go into the if statement and print out that we have found a Basalt rock and then increment the variable for Basalt by one.\r\n",
    "\r\n",
    "> **Note:** if the line of text had \"basalt\" in it, with other text, it would still be counted. For example, \"No basalt here\" would be counted as one for Basalt. This shouldn't be a problem in this case because we know where the data is coming from and what it will look like.\r\n",
    "\r\n",
    "Add elseif statements for the remaining types of rocks."
   ]
  }
 ],
 "metadata": {
  "kernelspec": {
    "name": "conda-env-py37_default-py",
    "language": "python",
    "display_name": "py37_default"
  },
  "language_info": {
   "name": "python",
   "version": ""
  },
  "orig_nbformat": 2
 },
 "nbformat": 4,
 "nbformat_minor": 2
}