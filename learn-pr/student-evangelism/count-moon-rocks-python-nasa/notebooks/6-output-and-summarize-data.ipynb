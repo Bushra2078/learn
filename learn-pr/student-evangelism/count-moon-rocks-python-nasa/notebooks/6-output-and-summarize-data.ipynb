{
 "cells": [
  {
   "source": [
    "Let's start by making sure we have the code from the previous units loaded in our notebook:"
   ],
   "cell_type": "markdown",
   "metadata": {}
  },
  {
   "cell_type": "code",
   "execution_count": null,
   "metadata": {},
   "outputs": [],
   "source": [
    "print(\"Artemis Rover Rock Scanner Starting\")\n",
    "\n",
    "basalt = 0\n",
    "breccia = 0\n",
    "highland = 0\n",
    "regolith = 0\n",
    "rockList = []\n",
    "\n",
    "strPath = \"rocks.txt\"\n",
    "fileObject = open(strPath)\n",
    "line = fileObject.readline()\n",
    "print(line)\n",
    "\n",
    "rockList = fileObject.readlines()\n",
    "\n",
    "for rock in rockList:\n",
    "    print(rock)\n",
    "\n",
    "fileObject.close()\n",
    "\n",
    "def countMoonRocks(rockToID):\n",
    "    global basalt\n",
    "    global breccia\n",
    "    global highland\n",
    "    global regolith\n",
    "\n",
    "    rockToID = rockToID.lower()\n",
    "\n",
    "    if(\"basalt\" in rockToID):\n",
    "        print(\"Found a basalt\\n\")\n",
    "        basalt += 1\n",
    "    elif(\"breccia\" in rockToID):\n",
    "        print(\"Found a breccia\\n\")\n",
    "        breccia += 1\n",
    "    elif(\"highland\" in rockToID):\n",
    "        print(\"Found a highland\\n\")\n",
    "        highland += 1\n",
    "    elif(\"regolith\" in rockToID):\n",
    "        print(\"Found a regolith\\n\")\n",
    "        regolith += 1\n",
    "\n",
    "    return\n",
    "\n",
    "for rock in rockList:\n",
    "    countMoonRocks(rock)"
   ]
  },
  {
   "cell_type": "markdown",
   "metadata": {},
   "source": [
    "Let's start by printing the number of each type of rock we found. For example, to print the number of basalt rocks, copy and paste in the following code:"
   ]
  },
  {
   "cell_type": "code",
   "execution_count": null,
   "metadata": {},
   "outputs": [],
   "source": [
    "# TODO Add a print statement for the other types of rocks: breccia, highland and regolith\r\n",
    "print(\"Number of Basalt: \", basalt)"
   ]
  },
  {
   "cell_type": "markdown",
   "metadata": {},
   "source": [
    "As you can see, we first output a string that tells the user what they'll see. Then we concatenate on the variable name that includes the number of basalt rocks we found.\r\n",
    "\r\n",
    "Do the same thing for the four types of rock variables we created.\r\n",
    "\r\n",
    "Next, let's provide some more general data, such as the type of rock that was the most and least common. In this case, we'll use the max() and min() functions that we learned about before.\r\n",
    "\r\n",
    "Try to figure out what you need to do, but if you get stuck read below for the answer:"
   ]
  },
  {
   "cell_type": "code",
   "execution_count": null,
   "metadata": {},
   "outputs": [],
   "source": [
    "# TODO Add other rock types to the \"max\" and \"min\" function calls\r\n",
    "print(\"The max number of one type of rock found was:\", max(basalt, ))\r\n",
    "print(\"The minimum number of one type of rock found was:\", min(basalt, ))"
   ]
  },
  {
   "cell_type": "markdown",
   "metadata": {},
   "source": [
    "Solution Code:"
   ]
  },
  {
   "cell_type": "code",
   "execution_count": null,
   "metadata": {},
   "outputs": [],
   "source": [
    "print(\"Number of Basalt: \", basalt)\r\n",
    "print(\"Number of Breccia: \", breccia)\r\n",
    "print(\"Number of Highland: \", highland)\r\n",
    "print(\"Number of Regolith: \", regolith)\r\n",
    "\r\n",
    "print(\"The max number of one type of rock found was:\", max(basalt, breccia, highland,regolith))\r\n",
    "print(\"The minimum number of one type of rock found was:\", min(basalt, breccia, highland, regolith))"
   ]
  },
  {
   "cell_type": "markdown",
   "metadata": {},
   "source": [
    "Congratulations, you've successfully programmed Artemis to give a summary about the different types of rock data that it found."
   ]
  }
 ],
 "metadata": {
  "kernelspec": {
    "name": "conda-env-py37_default-py",
    "language": "python",
    "display_name": "py37_default"
  },
  "language_info": {
   "name": "python",
   "version": ""
  },
  "orig_nbformat": 2
 },
 "nbformat": 4,
 "nbformat_minor": 2
}