{
 "cells": [
  {
   "source": [
    "Let's start by making sure we have the code from the previous unit:"
   ],
   "cell_type": "markdown",
   "metadata": {}
  },
  {
   "cell_type": "code",
   "execution_count": null,
   "metadata": {},
   "outputs": [],
   "source": [
    "print(\"Artemis Rover Rock Scanner Starting\")\n",
    "\n",
    "basalt = 0\n",
    "breccia = 0\n",
    "highland = 0\n",
    "regolith = 0\n",
    "rockList = []"
   ]
  },
  {
   "cell_type": "markdown",
   "metadata": {},
   "source": [
    "Now that we have some variables made, we can start giving these variables values. We want to count the number of times we see a certain type of rock in the rocks.txt file and add that number to the corresponding variable. For example, if there are 12 basalt rocks that Artemis saved to the text file, then we'll want the basalt variable to be set to 12.\r\n",
    "\r\n",
    "Let's start by telling the computer to read in the rocks.txt file. To do this, copy the code below. The readline function will read the first line, which is just telling us that we are starting to read the rocks."
   ]
  },
  {
   "cell_type": "code",
   "execution_count": null,
   "metadata": {},
   "outputs": [],
   "source": [
    "strPath = \"rocks.txt\"\r\n",
    "fileObject = open(strPath)\r\n",
    "line = fileObject.readline()\r\n",
    "print(line)"
   ]
  },
  {
   "cell_type": "markdown",
   "metadata": {},
   "source": [
    "Now, we can call the readlines() function to put all of the lines into our rockList variable. We'll also print all of the rocks that are in the rockList and close the fileObject."
   ]
  },
  {
   "cell_type": "code",
   "execution_count": null,
   "metadata": {},
   "outputs": [],
   "source": [
    "rockList = fileObject.readlines()\r\n",
    "\r\n",
    "for rock in rockList:\r\n",
    "    print(rock)\r\n",
    "\r\n",
    "fileObject.close()"
   ]
  },
  {
   "cell_type": "markdown",
   "metadata": {},
   "source": [
    "Although we're only printing out each rock that we see in a file at this stage, this exercise will set us up perfectly to call a function. This function will look at each rock and add to the corresponding variable if it sees a rock of the correct type."
   ]
  }
 ],
 "metadata": {
  "kernelspec": {
    "name": "conda-env-py37_default-py",
    "language": "python",
    "display_name": "py37_default"
  },
  "language_info": {
   "name": "python",
   "version": ""
  },
  "orig_nbformat": 2
 },
 "nbformat": 4,
 "nbformat_minor": 2
}