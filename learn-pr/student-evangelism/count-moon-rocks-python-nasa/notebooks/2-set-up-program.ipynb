{
 "cells": [
  {
   "cell_type": "markdown",
   "metadata": {},
   "source": [
    "To start our program, we'll want to let the user know that the program is beginning, by using the print command to output a string of text.\n",
    "\n",
    "If you are completing this module on your local computer using Visual Studio Code, then you have a few extra steps you need to do before you get started. \n",
    "\n",
    "First, make a folder somewhere on your computer that you can access easily. Call the folder something like SpaceRockProject. Then open the file [rocks.txt](../resources/rocks.txt?azure-portal=true) and use `file -> save as` to save a copy in your folder. This file contains all of the rocks data that we're going to be reading in Python.\n",
    "\n",
    "![Screenshot showing how to save the rock text file.](./media/save-rock-file.png)\n",
    "\n",
    "Next, open Visual Studio Code and select **File** then **New File**. Once the blank file is open, make the keystrokes \"Ctrl+S\" to save it. Navigate to the folder you created, name the file something informative such as ArtemisRockClassifier, and change the file type to Jupyter from the drop-down menu. Now we have everything created, we can start coding!\n",
    "\n",
    "![Screenshot showing how to create the final project Jupyter Notebook.](./media/create-final-project.png)\n",
    "\n",
    "If you are completing this module here on Microsoft Learn, you can skip all of the above instructions and skip directly to executing this cell, letting the user know that the program is beginning. "
   ]
  },
  {
   "cell_type": "code",
   "execution_count": null,
   "metadata": {},
   "outputs": [],
   "source": [
    "print(\"Artemis Rover Rock Scanner Starting\")"
   ]
  },
  {
   "cell_type": "markdown",
   "metadata": {},
   "source": [
    "Next, we want to create some variables that will represent the count of the different types of rocks that Artemis found on the Moon. The specific rocks that we're looking for are: Basalt: The Mare Rock, Breccia: Shocked Rock, Highland Rock: Anorthosite, and Regolith Soil/Surface Layer. These types are the four main types of rocks found on the Moon.\n",
    "\n",
    "Let's make some variables with names of \"basalt\", \"breccia\", \"highland\", and \"regolith\". We can also set these variables to 0 since we've not yet counted any rocks. Finally, make a list called rockList that will store the names of every rock the rover found. We can make the list empty, setting it equal to brackets with nothing inside them."
   ]
  },
  {
   "cell_type": "code",
   "execution_count": null,
   "metadata": {},
   "outputs": [],
   "source": [
    "basalt = 0\r\n",
    "breccia = 0\r\n",
    "highland = 0\r\n",
    "regolith = 0\r\n",
    "rockList = []"
   ]
  }
 ],
 "metadata": {
  "kernelspec": {
    "name": "conda-env-py37_default-py",
    "language": "python",
    "display_name": "py37_default"
  },
  "language_info": {
   "name": "python",
   "version": ""
  },
  "orig_nbformat": 2
 },
 "nbformat": 4,
 "nbformat_minor": 2
}