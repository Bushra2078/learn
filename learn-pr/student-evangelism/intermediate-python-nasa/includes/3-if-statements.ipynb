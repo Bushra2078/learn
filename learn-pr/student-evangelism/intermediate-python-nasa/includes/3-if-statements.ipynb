{
 "cells": [
  {
   "cell_type": "markdown",
   "metadata": {},
   "source": [
    "We use conditional statements to tell the computer what to do if some condition is met, or is not met: do this; if not, do something else.\r\n",
    "\r\n",
    "## If statement\r\n",
    "\r\n",
    "The most basic conditional statement is the `if` statement. The `if` statement checks whether a condition is true or not true. If the condition is true, the `if` statement runs the code that's defined inside the statement. If the condition is not true, any code that's defined inside the `if` statement is skipped.\r\n",
    "\r\n",
    "Some real world examples are:\r\n",
    "\r\n",
    "- If the temperature is above freezing, the rocket will launch.\r\n",
    "- If oxygen levels drop, grab a space suit and oxygen tank.\r\n",
    "\r\n",
    "In Python, the format for an `if` statement is:\r\n",
    "\r\n",
    "```python\r\n",
    "if(conditionToTestIsTrue):\r\n",
    "    doSomething\r\n",
    "```\r\n",
    "\r\n",
    "It's crucial to include the colon `:` at the end of the `if` statement, and also to indent each line of code that's defined inside the `if` statement. The indented lines of code will run when the `if` condition evaluates to True.\r\n",
    "\r\n",
    "The following example shows how to use an `if` statement in Python. We use the `if` statement to test whether the count of basalt rocks is 0. If the count is 0, both `print()` statements run and display their output. If the count of rocks is not 0, the first `print()` statement is skipped, and only the second `print()` statement runs."
   ]
  },
  {
   "cell_type": "code",
   "execution_count": null,
   "metadata": {},
   "outputs": [],
   "source": [
    "basalt = 0\r\n",
    "if(basalt == 0):\r\n",
    "    print(\"We have found no basalt rocks.\")\r\n",
    "print(\"Done checking basalt rocks.\")"
   ]
  },
  {
   "cell_type": "code",
   "execution_count": null,
   "metadata": {},
   "outputs": [],
   "source": [
    "basalt = 1\r\n",
    "if(basalt == 0):\r\n",
    "    print(\"We have found no basalt rocks.\")\r\n",
    "print(\"Done checking basalt rocks.\")"
   ]
  },
  {
   "cell_type": "markdown",
   "metadata": {},
   "source": [
    "## Else statement\n",
    "\n",
    "The `else` statement extends the `if` conditional statement and allows coders to have more control over what happens depending on the condition result. An `else` statement must be written after an `if` statement. The program always executes the code that's defined inside the `else` statement when the condition in the `if` statement is not met.\n",
    "\n",
    "Here's an example:"
   ]
  },
  {
   "cell_type": "code",
   "execution_count": null,
   "metadata": {},
   "outputs": [],
   "source": [
    "basalt = 0\r\n",
    "if(basalt == 0):\r\n",
    "    print(\"We have found no basalt rocks.\")\r\n",
    "else:\r\n",
    "    print(\"We found some basalt rocks!\")\r\n",
    "print(\"Done checking basalt rocks.\")"
   ]
  },
  {
   "cell_type": "code",
   "execution_count": null,
   "metadata": {},
   "outputs": [],
   "source": [
    "basalt = 5\r\n",
    "if(basalt == 0):\r\n",
    "    print(\"We have found no basalt rocks.\")\r\n",
    "else:\r\n",
    "    print(\"We found some basalt rocks!\")\r\n",
    "print(\"Done checking basalt rocks.\")"
   ]
  },
  {
   "cell_type": "markdown",
   "metadata": {},
   "source": [
    "## Else-if statement\r\n",
    "\r\n",
    "Python also supports else-if checks, for further control on actions based on data. The `elif` statement is written after an `if` statement and before an `else` statement. You can have as many `elif` statements as you want between the initial `if` statement and the final `else` statement.\r\n",
    "\r\n",
    "The `elif` statement is just another `if` statement. When the conditions in the initial `if` statement are not met, the program checks whether the conditions in the next `elif` statement are met. When the conditions for the `elif` statement are met, the code that's defined inside the `elif` statement is run. Any code that's defined in a subsequent `elif` or `else` statement is skipped.\r\n",
    "\r\n",
    "Here's an example of how an `elif` statement is used:"
   ]
  },
  {
   "cell_type": "code",
   "execution_count": null,
   "metadata": {},
   "outputs": [],
   "source": [
    "basalt = 1\r\n",
    "if(basalt == 0):\r\n",
    "    print(\"We found no basalt rocks.\")\r\n",
    "elif(basalt == 1):\r\n",
    "    print(\"We found exactly 1 basalt rock.\")\r\n",
    "else:\r\n",
    "    print(\"We found more than 1 basalt rock!\")\r\n",
    "print(\"Done checking basalt rocks.\")"
   ]
  }
 ],
 "metadata": {
  "kernelspec": {
   "display_name": "Python 3.8.5 64-bit",
   "name": "python385jvsc74a57bd0f9a8a1a5e47bc394320661481e146448fe3264d6a93503594fd40d92b7a8ba35"
  },
  "language_info": {
   "name": "python",
   "version": ""
  },
  "orig_nbformat": 2
 },
 "nbformat": 4,
 "nbformat_minor": 2
}