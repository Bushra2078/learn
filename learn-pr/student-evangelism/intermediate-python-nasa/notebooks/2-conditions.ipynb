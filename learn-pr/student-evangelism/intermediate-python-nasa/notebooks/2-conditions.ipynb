{
 "cells": [
  {
   "cell_type": "markdown",
   "metadata": {},
   "source": [
    "In the real world, we'll sometimes only perform an action if a certain condition is met. This is the gist of conditionals in coding. For example, we may want to launch a rocket only if the temperature is above 32 degrees. Let's start by learning about the different conditions we can check to help us decide whether to perform an action or not.\r\n",
    "\r\n",
    "## Conditions\r\n",
    "\r\n",
    "Conditions are what need to be met before we change tasks. We can find out if a condition is met by comparing two values. To do this we use something called logical operators. Logical operators will return either True, if the statement is true, or False, if the statement is false. Remember: True and False values are called booleans.\r\n",
    "\r\n",
    "For example, if our condition is to check whether the temperature is above freezing (to see if a rocket launch would be delayed) our condition would be `temperature > 32`. This would give us True if the temperature is above freezing and False if the temperature is at or below freezing.\r\n",
    "\r\n",
    "Here are some common logical operators:\r\n",
    "\r\n",
    "- Equals: `x == y`\r\n",
    "- Not Equals: `x != y`\r\n",
    "- Less than: `x < y`\r\n",
    "- Less than or equal to: `x <= y`\r\n",
    "- Greater than: `x > y`\r\n",
    "- Greater than or equal: `x >= y`\r\n",
    "\r\n",
    "Try to play around with some logical operators in Jupyter Notebooks. Notice how the single equal sign and double equal signs have different meanings. The single equal assigns a value to a variable, while the double equals compares values. This difference is a common gotcha beginner programmer can face."
   ]
  },
  {
   "cell_type": "code",
   "execution_count": null,
   "metadata": {},
   "outputs": [],
   "source": [
    "temp = 50\r\n",
    "print(temp >= 32)\r\n",
    "print(temp < 32)"
   ]
  },
  {
   "cell_type": "markdown",
   "metadata": {},
   "source": [
    "You can also use these operators on other variable types."
   ]
  },
  {
   "cell_type": "code",
   "execution_count": null,
   "metadata": {},
   "outputs": [],
   "source": [
    "rock = \"basalt\"\r\n",
    "print(\"highland\" == rock)\r\n",
    "print(\"basalt\" == rock)"
   ]
  },
  {
   "cell_type": "markdown",
   "metadata": {},
   "source": [
    "For reasons that are beyond the scope of this module, sometimes when comparing variables, you must use commands like \"in\". This just checks whether a word is inside the variable."
   ]
  },
  {
   "cell_type": "code",
   "execution_count": null,
   "metadata": {},
   "outputs": [],
   "source": [
    "rock = \"basaltrock\"\r\n",
    "print(\"highland\" in rock)\r\n",
    "print(\"basalt\" in rock)"
   ]
  },
  {
   "cell_type": "markdown",
   "metadata": {},
   "source": [
    "Now we know how to write the conditions to determine whether we want an action to execute or not, we can begin to specify what action we want to occur."
   ]
  }
 ],
 "metadata": {
  "kernelspec": {
    "name": "conda-env-py37_default-py",
    "language": "python",
    "display_name": "py37_default"
  },
  "language_info": {
   "name": "python",
   "version": ""
  },
  "orig_nbformat": 2
 },
 "nbformat": 4,
 "nbformat_minor": 2
}