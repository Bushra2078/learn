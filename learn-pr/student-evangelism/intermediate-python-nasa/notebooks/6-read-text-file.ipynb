{
 "cells": [
  {
   "cell_type": "markdown",
   "metadata": {},
   "source": [
    "In many applications of Python, you'll need to use data from an external source. For example, an Excel file with data tracking the various parts of a rocket or a text file to read the rocks that a moon rover sees. In this unit, we'll learn how to read data from a text file using a pre-made Python function.\n",
    "\n",
    "## Setting up data\n",
    "\n",
    "The first step to reading data from a file is to get a file and save it in a location that we can tell Python to access later. \n",
    "\n",
    "If you are doing this in Visual Studio, find out where your Jupyter Notebook file is saved. This may be in a Python folder or even on your desktop. Next, you'll need to save [this text.txt file](../resources/text.txt?azure-portal=true). It's important that you save this file in the same location as your Jupyter Notebook file. This will make is easy to tell Python where to find the data. Your folder should look similar to the one below.\n",
    "\n",
    "![Screenshot that shows file structure.](./media/save-text-file.png)\n",
    "\n",
    "If you are running this in the notebook on this module, you will automatically have access to the text.txt file.\n",
    "\n",
    "## Getting data into Jupyter Notebook\n",
    "\n",
    "Now that we have our data saved, we must make a string in Python telling us what the file name is."
   ]
  },
  {
   "cell_type": "code",
   "execution_count": null,
   "metadata": {},
   "outputs": [],
   "source": [
    "strPath = \"text.txt\""
   ]
  },
  {
   "cell_type": "markdown",
   "metadata": {},
   "source": [
    "Next, we'll use the open() function to get the file in Python. We'll make a new variable called fileObject to hold the data."
   ]
  },
  {
   "cell_type": "code",
   "execution_count": null,
   "metadata": {},
   "outputs": [],
   "source": [
    "fileObject = open(strPath)"
   ]
  },
  {
   "cell_type": "markdown",
   "metadata": {},
   "source": [
    "Finally, we'll have Python read this `fileObject` variable to give us a list of strings that we can explore with Python functions by using the readlines() function. The readlines() function will take each line of the text file and make it an entry in a list. We'll store this list in another variable so we can print it out later. It's also good practice to close out the fileObject when you're done with it. Do this by calling .close()."
   ]
  },
  {
   "cell_type": "code",
   "execution_count": null,
   "metadata": {},
   "outputs": [],
   "source": [
    "textList = fileObject.readlines()\r\n",
    "fileObject.close()"
   ]
  },
  {
   "cell_type": "markdown",
   "metadata": {},
   "source": [
    "Finally, we can print the contents of the string we just read by iterating over the list:"
   ]
  },
  {
   "cell_type": "code",
   "execution_count": null,
   "metadata": {},
   "outputs": [],
   "source": [
    "for line in textList:\r\n",
    "    print(line)"
   ]
  },
  {
   "cell_type": "markdown",
   "metadata": {},
   "source": [
    "The example above teaches us how to read the full data into Python. We can also read a text file and only go through certain parts of. This is called parsing in programming. To parse through the text we just imported, let's go line by line and print every line out. Since every line is an element in our list we can get the first line by looking at the first element in the list."
   ]
  },
  {
   "cell_type": "code",
   "execution_count": null,
   "metadata": {},
   "outputs": [],
   "source": [
    "firstLine = textList[0]\r\n",
    "print(firstLine)"
   ]
  },
  {
   "cell_type": "markdown",
   "metadata": {},
   "source": [
    "To read the second line from the text file, just get the second item in the list."
   ]
  },
  {
   "cell_type": "code",
   "execution_count": null,
   "metadata": {},
   "outputs": [],
   "source": [
    "secondLine = textList[1]\r\n",
    "print(secondLine)"
   ]
  }
 ],
 "metadata": {
  "kernelspec": {
   "display_name": "Python 3.8.5 64-bit",
   "name": "python385jvsc74a57bd0f9a8a1a5e47bc394320661481e146448fe3264d6a93503594fd40d92b7a8ba35"
  },
  "language_info": {
   "name": "python",
   "version": ""
  },
  "orig_nbformat": 2
 },
 "nbformat": 4,
 "nbformat_minor": 2
}