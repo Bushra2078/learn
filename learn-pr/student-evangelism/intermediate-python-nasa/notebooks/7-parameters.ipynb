{
 "cells": [
  {
   "cell_type": "markdown",
   "metadata": {},
   "source": [
    "Another interesting aspect of functions is that variables created inside them exist only inside the function. For example, this code would fail because we create the `rocketNumber` variable inside the function and then try to use it outside the function. Python doesn't know about that variable outside the function so it returns an error.\n",
    "\n",
    "Run this code cell to see the error produced by attempting to use a variable that only exists within the scope of the function:"
   ]
  },
  {
   "cell_type": "code",
   "execution_count": null,
   "metadata": {},
   "outputs": [],
   "source": [
    "def OutputRocketText():\r\n",
    "    rocketNumber = 1\r\n",
    "    print(\"Rocket will launch soon!\")\r\n",
    "\r\n",
    "    return\r\n",
    "\r\n",
    "OutputRocketText()\r\n",
    "print(rocketNumber)"
   ]
  },
  {
   "cell_type": "markdown",
   "metadata": {},
   "source": [
    "In addition, if you have variables created outside a function, you can access them inside a function but you can't change them.\n",
    "\n",
    "Run this code cell to see the error produced when you attempt to do this:"
   ]
  },
  {
   "cell_type": "code",
   "execution_count": null,
   "metadata": {},
   "outputs": [],
   "source": [
    "rocketText = \"We will launch in\"\n",
    "def OutputRocketText():\n",
    "    rocketText = rocketText + \" two days\"\n",
    "    return\n",
    "\n",
    "OutputRocketText()"
   ]
  },
  {
   "cell_type": "markdown",
   "metadata": {},
   "source": [
    "As you can see, this code produces an error as well, because we are trying to modify a variable that was created outside a function.\n",
    "\n",
    "To combat this, we can do one of two things:\n",
    "\n",
    "- Make a variable a global variable\n",
    "- Give a variable to the function, so it knows what the variable is, and then return it\n",
    "\n",
    "The easiest way to change the value of a variable inside a function is to make it a global variable. Everything in the program can modify a global variable, even if it is modified inside a function. To make something a global variable, you must create a variable before you call the function and then include a line in your function that gives the global variable name:"
   ]
  },
  {
   "cell_type": "code",
   "execution_count": null,
   "metadata": {},
   "outputs": [],
   "source": [
    "rocketText = \"We will launch in\"\n",
    "\n",
    "def OutputRocketText():\n",
    "    global rocketText\n",
    "    rocketText = rocketText + \" two days\"\n",
    "    return\n",
    "\n",
    "OutputRocketText()\n",
    "print(rocketText)"
   ]
  },
  {
   "cell_type": "markdown",
   "metadata": {},
   "source": [
    "Another way to modify variables inside a function is to use parameters. Parameters give a function knowledge of a variable when you call it. To tell Python you want your functions to have parameters, use the following code.\n",
    "\n",
    "Try running this code cell to see that this works."
   ]
  },
  {
   "cell_type": "code",
   "execution_count": null,
   "metadata": {},
   "outputs": [],
   "source": [
    "def OutputRocketText(textInput):\n",
    "    textInput = textInput + \" two days\"\n",
    "    return textInput\n",
    "\n",
    "rocketText = \"We will launch in\"\n",
    "newRocketText = OutputRocketText(rocketText)\n",
    "print(newRocketText)"
   ]
  },
  {
   "cell_type": "markdown",
   "metadata": {},
   "source": [
    "You can then use that variable inside the function, but it'll have a new name, which is the name inside the parentheses. Also, the function only changes this new variable inside the function. To get the value from the function variable back into the code outside the function, you must return it. Do this by adding the variable name after the return keyword."
   ]
  }
 ],
 "metadata": {
  "kernelspec": {
   "display_name": "py38_default",
   "language": "python",
   "name": "conda-env-py38_default-py"
  },
  "language_info": {
   "name": "python",
   "version": "3.7.6"
  },
  "orig_nbformat": 2
 },
 "nbformat": 4,
 "nbformat_minor": 2
}