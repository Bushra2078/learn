{
 "cells": [
  {
   "cell_type": "markdown",
   "metadata": {},
   "source": [
    "Senior officer> \"Cadet?\" \n",
    "\n",
    "You> \"Yes, ma'am?\"\n",
    "\n",
    "Senior officer> \"Can you build a program that shows me the date? The ship's computer didn't come with much in terms of utility programs, so we need to create the ones we need. Can I trust you with this?\"\n",
    "\n",
    "You> \"Consider it done.\"\n",
    "\n",
    "Senior officer> \"Excellent.\"\n",
    "\n",
    "## Your first program\n",
    "\n",
    "To create this program, you'll need to use the concepts that you learned in the last module. You'll use Jupyter Notebook in this exercise, which is a combination of text and code that you can interact with. Finish the following code to make the output show today's date."
   ]
  },
  {
   "cell_type": "code",
   "execution_count": null,
   "metadata": {},
   "outputs": [],
   "source": [
    "from datetime import date\n",
    "\n",
    "print(\"Today's date is: \")"
   ]
  },
  {
   "cell_type": "markdown",
   "metadata": {},
   "source": [
    "> **TIP**\n",
    "> Spend a few minutes trying to figure out a solution. Then scroll down to the bottom to see if you've managed to build the program according to specifications.\n",
    "\n",
    "## Build a unit converter\n",
    "\n",
    "Senior officer> \"I need one more thing: a converter program between parsecs and lightyears. Having such a program could be really useful on the bridge in plotting out our course.\"\n",
    "\n",
    "You> \"Will do!\"\n"
   ]
  },
  {
   "cell_type": "code",
   "execution_count": null,
   "metadata": {},
   "outputs": [],
   "source": [
    "parsec = 11\n",
    "\n",
    "lightyears = 0\n",
    "\n",
    "print(str(parsec) + \" parsec, is \" + str(lightyears) + \" lightyears\")"
   ]
  },
  {
   "cell_type": "markdown",
   "metadata": {},
   "source": [
    "> [!TIP]\n",
    "> 1 parsec is 3.26156 lightyears. Use the multiplication operator."
   ]
  },
  {
   "cell_type": "markdown",
   "metadata": {},
   "source": [
    "## Solutions\n",
    "\n",
    "Here's the solution for the first program:"
   ]
  },
  {
   "cell_type": "code",
   "execution_count": null,
   "metadata": {},
   "outputs": [],
   "source": [
    "from datetime import date\n",
    "\n",
    "print(\"Today's date is: \" + str(date.today()))"
   ]
  },
  {
   "cell_type": "code",
   "execution_count": null,
   "metadata": {},
   "outputs": [],
   "source": [
    "parsec = 11\n",
    "lightyears = 3.26156 * parsec\n",
    "\n",
    "print(str(parsec) + \" parsec, is \" + str(lightyears) + \" lightyears\")"
   ]
  }
 ],
 "metadata": {
  "kernel_info": {
   "name": "conda-env-py38_default-py"
  },
  "kernelspec": {
   "display_name": "py38_default",
   "language": "python",
   "name": "conda-env-py38_default-py"
  },
  "language_info": {
   "codemirror_mode": {
    "name": "ipython",
    "version": 3
   },
   "file_extension": ".py",
   "mimetype": "text/x-python",
   "name": "python",
   "nbconvert_exporter": "python",
   "pygments_lexer": "ipython3",
   "version": "3.7.9"
  },
  "orig_nbformat": 4
 },
 "nbformat": 4,
 "nbformat_minor": 2
}
