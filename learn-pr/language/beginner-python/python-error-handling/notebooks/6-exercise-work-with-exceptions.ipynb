{
 "cells": [
  {
   "cell_type": "markdown",
   "metadata": {},
   "source": [
    "## Exercise: Work with exceptions\n",
    "\n",
    "Exceptions allow a few patterns when they're used effectively. In this exercise, you'll ignore certain exceptions and fix problems where exceptions weren't used. Finally, you'll make a multiple-function program work better by handling exceptions and making decisions based on errors.\n",
    "\n",
    "As a rocket ship engineer, you need to thoroughly test the various prompts from the navigational system. One of these prompts is the confirmation prompt. It's a function that takes in a string input and returns a Boolean. For strings like `\"Yes\"`, it will return `True`. For string input like `\"No\"`, it will return `False`. "
   ]
  },
  {
   "cell_type": "code",
   "execution_count": null,
   "metadata": {},
   "outputs": [],
   "source": [
    "def str_to_bool(value):\n",
    "    \"\"\"\n",
    "    Convert a string representation of truth to True or False\n",
    "    True values are '1', y', 'yes', or ''; case-insensitive\n",
    "    False values are '0', 'n', or 'no'; case-insensitive\n",
    "    \"\"\"\n",
    "    true_vals = ['yes', 'y', '', '1']\n",
    "    false_vals = ['no', 'n', '0']\n",
    "    if value in true_vals:\n",
    "        return True\n",
    "    else:\n",
    "         return False"
   ]
  },
  {
   "cell_type": "markdown",
   "metadata": {},
   "source": [
    "The docstring in the function tells us that this function should work with case-insensitive inputs like `\"YES\"`. Try that out:"
   ]
  },
  {
   "cell_type": "code",
   "execution_count": null,
   "metadata": {},
   "outputs": [],
   "source": [
    "str_to_bool(\"YES\")"
   ]
  },
  {
   "cell_type": "markdown",
   "metadata": {},
   "source": [
    "The function returns `False`, because nothing is ensuring case-insensitive inputs. Fix that in the function by using the `.lower()` method in the `value` input:"
   ]
  },
  {
   "cell_type": "code",
   "execution_count": null,
   "metadata": {},
   "outputs": [],
   "source": [
    "def str_to_bool(value):\n",
    "    true_vals = ['yes', 'y', '', '1']\n",
    "    false_vals = ['no', 'n', '0']\n",
    "    if value.lower() in true_vals:\n",
    "        return True\n",
    "    else:\n",
    "         return False"
   ]
  },
  {
   "cell_type": "markdown",
   "metadata": {},
   "source": [
    "Try it again with the same string to ensure that the function returns `True`:"
   ]
  },
  {
   "cell_type": "code",
   "execution_count": null,
   "metadata": {},
   "outputs": [],
   "source": [
    "str_to_bool(\"YES\")"
   ]
  },
  {
   "cell_type": "markdown",
   "metadata": {},
   "source": [
    "Next, try using an integer. Although the function assumes strings as input, you think that an astronaut might enter a number directly instead of using a string. Use `1` and see if it returns `True`:"
   ]
  },
  {
   "cell_type": "code",
   "execution_count": null,
   "metadata": {},
   "outputs": [],
   "source": [
    "str_to_bool(1)"
   ]
  },
  {
   "cell_type": "markdown",
   "metadata": {},
   "source": [
    "You got an attribute error. This error means that the integer doesn't have a `.lower()` method. Instead of making this function grow bigger, use a new function to enforce the return of a lowercase string:"
   ]
  },
  {
   "cell_type": "code",
   "execution_count": null,
   "metadata": {},
   "outputs": [],
   "source": [
    "def as_lower_string(value):\n",
    "    try:\n",
    "        return value.lower()\n",
    "    except AttributeError:\n",
    "        return str(value).lower()\n"
   ]
  },
  {
   "cell_type": "markdown",
   "metadata": {},
   "source": [
    "Now update the `str_to_bool()` function to use the newly added helper that catches `AttributeError` and handles it by enforcing a call to `str()`. The `str()` function, in turn, makes sure that an integer like `1` is converted to `\"1\"`. Catching `AttributeError` will prevent breaking the code and showing an unnecessary traceback in the output."
   ]
  },
  {
   "cell_type": "code",
   "execution_count": null,
   "metadata": {},
   "outputs": [],
   "source": [
    "def str_to_bool(value):\n",
    "    true_vals = ['yes', 'y', '', '1']\n",
    "    false_vals = ['no', 'n', '0']\n",
    "    value = as_lower_string(value)\n",
    "    if value in true_vals:\n",
    "        return True\n",
    "    else:\n",
    "         return False"
   ]
  },
  {
   "cell_type": "code",
   "execution_count": null,
   "metadata": {},
   "outputs": [],
   "source": [
    "# test it again with 1\n",
    "str_to_bool(1)"
   ]
  },
  {
   "cell_type": "markdown",
   "metadata": {},
   "source": [
    "While testing, you had problems with the keyboard. When you entered `1`, the number `2` appeared instead. Try out that input:"
   ]
  },
  {
   "cell_type": "code",
   "execution_count": null,
   "metadata": {},
   "outputs": [],
   "source": [
    "str_to_bool(2)"
   ]
  },
  {
   "cell_type": "markdown",
   "metadata": {},
   "source": [
    "`False` is not correct here, because `\"2\"` is not part of the false values. Update the function to check if the value is in the false list: "
   ]
  },
  {
   "cell_type": "code",
   "execution_count": null,
   "metadata": {},
   "outputs": [],
   "source": [
    "def str_to_bool(value):\n",
    "    true_vals = ['yes', 'y', '', '1']\n",
    "    false_vals = ['no', 'n', '0']\n",
    "    value = as_lower_string(value)\n",
    "    if value in true_vals:\n",
    "        return True\n",
    "    elif value in false_vals:\n",
    "         return False"
   ]
  },
  {
   "cell_type": "code",
   "execution_count": null,
   "metadata": {},
   "outputs": [],
   "source": [
    "# This doesn't solve the problem, because using `2` now returns `None`!\n",
    "print(str_to_bool(2))"
   ]
  },
  {
   "cell_type": "markdown",
   "metadata": {},
   "source": [
    "This is a tricky problem. A `2` value shouldn't return `True` or `False`, and it definitely shouldn't return `None`. Raise an exception to signal to other consumers of this function that this is not acceptable input. Use the `ValueError()` exception to accomplish that:"
   ]
  },
  {
   "cell_type": "code",
   "execution_count": null,
   "metadata": {},
   "outputs": [],
   "source": [
    "def str_to_bool(value):\n",
    "    true_vals = ['yes', 'y', '', '1']\n",
    "    false_vals = ['no', 'n', '0']\n",
    "    value = as_lower_string(value)\n",
    "    if value in true_vals:\n",
    "        return True\n",
    "    elif value in false_vals:\n",
    "         return False\n",
    "    else:\n",
    "        raise ValueError(f\"Invalid input value: {value}\")"
   ]
  },
  {
   "cell_type": "code",
   "execution_count": null,
   "metadata": {},
   "outputs": [],
   "source": [
    "# Run again with 2 to get a ValueError exception\n",
    "str_to_bool(2)"
   ]
  }
 ],
 "metadata": {
  "interpreter": {
   "hash": "205095b8b86ea82a021a8fc2ffba2b3bc9f8d0be25999901963b225939f75778"
  },
  "kernelspec": {
   "display_name": "Python 3.8.10 64-bit ('tmp': conda)",
   "name": "python3"
  },
  "language_info": {
   "codemirror_mode": {
    "name": "ipython",
    "version": 3
   },
   "file_extension": ".py",
   "mimetype": "text/x-python",
   "name": "python",
   "nbconvert_exporter": "python",
   "pygments_lexer": "ipython3",
   "version": "3.8.10"
  },
  "orig_nbformat": 4
 },
 "nbformat": 4,
 "nbformat_minor": 2
}
