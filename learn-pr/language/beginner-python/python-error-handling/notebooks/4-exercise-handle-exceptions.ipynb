{
 "cells": [
  {
   "cell_type": "markdown",
   "metadata": {},
   "source": [
    "## Exercise: Handle exceptions\n",
    "With the knowledge of tracebacks and how exceptions are raised and handled, it's time to practice some of these concepts by using this notebook. We'll use a similar scenario where a program must read a configuration file called _config.txt_ and deal with errors as they show up.\n",
    "\n",
    "In real-world scenarios, exceptions more clearly deal with separate functions. So this exercise will have different functions for different tasks regarding the configuration file.\n",
    "\n",
    "> **TIP**\n",
    "> Spend a few minutes trying to figure out a solution. Then scroll down to the bottom to see if you've managed to build the program according to specifications."
   ]
  },
  {
   "cell_type": "markdown",
   "metadata": {},
   "source": [
    "Start by creating a function which opens and reads the contents of the configuration file. Add a parameter to the function named `path` for the path to the configuration file."
   ]
  },
  {
   "cell_type": "code",
   "execution_count": null,
   "metadata": {},
   "outputs": [],
   "source": [
    "# Create a function that opens and reads the contents of the configuration file first\n",
    "# Allow the function to accept a path. This will become handy later\n",
    "def read_config(path):\n",
    "    with open(path) as config_path:\n",
    "        return config_path.readlines()"
   ]
  },
  {
   "cell_type": "markdown",
   "metadata": {},
   "source": [
    "To mimic a brand-new environment, define a temporary directory that will act as the normal destination for the configuration file. You will use the `mkdtemp` method from `tempfile` library to create the directory. This will ensure we don't pollute the current notebook environment."
   ]
  },
  {
   "cell_type": "code",
   "execution_count": null,
   "metadata": {},
   "outputs": [],
   "source": [
    "import tempfile\n",
    "import os \n",
    "\n",
    "# Create the temporary directory\n",
    "config_dir = tempfile.mkdtemp()\n",
    "config_path = os.path.join(config_dir, \"config.txt\")\n",
    "print(config_dir)\n",
    "print(config_path)"
   ]
  },
  {
   "cell_type": "markdown",
   "metadata": {},
   "source": [
    "Now try to read the file using the `config_path` variable from before.\n",
    "\n",
    "> **IMPORTANT** This will raise an error."
   ]
  },
  {
   "cell_type": "code",
   "execution_count": null,
   "metadata": {},
   "outputs": [],
   "source": [
    "# Now try reading the newly defined config.txt path\n",
    "read_config(config_path)"
   ]
  },
  {
   "cell_type": "markdown",
   "metadata": {},
   "source": [
    "That's a `FileNotFoundError` exception. In this case, we want to ensure that when there is no configuration file, a default configuration file is created with some basic values. Before you catch exceptions, create another function that writes the default values for the configuration file:"
   ]
  },
  {
   "cell_type": "code",
   "execution_count": null,
   "metadata": {},
   "outputs": [],
   "source": [
    "import uuid\n",
    "\n",
    "default_config_contents = f\"\"\"# Rocket Ship Configuration File!\n",
    "fuel_tanks = 4\n",
    "oxygen_tanks = 3\n",
    "initial_propulsing_level = 84\n",
    "unique_key = {uuid.uuid4()}\"\"\"\n",
    "\n",
    "def write_default_config(path):\n",
    "    with open(path, 'w') as default_config:\n",
    "        default_config.write(default_config_contents)"
   ]
  },
  {
   "cell_type": "markdown",
   "metadata": {},
   "source": [
    "Now you have a `read_config()` function that will get the contents of the configuration file. You also have a `write_default_config()` function that will write the default contents to a configuration file. You're ready to define the `main()` function that puts everything together. \n",
    "\n",
    "Write it up so that you can catch and handle the `FileNotFoundError` exception from before: "
   ]
  },
  {
   "cell_type": "code",
   "execution_count": null,
   "metadata": {},
   "outputs": [],
   "source": [
    "def main():\n",
    "    try:\n",
    "        config_contents = read_config(config_path)\n",
    "    except FileNotFoundError:\n",
    "        write_default_config(config_path)\n",
    "        config_contents = read_config(config_path)\n",
    "    # Output the contents to verify all worked fine\n",
    "    print(config_contents)\n",
    "    \n",
    "main()\n",
    "    "
   ]
  },
  {
   "cell_type": "markdown",
   "metadata": {},
   "source": [
    "The `main()` function now handles `FileNotFoundError` and creates one by default with some contents. But so far, all you have is a list with contents. That's not very useful. \n",
    "\n",
    "Add a parser function that reads the values and creates a Python dictionary. Make the `main()` function show the dictionary after the parsing."
   ]
  },
  {
   "cell_type": "code",
   "execution_count": null,
   "metadata": {},
   "outputs": [],
   "source": [
    "def parse_config(contents):\n",
    "    config = {}\n",
    "    for line in contents:\n",
    "        key, value = line.split('=')\n",
    "        config[key] = value\n",
    "    return config"
   ]
  },
  {
   "cell_type": "code",
   "execution_count": null,
   "metadata": {},
   "outputs": [],
   "source": [
    "# Update the main() function to use the new parser\n",
    "def main():\n",
    "    try:\n",
    "        config_contents = read_config(config_path)\n",
    "    except FileNotFoundError:\n",
    "        write_default_config(config_path)\n",
    "        config_contents = read_config(config_path)\n",
    "    # Output the contents to verify all worked fine\n",
    "    print(parse_config(config_contents))\n",
    "    \n",
    "main()"
   ]
  },
  {
   "cell_type": "markdown",
   "metadata": {},
   "source": [
    "Now there's a `ValueError` exception. This is happening in the parser function. You know that you can handle this exception, but where? There are several functions involved, and `main()` is currently handling exceptions.\n",
    "\n",
    "Choosing where to handle exceptions isn't always straightforward. There's no particular rule in Python that helps here.\n",
    "\n",
    "You can handle an exception anywhere in code. Use common sense and see what fits best. Remember that inadequate handling can always be improved later, as with everything in code. \n",
    "\n",
    "In this case, the parser itself should probably be responsible for handling the specifics of parsing a configuration file. That way, it can continue parsing the entire file while handling errors within the parsing."
   ]
  },
  {
   "cell_type": "code",
   "execution_count": null,
   "metadata": {},
   "outputs": [],
   "source": [
    "# Update the parser to handle ValueError\n",
    "def parse_config(contents):\n",
    "    config = {}\n",
    "    for line in contents:\n",
    "        try:\n",
    "            key, value = line.split('=')\n",
    "        except ValueError:\n",
    "            # Ignore this error and skip to the next line\n",
    "            continue\n",
    "        config[key] = value\n",
    "    return config\n",
    "    \n",
    "# Now call main() again and see if all is good now\n",
    "main()"
   ]
  },
  {
   "cell_type": "markdown",
   "metadata": {},
   "source": [
    "You're almost there. Somehow, the keys have trailing spaces, and some values have newline characters in them. Clean those up in the `parse_config()` function:"
   ]
  },
  {
   "cell_type": "code",
   "execution_count": null,
   "metadata": {},
   "outputs": [],
   "source": [
    "def parse_config(contents):\n",
    "    config = {}\n",
    "    for line in contents:\n",
    "        try:\n",
    "            key, value = line.split('=')\n",
    "        except ValueError:\n",
    "            # Ignore this error and skip to the next line\n",
    "            continue\n",
    "        config[key.strip()] = value.strip('\\n').strip()\n",
    "    return config\n",
    "\n",
    "main()"
   ]
  },
  {
   "cell_type": "markdown",
   "metadata": {},
   "source": [
    "Good job! Now you have a few functions, each of which handles exceptions in its own way. Some functions delegate the error handling when doing the work (like the parsing one). Others, like the `main()` function, handle the logic at a higher level."
   ]
  }
 ],
 "metadata": {
  "interpreter": {
   "hash": "4cc27f0c2a93286e74f8aa1707ad89c9442d41d18de69b2ad37fbbf6a3107a2a"
  },
  "kernelspec": {
   "display_name": "Python 3.9.6 64-bit ('tmp': virtualenv)",
   "name": "python3"
  },
  "language_info": {
   "codemirror_mode": {
    "name": "ipython",
    "version": 3
   },
   "file_extension": ".py",
   "mimetype": "text/x-python",
   "name": "python",
   "nbconvert_exporter": "python",
   "pygments_lexer": "ipython3",
   "version": "3.8.10"
  },
  "orig_nbformat": 4
 },
 "nbformat": 4,
 "nbformat_minor": 2
}
