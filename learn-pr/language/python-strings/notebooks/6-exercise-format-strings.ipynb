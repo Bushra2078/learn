{
    "cells": [
        {
            "cell_type": "markdown",
            "metadata": {},
            "source": [
                "Knowing how to format strings is essential when you're presenting information from a program. There are a few different ways to accomplish this in Python. In this exercise, you use variables that hold key facts about gravity on various moons and then use them to format and print the information.\n",
                "\n",
                "The formatting has to accommodate information about other moons, so it needs to be generic.\n",
                "\n",
                "Instead of replacing the variables in a long string as part of a paragraph, you use the information to present it in a tabular format. The result should look like:\n",
                "\n",
                "```\n",
                "Gravity Facts about Ganymede\n",
                "-------------------------------------------------------------------------------\n",
                "Planet Name: Mars\n",
                "Gravity on Ganymede: 1.4300000000000002 m/s2\n",
                "```"
            ]
        },
        {
            "cell_type": "code",
            "execution_count": null,
            "metadata": {},
            "outputs": [],
            "source": [
                "name = \"Moon\"\n",
                "gravity = 0.00162 # in kms\n",
                "planet = \"Earth\"\n"
            ]
        },
        {
            "cell_type": "markdown",
            "metadata": {},
            "source": [
                "First, create a title for the text. Because this text is about gravity on Earth and the Moon, use that to create a meaningful title. Use the variables instead of writing."
            ]
        },
        {
            "cell_type": "code",
            "execution_count": null,
            "metadata": {},
            "outputs": [],
            "source": [
                "title = f\"gravity facts about {name}\""
            ]
        },
        {
            "cell_type": "markdown",
            "metadata": {},
            "source": [
                "Now create a multiline string template to hold the rest of the information. Instead of using kilometers, you must convert the distance to meters by multiplying by 1,000."
            ]
        },
        {
            "cell_type": "code",
            "execution_count": null,
            "metadata": {},
            "outputs": [],
            "source": [
                "facts = f\"\"\"{'-'*80}\n",
                "Planet Name: {planet}\n",
                "Gravity on {name}: {gravity * 1000} m/s2\n",
                "\"\"\""
            ]
        },
        {
            "cell_type": "markdown",
            "metadata": {},
            "source": [
                "Finally, use both variables to join the title and the facts."
            ]
        },
        {
            "cell_type": "code",
            "execution_count": null,
            "metadata": {},
            "outputs": [],
            "source": [
                "template = f\"\"\"{title.title()}\n",
                "{facts}\n",
                "\"\"\"\n",
                "print(template)"
            ]
        },
        {
            "cell_type": "markdown",
            "metadata": {},
            "source": [
                "Now use information from a different moon to see whether the template still works."
            ]
        },
        {
            "cell_type": "code",
            "execution_count": null,
            "metadata": {},
            "outputs": [],
            "source": [
                "planet = \"Mars\"\n",
                "name = \"Ganymede\"\n",
                "gravity = 0.00143"
            ]
        },
        {
            "cell_type": "code",
            "execution_count": null,
            "metadata": {},
            "outputs": [],
            "source": [
                "print(template)"
            ]
        },
        {
            "cell_type": "markdown",
            "metadata": {},
            "source": [
                "The output isn't displaying information about Mars. It's still displaying information about the Moon. This happens because f-strings are eager in their evaluation, so variables once assigned can't be reassigned. To work around this issue, redo the template to use `.format()`:"
            ]
        },
        {
            "cell_type": "code",
            "execution_count": null,
            "metadata": {},
            "outputs": [],
            "source": [
                "new_template = \"\"\"\n",
                "Gravity Facts about {name}\n",
                "-------------------------------------------------------------------------------\n",
                "Planet Name: {planet}\n",
                "Gravity on {name}: {gravity} m/s2\n",
                "\"\"\"\n",
                "print(new_template.format(name=name, planet=planet, gravity=gravity))"
            ]
        },
        {
            "cell_type": "markdown",
            "metadata": {},
            "source": [
                "Because `.format()` doesn't allow expressions, the gravity on Ganymede is incorrect. Ensure that the operation is done outside the formatting template, and print again to see the working result."
            ]
        },
        {
            "cell_type": "code",
            "execution_count": null,
            "metadata": {},
            "outputs": [],
            "source": [
                "print(new_template.format(name=name, planet=planet, gravity=gravity*1000))"
            ]
        }
    ],
    "metadata": {
        "kernel_info": {
            "name": "conda-env-py37_default-py"
        },
        "kernelspec": {
            "display_name": "py37_default",
            "language": "python",
            "name": "conda-env-py37_default-py"
        },
        "language_info": {
            "codemirror_mode": {
                "name": "ipython",
                "version": 3
            },
            "file_extension": ".py",
            "mimetype": "text/x-python",
            "name": "python",
            "nbconvert_exporter": "python",
            "pygments_lexer": "ipython3",
            "version": "3.7.9"
        },
        "orig_nbformat": 4
    },
    "nbformat": 4,
    "nbformat_minor": 2
}
