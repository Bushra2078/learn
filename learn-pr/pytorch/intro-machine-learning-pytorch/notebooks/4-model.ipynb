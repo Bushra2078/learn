{
 "cells": [
  {
   "attachments": {},
   "cell_type": "markdown",
   "metadata": {},
   "source": [
    "# What is a neural network\n",
    "\n",
    "A neural network is a collection of **neurons** that are connected by layers. Each neuron is a small\n",
    "computing unit that performs simple calculations to collectively solve a problem. Neurons are \n",
    "organized in 3 types of layers: input layer, hidden layer, and \n",
    "output layer.  The hidden and output layers contain a number of neurons. Neural networks mimic the way a human brain processes information.\n",
    "\n",
    "<img alt=\"Diagram showing different types of layers in a neural network\" src=\"../images/4-model-1.png\" />"
   ]
  },
  {
   "cell_type": "markdown",
   "metadata": {},
   "source": [
    "## Components of a neural network\n",
    "\n",
    "- An **activation function** determines whether a neuron should be activated or not. The computations that happen in a neural network include applying an activation function. If a neuron activates, then it means the input is important. There are different kinds of activation functions. The choice of which activation function to use depends on what you want the output to be. Another important role of an activation function is to add non-linearity to the model.\n",
    "\n",
    "    - _Binary_ is used to set an output node to 1 if the function result is positive and 0 if the function result is zero or negative. $f(x)= {\\small \\begin{cases} 0, & \\text{if } x < 0\\\\ 1, & \\text{if } x\\geq 0\\\\ \\end{cases}}$\n",
    "    - _Sigmoid_ is used to predict the probability of an output node being between 0 and 1.  $f(x) = {\\large \\frac{1}{1+e^{-x}}} $\n",
    "    - _Tanh_ is used to predict whether an output node is between 1 and -1, for classification use cases.  $f(x) = {\\large \\frac{e^{x} - e^{-x}}{e^{x} + e^{-x}}} $\n",
    "    - _ReLU_ (*rectified linear activation function*) is used to set the output node to 0 if the function result is negative and keeps the result value if the result is a positive value.  $f(x)= {\\small \\begin{cases} 0, & \\text{if } x < 0\\\\ x, & \\text{if } x\\geq 0\\\\ \\end{cases}}$\n",
    "- **Weights** influence how close the output of our network is to the expected output value. As an input enters the neuron, it gets multiplied by a weight value and the resulting output is either observed, or passed to the next layer in the neural network. Weights for all neurons in a layer are organized into one tensor.\n",
    "- **Bias** makes up the difference between the activation function's output and its intended output. A low bias suggest that the network is making more assumptions about the form of the output, whereas a high bias value makes fewer assumptions about the form of the output. \n",
    "\n",
    "<img alt=\"Diagram showing neural computation\" src=\"../images/4-model-2.png\" />\n",
    "\n",
    "We can say that an output $y$ of a neural network layer with weights $W$ and bias $b$ is computed as summation of the inputs multiplied by the weights plus the bias. $x = \\sum{(weights * inputs) + bias} $, where $f(x)$ is the activation function."
   ]
  },
  {
   "cell_type": "markdown",
   "metadata": {},
   "source": [
    "# Build a neural network\n",
    "\n",
    "Neural networks are comprised of layers and modules that perform operations on data. The `torch.nn` namespace provides all the building blocks you'll need to build your own neural network. Every module in PyTorch subclasses `nn.Module`. A neural network is itself a module that consists of other modules (layers). This nested structure allows for building and managing complex architectures easily.\n",
    "\n",
    "In the following sections, we'll build a neural network to classify images in the FashionMNIST dataset."
   ]
  },
  {
   "cell_type": "code",
   "execution_count": null,
   "metadata": {},
   "outputs": [],
   "source": [
    "%matplotlib inline\n",
    "import os\n",
    "import torch\n",
    "from torch import nn\n",
    "from torch.utils.data import DataLoader\n",
    "from torchvision import datasets, transforms"
   ]
  },
  {
   "cell_type": "markdown",
   "metadata": {},
   "source": [
    "## Get a hardware device for training\n",
    "\n",
    "We want to be able to train our model on a hardware accelerator like a GPU, if one is available. Let's check to see whether \n",
    "`torch.cuda` is available; if not, we'll continue to use the CPU."
   ]
  },
  {
   "cell_type": "code",
   "execution_count": null,
   "metadata": {},
   "outputs": [
    {
     "name": "stdout",
     "output_type": "stream",
     "text": [
      "Using cuda device\n"
     ]
    }
   ],
   "source": [
    "device = 'cuda' if torch.cuda.is_available() else 'cpu'\n",
    "print('Using {} device'.format(device))"
   ]
  },
  {
   "cell_type": "markdown",
   "metadata": {},
   "source": [
    "## Define the class\n",
    "\n",
    "We define our neural network by subclassing `nn.Module`, and initialize the neural network layers in `__init__`. Every `nn.Module` subclass implements the operations on input data in the `forward` method.\n",
    "\n",
    "Our neural network is composed of the following:\n",
    "\n",
    "- The input layer with 28x28 or 784 features/pixels.\n",
    "- The first linear module takes the input 784 features and transforms it to a hidden layer with 512 features.\n",
    "- The ReLU activation function will be applied in the transformation.\n",
    "- The second linear module takes 512 features as input from the first hidden layer and transforms it to the next hidden layer with 512 features.\n",
    "- The ReLU activation function will be applied in the transformation.\n",
    "- The third linear module take 512 features as input from the second hidden layer and transforms those features to the output layer with 10, which is the number of classes.\n",
    "- The ReLU activation function will be applied in the transformation."
   ]
  },
  {
   "cell_type": "code",
   "execution_count": null,
   "metadata": {},
   "outputs": [],
   "source": [
    "class NeuralNetwork(nn.Module):\n",
    "    def __init__(self):\n",
    "        super(NeuralNetwork, self).__init__()\n",
    "        self.flatten = nn.Flatten()\n",
    "        self.linear_relu_stack = nn.Sequential(\n",
    "            nn.Linear(28*28, 512),\n",
    "            nn.ReLU(),\n",
    "            nn.Linear(512, 512),\n",
    "            nn.ReLU(),\n",
    "            nn.Linear(512, 10),\n",
    "            nn.ReLU()\n",
    "        )\n",
    "\n",
    "    def forward(self, x):\n",
    "        x = self.flatten(x)\n",
    "        logits = self.linear_relu_stack(x)\n",
    "        return logits"
   ]
  },
  {
   "cell_type": "markdown",
   "metadata": {},
   "source": [
    "We create an instance of `NeuralNetwork`, and move it to the `device`, and print \n",
    "its structure."
   ]
  },
  {
   "cell_type": "code",
   "execution_count": null,
   "metadata": {},
   "outputs": [
    {
     "name": "stdout",
     "output_type": "stream",
     "text": [
      "NeuralNetwork(\n",
      "  (flatten): Flatten()\n",
      "  (linear_relu_stack): Sequential(\n",
      "    (0): Linear(in_features=784, out_features=512, bias=True)\n",
      "    (1): ReLU()\n",
      "    (2): Linear(in_features=512, out_features=512, bias=True)\n",
      "    (3): ReLU()\n",
      "    (4): Linear(in_features=512, out_features=10, bias=True)\n",
      "    (5): ReLU()\n",
      "  )\n",
      ")\n"
     ]
    }
   ],
   "source": [
    "model = NeuralNetwork().to(device)\n",
    "print(model)"
   ]
  },
  {
   "cell_type": "markdown",
   "metadata": {},
   "source": [
    "To use the model, we pass it the input data. This executes the model's `forward`, along with some background operations. However, do not call `model.forward()` directly! Calling the model on the input returns a 10-dimensional tensor with raw predicted values for each class.\n",
    "\n",
    "We get the prediction densities by passing it through an instance of the `nn.Softmax`."
   ]
  },
  {
   "cell_type": "code",
   "execution_count": null,
   "metadata": {},
   "outputs": [
    {
     "name": "stdout",
     "output_type": "stream",
     "text": [
      "Predicted class: tensor([2], device='cuda:0')\n"
     ]
    }
   ],
   "source": [
    "X = torch.rand(1, 28, 28, device=device)\n",
    "logits = model(X) \n",
    "pred_probab = nn.Softmax(dim=1)(logits)\n",
    "y_pred = pred_probab.argmax(1)\n",
    "print(f\"Predicted class: {y_pred}\")"
   ]
  },
  {
   "cell_type": "markdown",
   "metadata": {},
   "source": [
    "## Weight and Bias\n",
    "\n",
    "\n",
    "The `nn.Linear` module randomly initializes the ${weights}$  and ${ bias}$ for each layer and internally stores the values in Tensors."
   ]
  },
  {
   "cell_type": "code",
   "execution_count": null,
   "metadata": {},
   "outputs": [],
   "source": [
    "print(f\"First Linear weights: {model.linear_relu_stack[0].weight} \\n\")\n",
    "\n",
    "print(f\"First Linear biases: {model.linear_relu_stack[0].bias} \\n\")"
   ]
  },
  {
   "cell_type": "stdout",
   "metadata": {},
   "source": [
    "First Linear weights: Parameter containing:\n",
    "tensor([[ 0.0285, -0.0154,  0.0093,  ..., -0.0336,  0.0275, -0.0186],\n",
    "        [ 0.0068, -0.0081, -0.0021,  ...,  0.0256, -0.0009, -0.0156],\n",
    "        [ 0.0161, -0.0249, -0.0295,  ...,  0.0207, -0.0274, -0.0133],\n",
    "        ...,\n",
    "        [ 0.0198,  0.0295, -0.0271,  ..., -0.0038, -0.0046,  0.0036],\n",
    "        [ 0.0211,  0.0126, -0.0215,  ...,  0.0004,  0.0240, -0.0278],\n",
    "        [-0.0037, -0.0058, -0.0028,  ...,  0.0037, -0.0033, -0.0186]],\n",
    "       device='cuda:0', requires_grad=True) \n",
    "\n",
    "First Linear biases: Parameter containing:\n",
    "tensor([-1.6794e-02,  1.1822e-02, -1.5777e-03,  2.8516e-02, -8.8009e-03,\n",
    "         1.7424e-02, -2.9739e-02, -3.2946e-02,  1.7539e-02,  5.6689e-03,\n",
    "         1.9088e-02,  3.2676e-02, -3.1962e-02, -2.9989e-02,  2.1644e-02,\n",
    "         2.9174e-02, -3.2996e-02,  9.1683e-03, -4.4103e-03,  3.0623e-02,\n",
    "        -2.9044e-02,  4.9093e-03,  8.7121e-03, -3.3425e-02,  1.7519e-02,\n",
    "         3.5163e-02, -2.4926e-02, -1.2054e-02, -1.7190e-02,  1.4187e-02,\n",
    "        -1.2586e-02, -1.2964e-02, -3.3682e-04, -2.1304e-02, -2.3419e-03,\n",
    "        -2.9823e-02,  8.6942e-03, -3.0573e-02,  1.6873e-02, -6.4113e-03,\n",
    "         6.6625e-04,  1.7994e-02,  1.7102e-02, -1.7488e-02,  1.5613e-03,\n",
    "         7.1689e-03,  9.2297e-03, -1.0902e-02, -1.4733e-02,  1.3216e-02,\n",
    "         3.3196e-02, -2.8095e-02,  6.4103e-03, -1.3069e-02,  2.4162e-02,\n",
    "         2.3965e-02,  1.9506e-02,  1.8544e-02,  9.4680e-04,  3.2750e-02,\n",
    "        -2.3340e-02,  3.1935e-02,  1.6690e-02, -1.8151e-02, -2.3206e-02,\n",
    "        -3.4875e-02, -1.9204e-02, -2.3892e-02, -1.9485e-02,  2.1949e-02,\n",
    "        -3.2190e-02,  1.1437e-02,  3.4038e-02, -2.5581e-02,  1.1581e-02,\n",
    "        -1.6806e-02,  1.3222e-02, -3.4245e-02, -6.4228e-05,  2.7605e-02,\n",
    "         1.9218e-02, -2.5476e-02, -1.5126e-02,  1.7576e-03, -2.6773e-02,\n",
    "         2.4795e-02, -2.1883e-02, -2.4730e-02,  2.7819e-02, -3.0521e-03,\n",
    "         2.3621e-02, -1.4988e-02,  1.6391e-02, -3.4868e-02, -1.1514e-02,\n",
    "        -2.3867e-02,  1.3104e-02, -2.7424e-02, -3.5302e-02,  2.8046e-03,\n",
    "        -1.5639e-02,  2.8113e-02, -6.0114e-03,  1.9461e-02,  6.2794e-03,\n",
    "         2.5601e-03, -2.2038e-02, -2.0424e-02, -2.3552e-02,  2.3677e-02,\n",
    "        -2.8537e-02, -2.8273e-03, -9.4648e-03,  2.5983e-02,  1.1697e-02,\n",
    "        -1.4687e-02, -1.0496e-02, -3.4469e-05,  2.7536e-02,  9.9555e-03,\n",
    "         1.6403e-02, -3.4235e-02, -2.9979e-02, -2.0837e-02,  1.3209e-02,\n",
    "        -1.6143e-04, -3.0172e-03, -1.2068e-02, -7.9907e-03, -2.6789e-02,\n",
    "         4.1364e-03,  2.5732e-02,  2.2893e-02,  2.8644e-02, -9.5681e-03,\n",
    "         1.8074e-02,  1.5680e-02, -1.3953e-02, -3.3122e-02,  2.9370e-02,\n",
    "         2.4088e-02, -3.0503e-02, -3.4169e-02,  1.8747e-02,  2.3209e-02,\n",
    "        -9.1361e-03,  1.1584e-02,  1.8600e-02, -2.1679e-02, -6.7407e-03,\n",
    "        -3.5552e-02, -3.0459e-02, -4.3719e-03, -6.2718e-03,  6.7379e-03,\n",
    "         5.6187e-03, -9.6020e-03, -2.8165e-02,  1.2862e-02,  1.5931e-03,\n",
    "         2.0715e-02, -1.2809e-02, -1.0253e-02, -4.2730e-03, -1.5705e-02,\n",
    "         1.9801e-02, -2.9848e-02,  2.3720e-02,  2.7888e-02, -9.4596e-03,\n",
    "         2.7920e-03, -3.3667e-02,  1.5640e-02,  2.9760e-02,  1.7017e-02,\n",
    "        -7.5644e-03,  6.7165e-04,  3.7400e-04, -2.6394e-02,  3.1301e-02,\n",
    "         2.3262e-02,  2.0116e-02, -2.4525e-02, -6.0329e-03,  1.2631e-02,\n",
    "        -9.3092e-03, -2.1773e-02,  3.5128e-02,  6.8062e-03,  3.5041e-02,\n",
    "        -1.4271e-02, -9.9433e-03, -7.0369e-03,  2.1067e-02, -1.1817e-02,\n",
    "        -2.6500e-02,  3.1008e-02, -2.0229e-03, -2.3800e-02, -2.8559e-02,\n",
    "        -2.6000e-02,  3.4043e-02, -1.3837e-02,  2.5515e-02,  2.2341e-02,\n",
    "         1.7569e-02, -2.9656e-02,  2.4641e-02,  1.8355e-02, -1.0670e-03,\n",
    "         3.2676e-03, -1.0011e-02,  2.7882e-02, -3.3383e-03, -7.5319e-04,\n",
    "         2.9156e-02,  1.2105e-02,  2.7329e-02, -1.5407e-02, -1.1105e-03,\n",
    "         2.8378e-02,  2.7236e-03, -2.6138e-02,  2.0134e-02, -2.6543e-02,\n",
    "         4.3384e-05,  5.0724e-03,  2.0497e-02, -3.1918e-02,  6.0164e-03,\n",
    "         1.2189e-02, -2.0288e-02,  3.4736e-02,  2.0305e-02, -3.0017e-02,\n",
    "         2.0083e-02,  4.5855e-03, -1.9533e-02,  3.3572e-02,  6.1343e-03,\n",
    "         2.6955e-02, -2.9523e-02,  2.9286e-02, -1.6426e-02, -4.1625e-03,\n",
    "         1.4333e-02, -1.8835e-02, -3.1138e-02,  9.8096e-03, -1.5730e-02,\n",
    "        -2.9369e-02,  1.5787e-02, -2.0016e-02, -6.4536e-03, -2.8858e-02,\n",
    "         3.4593e-02, -1.7120e-02, -2.4074e-02,  3.5673e-02,  5.9347e-04,\n",
    "        -5.7076e-03,  1.8025e-02,  2.1866e-02, -1.3533e-02, -2.6221e-02,\n",
    "        -6.0292e-04,  3.1512e-02, -1.3032e-02,  5.4005e-03, -1.2097e-02,\n",
    "         1.7328e-02,  2.0230e-02, -3.4262e-02, -1.6283e-02,  5.2718e-03,\n",
    "         3.5651e-02,  3.2275e-02,  3.1275e-02, -5.3777e-03,  3.4551e-02,\n",
    "        -1.9749e-02,  1.5642e-02, -2.4120e-02,  1.8541e-03,  2.0377e-02,\n",
    "        -1.4994e-02, -2.0538e-02, -4.6168e-03,  2.7597e-02, -4.2618e-03,\n",
    "         1.5351e-02,  1.8227e-02, -9.1471e-03, -6.6170e-03, -2.5062e-02,\n",
    "        -1.7373e-02,  2.8592e-02,  1.2423e-02,  2.6996e-02,  3.5537e-02,\n",
    "         1.5901e-02,  2.3970e-02,  1.2849e-02,  3.4917e-02, -2.6190e-02,\n",
    "         3.0050e-02, -1.0695e-03,  3.4387e-02, -3.0244e-02,  2.1944e-02,\n",
    "        -3.8318e-03, -3.2457e-02,  2.4013e-02, -7.6327e-04,  7.4076e-03,\n",
    "         2.4899e-02,  2.8942e-02,  2.8306e-02, -3.0769e-02,  2.7740e-02,\n",
    "        -1.2394e-02, -6.3690e-03,  2.5022e-02, -2.0967e-02, -3.4089e-02,\n",
    "         4.8492e-03,  1.8370e-02,  1.7538e-03, -3.5517e-02, -2.4914e-02,\n",
    "        -4.3303e-03,  1.3786e-02,  2.6469e-03,  1.9726e-02,  1.6861e-02,\n",
    "        -1.9308e-02, -3.2901e-02,  2.0336e-03, -1.1866e-02, -3.5692e-02,\n",
    "        -2.1908e-02, -1.0311e-02, -2.6058e-03,  2.3413e-02,  3.0441e-02,\n",
    "         2.2539e-02,  3.2282e-02,  5.5094e-03, -1.4880e-02, -7.8091e-04,\n",
    "         6.9359e-03, -1.4119e-02,  3.1824e-02, -4.4117e-03, -1.5860e-02,\n",
    "         3.3316e-02,  1.6656e-02,  1.9209e-02, -1.3653e-02,  7.2867e-03,\n",
    "        -8.3452e-03, -8.4484e-03,  4.2796e-03,  6.8911e-03,  8.7805e-03,\n",
    "         2.5554e-02, -3.1782e-02, -3.1915e-02,  1.2948e-02,  2.2954e-02,\n",
    "         3.1923e-02, -2.1592e-02, -2.1449e-02,  1.8164e-02, -2.9280e-02,\n",
    "         2.2845e-02, -1.6185e-02, -3.3794e-02, -4.5013e-03, -7.3577e-03,\n",
    "         1.7188e-03,  1.0536e-04,  1.7688e-02, -2.4202e-03, -8.8235e-03,\n",
    "         2.2265e-02,  1.1065e-03, -1.2087e-02,  7.7612e-03,  1.3540e-02,\n",
    "        -1.9221e-02, -1.5755e-02, -2.8316e-02,  1.4881e-02,  3.5132e-02,\n",
    "         5.2294e-03,  1.7093e-02,  2.3141e-02,  1.2418e-02, -1.5310e-02,\n",
    "        -2.4946e-02,  2.6419e-02,  2.2459e-02,  3.5518e-02, -1.5755e-02,\n",
    "         2.9670e-02,  1.4968e-02,  1.1808e-02, -1.7693e-02,  3.5288e-02,\n",
    "        -2.6924e-03,  3.4579e-02, -1.2829e-03,  3.2359e-02, -1.1650e-02,\n",
    "         3.4738e-02, -1.0871e-02,  1.5005e-03,  3.4957e-02, -1.2630e-02,\n",
    "         3.5021e-03, -1.3997e-02, -5.0998e-04, -1.2634e-02,  2.8164e-02,\n",
    "         2.1750e-03, -3.0941e-02, -3.1297e-02, -3.4006e-03,  1.6275e-02,\n",
    "         3.3959e-02,  1.6023e-03,  1.1485e-02,  1.0369e-02, -2.0284e-02,\n",
    "         3.3716e-02,  3.1589e-02, -3.0158e-02,  1.4046e-02, -1.2004e-02,\n",
    "         2.6940e-02,  7.5773e-03, -9.1519e-03, -3.3195e-02, -1.7510e-02,\n",
    "         2.9676e-02, -1.0568e-02,  1.1622e-02, -5.7530e-03, -1.1361e-02,\n",
    "        -2.0276e-02, -2.6919e-02, -2.8617e-02, -1.6262e-03, -3.2480e-02,\n",
    "        -2.8126e-02, -1.5930e-02,  2.4159e-02, -2.1424e-02,  2.8136e-03,\n",
    "        -2.5417e-02, -1.0105e-02, -4.5854e-03,  3.4792e-02, -1.2701e-02,\n",
    "         2.5558e-03,  7.0673e-03,  2.0716e-02, -3.2000e-02, -2.3904e-02,\n",
    "         3.4564e-02,  2.2674e-02,  2.8527e-02,  3.2480e-02,  1.9522e-02,\n",
    "         8.4257e-03, -2.7647e-02, -2.8589e-02,  4.0552e-03, -2.7975e-02,\n",
    "         1.0117e-03, -1.7594e-02, -1.3557e-02, -1.7261e-02, -1.1779e-03,\n",
    "        -3.1949e-02,  1.3500e-02,  6.0442e-03,  1.0831e-02, -3.1748e-02,\n",
    "        -9.3794e-03, -1.9376e-02, -2.2342e-02,  2.6803e-02,  1.7138e-02,\n",
    "        -1.9569e-02, -1.5373e-02, -2.2147e-02,  5.6010e-03, -2.8129e-03,\n",
    "        -1.2697e-04,  2.9320e-03, -3.0014e-02, -2.4823e-02,  2.7719e-02,\n",
    "         7.7524e-03,  1.3499e-03,  9.5191e-03, -1.2312e-02,  2.2027e-02,\n",
    "        -3.1447e-02, -2.0871e-02], device='cuda:0', requires_grad=True) "
   ]
  },
  {
   "cell_type": "markdown",
   "metadata": {},
   "source": [
    "## Model layers\n",
    "\n",
    "Let's break down the layers in the FashionMNIST model. To illustrate it, we \n",
    "will take a sample minibatch of 3 images of size **28x28** and see what happens to it as \n",
    "we pass it through the network. "
   ]
  },
  {
   "cell_type": "code",
   "execution_count": null,
   "metadata": {},
   "outputs": [
    {
     "name": "stdout",
     "output_type": "stream",
     "text": [
      "torch.Size([3, 28, 28])\n"
     ]
    }
   ],
   "source": [
    "input_image = torch.rand(3,28,28)\n",
    "print(input_image.size())"
   ]
  },
  {
   "cell_type": "markdown",
   "metadata": {},
   "source": [
    "### nn.Flatten\n",
    "\n",
    "We initialize the `nn.Flatten` layer to convert each 2D 28x28 image into a contiguous array of 784 pixel values, that is, the minibatch dimension (at dim=0) is maintained. Each of the pixels are passed to the input layer of the neural network.  \n",
    "\n",
    "<img alt=\"Diagram showing how pixels in image are flatten\" src=\"../images/4-model-3.png\" />"
   ]
  },
  {
   "cell_type": "code",
   "execution_count": null,
   "metadata": {},
   "outputs": [
    {
     "name": "stdout",
     "output_type": "stream",
     "text": [
      "torch.Size([3, 784])\n"
     ]
    }
   ],
   "source": [
    "flatten = nn.Flatten()\n",
    "flat_image = flatten(input_image)\n",
    "print(flat_image.size())"
   ]
  },
  {
   "cell_type": "markdown",
   "metadata": {},
   "source": [
    "### nn.Linear \n",
    "\n",
    "The linear layer is a module that applies a linear transformation on the input using its stored weights and biases. The grayscale value of each pixel in the input layer will be connected to neurons in the hidden layer for calculation. The calculation used for the transformation is ${{weight * input + bias}} $.\n"
   ]
  },
  {
   "cell_type": "code",
   "execution_count": null,
   "metadata": {},
   "outputs": [
    {
     "name": "stdout",
     "output_type": "stream",
     "text": [
      "torch.Size([3, 20])\n"
     ]
    }
   ],
   "source": [
    "layer1 = nn.Linear(in_features=28*28, out_features=20)\n",
    "hidden1 = layer1(flat_image)\n",
    "print(hidden1.size())"
   ]
  },
  {
   "cell_type": "markdown",
   "metadata": {},
   "source": [
    "### nn.ReLU\n",
    "\n",
    "Non-linear activations are what create the complex mappings between the model's inputs and outputs.\n",
    "They are applied after linear transformations to introduce *nonlinearity*, helping neural networks\n",
    "learn a wide variety of phenomena. In this model, we use `nn.ReLU` between our linear layers, but there's other activations to introduce non-linearity in your model.\n",
    "\n",
    "The ReLU activation function takes the output from the linear layer calculation and replaces the negative values with zeros.\n",
    "\n",
    "Linear output: ${ x = {weight * input + bias}} $.  \n",
    "ReLU:  $f(x)= \n",
    "\\begin{cases}\n",
    "    0, & \\text{if } x < 0\\\\\n",
    "    x, & \\text{if } x\\geq 0\\\\\n",
    "\\end{cases}\n",
    "$"
   ]
  },
  {
   "cell_type": "code",
   "execution_count": null,
   "metadata": {
    "scrolled": true
   },
   "outputs": [
    {
     "name": "stdout",
     "output_type": "stream",
     "text": [
      "Before ReLU: tensor([[ 0.2190,  0.1448, -0.5783,  0.1782, -0.4481, -0.2782, -0.5680,  0.1347,\n",
      "          0.1092, -0.7941, -0.2273, -0.4437,  0.0661,  0.2095,  0.1291, -0.4690,\n",
      "          0.0358,  0.3173, -0.0259, -0.4028],\n",
      "        [-0.3531,  0.2385, -0.3172, -0.4717, -0.0382, -0.2066, -0.3859,  0.2607,\n",
      "          0.3626, -0.4838, -0.2132, -0.7623, -0.2285,  0.2409, -0.2195, -0.4452,\n",
      "         -0.0609,  0.4035, -0.4889, -0.4500],\n",
      "        [-0.3651, -0.1240, -0.3222, -0.1072, -0.0112, -0.0397, -0.4105, -0.0233,\n",
      "         -0.0342, -0.5680, -0.4816, -0.8085, -0.3945, -0.0472,  0.0247, -0.3605,\n",
      "         -0.0347,  0.1192, -0.2763,  0.1447]], grad_fn=<AddmmBackward>)\n",
      "\n",
      "\n",
      "After ReLU: tensor([[0.2190, 0.1448, 0.0000, 0.1782, 0.0000, 0.0000, 0.0000, 0.1347, 0.1092,\n",
      "         0.0000, 0.0000, 0.0000, 0.0661, 0.2095, 0.1291, 0.0000, 0.0358, 0.3173,\n",
      "         0.0000, 0.0000],\n",
      "        [0.0000, 0.2385, 0.0000, 0.0000, 0.0000, 0.0000, 0.0000, 0.2607, 0.3626,\n",
      "         0.0000, 0.0000, 0.0000, 0.0000, 0.2409, 0.0000, 0.0000, 0.0000, 0.4035,\n",
      "         0.0000, 0.0000],\n",
      "        [0.0000, 0.0000, 0.0000, 0.0000, 0.0000, 0.0000, 0.0000, 0.0000, 0.0000,\n",
      "         0.0000, 0.0000, 0.0000, 0.0000, 0.0000, 0.0247, 0.0000, 0.0000, 0.1192,\n",
      "         0.0000, 0.1447]], grad_fn=<ReluBackward0>)\n"
     ]
    }
   ],
   "source": [
    "print(f\"Before ReLU: {hidden1}\\n\\n\")\n",
    "hidden1 = nn.ReLU()(hidden1)\n",
    "print(f\"After ReLU: {hidden1}\")"
   ]
  },
  {
   "cell_type": "markdown",
   "metadata": {},
   "source": [
    "### nn.Sequential\n",
    "\n",
    "`nn.Sequential` is an ordered \n",
    "container of modules. The data is passed through all the modules in their defined order. You can use\n",
    "sequential containers to put together a quick network like `seq_modules`."
   ]
  },
  {
   "cell_type": "code",
   "execution_count": null,
   "metadata": {},
   "outputs": [],
   "source": [
    "seq_modules = nn.Sequential(\n",
    "    flatten,\n",
    "    layer1,\n",
    "    nn.ReLU(),\n",
    "    nn.Linear(20, 10)\n",
    ")\n",
    "input_image = torch.rand(3,28,28)\n",
    "logits = seq_modules(input_image)"
   ]
  },
  {
   "cell_type": "markdown",
   "metadata": {},
   "source": [
    "### nn.Softmax\n",
    "\n",
    "The last linear layer of the neural network returns `logits` (the raw values in \\[`-infty`, `infty`]), which are passed to the\n",
    "`nn.Softmax` module. The Softmax activation function is used to calculate the probability of the output from the neural network. It is only used on the output layer of a neural network. The results are scaled to values \\[0, 1\\] representing the model's predicted densities for each class. The `dim` parameter indicates the dimension along which the result values must sum to 1. The node with the highest probability predicts the desired output.\n",
    "\n",
    "<img alt=\"Diagram shows softmax formula\" src=\"../images/4-model-4.png\" />"
   ]
  },
  {
   "cell_type": "code",
   "execution_count": null,
   "metadata": {},
   "outputs": [],
   "source": [
    "softmax = nn.Softmax(dim=1)\n",
    "pred_probab = softmax(logits)"
   ]
  },
  {
   "cell_type": "markdown",
   "metadata": {},
   "source": [
    "## Model parameters\n",
    "\n",
    "Many layers inside a neural network are *parameterized*, that is, the layers have associated weights \n",
    "and biases that are optimized during training. Subclassing `nn.Module` automatically \n",
    "tracks all fields defined inside your model object, and makes all parameters \n",
    "accessible using your model's `parameters()` or `named_parameters()` methods.\n",
    "\n",
    "In this example, we iterate over each parameter, and print its size and a preview of its values."
   ]
  },
  {
   "cell_type": "code",
   "execution_count": null,
   "metadata": {
    "scrolled": true
   },
   "outputs": [
    {
     "name": "stdout",
     "output_type": "stream",
     "text": [
      "Model structure:  NeuralNetwork(\n",
      "  (flatten): Flatten()\n",
      "  (linear_relu_stack): Sequential(\n",
      "    (0): Linear(in_features=784, out_features=512, bias=True)\n",
      "    (1): ReLU()\n",
      "    (2): Linear(in_features=512, out_features=512, bias=True)\n",
      "    (3): ReLU()\n",
      "    (4): Linear(in_features=512, out_features=10, bias=True)\n",
      "    (5): ReLU()\n",
      "  )\n",
      ") \n",
      "\n",
      "\n",
      "Layer: linear_relu_stack.0.weight | Size: torch.Size([512, 784]) | Values : tensor([[-0.0320,  0.0326, -0.0032,  ..., -0.0236, -0.0025, -0.0175],\n",
      "        [ 0.0180,  0.0271, -0.0314,  ..., -0.0094, -0.0170, -0.0257]],\n",
      "       device='cuda:0', grad_fn=<SliceBackward>) \n",
      "\n",
      "Layer: linear_relu_stack.0.bias | Size: torch.Size([512]) | Values : tensor([-0.0134,  0.0036], device='cuda:0', grad_fn=<SliceBackward>) \n",
      "\n",
      "Layer: linear_relu_stack.2.weight | Size: torch.Size([512, 512]) | Values : tensor([[-0.0262,  0.0072, -0.0348,  ..., -0.0374,  0.0345,  0.0374],\n",
      "        [ 0.0439, -0.0101,  0.0218,  ..., -0.0419,  0.0212, -0.0081]],\n",
      "       device='cuda:0', grad_fn=<SliceBackward>) \n",
      "\n",
      "Layer: linear_relu_stack.2.bias | Size: torch.Size([512]) | Values : tensor([ 0.0131, -0.0289], device='cuda:0', grad_fn=<SliceBackward>) \n",
      "\n",
      "Layer: linear_relu_stack.4.weight | Size: torch.Size([10, 512]) | Values : tensor([[ 0.0376, -0.0359, -0.0329,  ..., -0.0057,  0.0040,  0.0307],\n",
      "        [-0.0196, -0.0440,  0.0250,  ...,  0.0335,  0.0024, -0.0207]],\n",
      "       device='cuda:0', grad_fn=<SliceBackward>) \n",
      "\n",
      "Layer: linear_relu_stack.4.bias | Size: torch.Size([10]) | Values : tensor([-0.0287,  0.0321], device='cuda:0', grad_fn=<SliceBackward>) \n",
      "\n"
     ]
    }
   ],
   "source": [
    "print(\"Model structure: \", model, \"\\n\\n\")\n",
    "\n",
    "for name, param in model.named_parameters():\n",
    "    print(f\"Layer: {name} | Size: {param.size()} | Values : {param[:2]} \\n\")"
   ]
  }
 ],
 "metadata": {
  "kernelspec": {
   "display_name": "py38_default",
   "language": "python",
   "name": "conda-env-py38_default-py"
  },
  "language_info": {
   "codemirror_mode": {
    "name": "ipython",
    "version": 3
   },
   "file_extension": ".py",
   "mimetype": "text/x-python",
   "name": "conda-env-py38_default-py",
   "nbconvert_exporter": "python",
   "pygments_lexer": "ipython3",
   "version": "3.8.8"
  }
 },
 "nbformat": 4,
 "nbformat_minor": 1
}
