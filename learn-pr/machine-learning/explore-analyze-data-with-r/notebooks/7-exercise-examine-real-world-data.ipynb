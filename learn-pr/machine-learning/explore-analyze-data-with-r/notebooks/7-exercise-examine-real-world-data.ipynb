{
    "cells": [
        {
            "cell_type": "markdown",
            "metadata": {},
            "source": [
                "## Explore real-world data by using R\n",
                "\n",
                "In your last exercise, you looked at grades for your student data and investigated this visually by using histograms and box plots. Now you'll look into more complex cases, describe the data more fully, and see how to make basic comparisons between data.\n",
                "\n",
                "### Real-world data distributions\n",
                "\n",
                "Last time, you looked at grades for your student data and estimated from this sample what the full population of grades might look like. Just to refresh, let's take another look at this data.\n"
            ]
        },
        {
            "cell_type": "code",
            "execution_count": null,
            "metadata": {},
            "outputs": [],
            "source": [
                "# Load the required packages into the current R session\n",
                "library(tidyverse)\n",
                "library(patchwork)\n",
                "library(statip)\n",
                "library(glue)\n"
            ]
        },
        {
            "cell_type": "markdown",
            "metadata": {},
            "source": [
                "Let's take another look at the grades distribution:\n",
                "\n"
            ]
        },
        {
            "cell_type": "code",
            "execution_count": null,
            "metadata": {},
            "outputs": [],
            "source": [
                "# Read a CSV file into a tibble\n",
                "df_students <- read_csv(file = \"https://raw.githubusercontent.com/MicrosoftDocs/ml-basics/master/data/grades.csv\")\n",
                "\n",
                "# Remove any rows with missing data\n",
                "df_students <- df_students %>% \n",
                "  drop_na()\n",
                "\n",
                "# Add a column \"Pass\" that specifies whether a student passed or failed\n",
                "# Assuming '60' is the grade needed to pass\n",
                "df_students <- df_students %>% \n",
                "  mutate(Pass = Grade >= 60)\n",
                "\n",
                "# Create a function that you can reuse\n",
                "show_distribution <- function(var_data, binwidth) {\n",
                "  \n",
                "  # Get summary statistics by first extracting values from the column\n",
                "  min_val <- min(pull(var_data))\n",
                "  max_val <- max(pull(var_data))\n",
                "  mean_val <- mean(pull(var_data))\n",
                "  med_val <- median(pull(var_data))\n",
                "  mod_val <- statip::mfv(pull(var_data))\n",
                "\n",
                "  # Print the stats\n",
                "  stats <- glue(\n",
                "  'Minimum: {format(round(min_val, 2), nsmall = 2)}\n",
                "   Mean: {format(round(mean_val, 2), nsmall = 2)}\n",
                "   Median: {format(round(med_val, 2), nsmall = 2)}\n",
                "   Mode: {format(round(mod_val, 2), nsmall = 2)}\n",
                "   Maximum: {format(round(max_val, 2), nsmall = 2)}'\n",
                "  )\n",
                "  \n",
                "  theme_set(theme_light())\n",
                "  # Plot the histogram\n",
                "  hist_gram <- ggplot(var_data) +\n",
                "  geom_histogram(aes(x = pull(var_data)), binwidth = binwidth,\n",
                "                 fill = \"midnightblue\", alpha = 0.7, boundary = 0.4) +\n",
                "    \n",
                "  # Add lines for the statistics\n",
                "  geom_vline(xintercept = min_val, color = 'gray33', linetype = \"dashed\", size = 1.3) +\n",
                "  geom_vline(xintercept = mean_val, color = 'cyan', linetype = \"dashed\", size = 1.3) +\n",
                "  geom_vline(xintercept = med_val, color = 'red', linetype = \"dashed\", size = 1.3 ) +\n",
                "  geom_vline(xintercept = mod_val, color = 'yellow', linetype = \"dashed\", size = 1.3 ) +\n",
                "  geom_vline(xintercept = max_val, color = 'gray33', linetype = \"dashed\", size = 1.3 ) +\n",
                "    \n",
                "  # Add titles and labels\n",
                "  ggtitle('Data Distribution') +\n",
                "  xlab('')+\n",
                "  ylab('Frequency') +\n",
                "  theme(plot.title = element_text(hjust = 0.5))\n",
                "  \n",
                "  # Plot the box plot\n",
                "  bx_plt <- ggplot(data = var_data) +\n",
                "  geom_boxplot(mapping = aes(x = pull(var_data), y = 1),\n",
                "               fill = \"#E69F00\", color = \"gray23\", alpha = 0.7) +\n",
                "    \n",
                "    # Add titles and labels\n",
                "  xlab(\"Value\") +\n",
                "  ylab(\"\") +\n",
                "  theme(plot.title = element_text(hjust = 0.5))\n",
                "  \n",
                "  \n",
                "  # To return multiple outputs, use a list\n",
                "  return(\n",
                "    \n",
                "    list(stats,\n",
                "         hist_gram / bx_plt)) # End of returned outputs\n",
                "  \n",
                "} # End of function\n",
                "\n",
                "\n",
                "# Call the function\n",
                "show_distribution(var_data = select(df_students, Grade), binwidth = 20)\n"
            ]
        },
        {
            "cell_type": "markdown",
            "metadata": {},
            "source": [
                "As you'll recall, your data had the mean and mode at the center, with data spread symmetrically from there.\n",
                "\n",
                "Now let's take a look at the distribution of the study hours data.\n"
            ]
        },
        {
            "cell_type": "code",
            "execution_count": null,
            "metadata": {},
            "outputs": [],
            "source": [
                "# Get the variable to examine\n",
                "col <- df_students %>% \n",
                "  select(StudyHours)\n",
                "\n",
                "# Call the function\n",
                "show_distribution(var_data = col, binwidth = 2)\n"
            ]
        },
        {
            "cell_type": "markdown",
            "metadata": {},
            "source": [
                "The distributions of the study time data and the grades data differ significantly.\n",
                "\n",
                "Note that the whiskers of the box plot begin at only about 6.0, indicating that the vast majority of the first quarter of the data is greater than this value. The minimum is marked with an *o*, indicating that it's statistically an *outlier*, a value that lies significantly outside the range of the rest of the distribution.\n",
                "\n",
                "Outliers can occur for many reasons. Maybe a student meant to record 10 hours of study time, but entered 1 and omitted the 0. Or maybe the student is abnormally lazy when it comes to putting in study time. Either way, the low number is a statistical anomaly that doesn't represent a typical student. Let's see what the distribution looks like without it.\n"
            ]
        },
        {
            "cell_type": "code",
            "execution_count": null,
            "metadata": {},
            "outputs": [],
            "source": [
                "# Get the variable to examine without outliers\n",
                "# You'll only get students who have studied more than one hour\n",
                "col <- df_students %>% \n",
                "  select(StudyHours) %>% \n",
                "  filter(StudyHours > 1)\n",
                "\n",
                "\n",
                "# Call the function\n",
                "show_distribution(var_data = col, binwidth = 2.4)\n"
            ]
        },
        {
            "cell_type": "markdown",
            "metadata": {},
            "source": [
                "For learning purposes, you've just treated the value 1 as a true outlier here and excluded it. In the real world, though, it would be unusual to exclude data at the extremes without more justification when your sample size is so small. This is because the smaller your sample size, the more likely it is that your sampling is a misrepresentation of the whole population (here, the population means grades for all students, not just the 22 in our sample). For example, if you were to sample study time for another 1000 students, you might find that it's actually quite common to not study much.\n",
                "\n",
                "When you have more data available, your sample becomes more reliable. This makes it easier to consider outliers as being *values that fall below or above percentiles within which most of the data lie*. For example, the following code uses the inbuilt `stats::quantile()` function to exclude observations below the 0.01th percentile (the value above which 99 percent of the data resides).\n"
            ]
        },
        {
            "cell_type": "code",
            "execution_count": null,
            "metadata": {},
            "outputs": [],
            "source": [
                "# Produce a quantile corresponding to 1%\n",
                "q01 <- df_students %>% \n",
                "  pull(StudyHours) %>% \n",
                "  quantile(probs = 1/100, names = FALSE)\n",
                "\n",
                "# Get the variable to examine\n",
                "col <- df_students %>% \n",
                "  select(StudyHours) %>% \n",
                "  filter(StudyHours > q01)\n",
                "  \n",
                "# Call the function\n",
                "show_distribution(var_data = col, binwidth = 2.4)\n"
            ]
        },
        {
            "cell_type": "markdown",
            "metadata": {},
            "source": [
                "> **Tip**:\n",
                "> You can also eliminate outliers at the upper end of the distribution by defining a threshold at a high percentile value. For example, you could use the `stats::quantile()` function to find the 0.99 percentile below which 99 percent of the data reside.\n",
                "\n",
                "With the outliers removed, the box plot shows all data within the four quartiles. Note that the distribution is not symmetric, as it is for the grade data. Some students have very high study times of around 16 hours, but the bulk of the data is between 7 and 13 hours, The few extremely high values pull the mean toward the higher end of the scale.\n",
                "\n",
                "Let's look at the density for this distribution.\n"
            ]
        },
        {
            "cell_type": "code",
            "execution_count": null,
            "metadata": {},
            "outputs": [],
            "source": [
                "# Create a function that returns a density plot\n",
                "show_density <- function(var_data) {\n",
                "  \n",
                "  # Get statistics\n",
                "  mean_val <- mean(pull(var_data))\n",
                "  med_val <- median(pull(var_data))\n",
                "  mod_val <- statip::mfv(pull(var_data))\n",
                "  \n",
                "  \n",
                "  # Plot the density plot\n",
                "  density_plot <- ggplot(data = var_data) +\n",
                "  geom_density(aes(x = pull(var_data)), fill=\"orangered\", color=\"white\", alpha=0.4) +\n",
                "    \n",
                "  # Add lines for the statistics\n",
                "  geom_vline(xintercept = mean_val, color = 'cyan', linetype = \"dashed\", size = 1.3) +\n",
                "  geom_vline(xintercept = med_val, color = 'red', linetype = \"dashed\", size = 1.3 ) +\n",
                "  geom_vline(xintercept = mod_val, color = 'yellow', linetype = \"dashed\", size = 1.3 ) +\n",
                "    \n",
                "  # Add titles and labels\n",
                "  ggtitle('Data Density') +\n",
                "  xlab('') +\n",
                "  ylab('Density') +\n",
                "  theme(plot.title = element_text(hjust = 0.5))\n",
                "  \n",
                "  \n",
                "  \n",
                "  return(density_plot) # End of returned outputs\n",
                "  \n",
                "} # End of function\n",
                "\n",
                "\n",
                "# Get the density of StudyHours\n",
                "show_density(var_data = col)\n"
            ]
        },
        {
            "cell_type": "markdown",
            "metadata": {},
            "source": [
                "This kind of distribution is called *right skewed*. The mass of the data is on the left side of the distribution, creating a long tail to the right because of the values at the extreme high end, which pulls the mean to the right.\n",
                "\n",
                "#### Measures of variance\n",
                "\n",
                "So now you have a good idea where the middle of the grade and study hours data distributions are. However, there's another aspect of the distributions you should examine: how much variability is there in the data?\n",
                "\n",
                "Typical statistics that measure variability in the data include:\n",
                "\n",
                "-   **Range**: The difference between the maximum and minimum. There's no built-in function for this, but it's easy to calculate by using the *min* and *max* functions. Another approach would be to use Base R's `base::range()` which returns a vector containing the *minimum* and *maximum* of all the given arguments. Wrapping this in `base::diff()` will get you well on your way to finding the range.\n",
                "\n",
                "-   **Variance**: The average of the squared difference from the mean. You can use the built-in *var* function to find this.\n",
                "\n",
                "-   **Standard deviation**: The square root of the variance. You can use the built-in *sd* function to find this.\n"
            ]
        },
        {
            "cell_type": "code",
            "execution_count": null,
            "metadata": {},
            "outputs": [],
            "source": [
                "# Select columns to analyze the measure of variance\n",
                "cols <- df_students %>%\n",
                "  select(c(Grade, StudyHours))\n",
                "\n",
                "# Apply a function to each column in cols\n",
                "map(cols, function(column){\n",
                "  rng <- diff(range(column)) # --> same as: max(column) - min(column)\n",
                "  var <- var(column)\n",
                "  std <- sd(column)\n",
                "  glue(\n",
                "  '\n",
                "  - Range: {format(round(rng, 2), nsmall = 2)}\n",
                "  - Variance : {format(round(var, 2), nsmall = 2)}\n",
                "  - Std.Dev : {format(round(std, 2), nsmall = 2)}',\n",
                "  .sep = '\\n')\n",
                "})\n"
            ]
        },
        {
            "cell_type": "markdown",
            "metadata": {},
            "source": [
                "> By using [`map()`](https://purrr.tidyverse.org/reference/map.html) functions, you can replace many `for` loops with code that's both more succinct and easier to read.\n",
                "\n",
                "Of these statistics, the standard deviation is ordinarily the most useful. It provides a measure of variance in the data on the same scale as the data itself (grade points for the grades distribution and hours for the study hours distribution). The greater the standard deviation, the more variance there is when you compare values in the distribution with the distribution mean. That is, the data is more spread out.\n",
                "\n",
                "When you're working with a *normal* distribution, the standard deviation works with the particular characteristics of a normal distribution to provide even greater insight. This can be summarized by using the `68–95–99.7 rule`, also known as the `empirical rule`, which is described as follows:\n",
                "\n",
                "In any normal distribution:\n",
                "\n",
                "-   Approximately 68.26 percent of values fall within one standard deviation from the mean.\n",
                "-   Approximately 95.45 percent of values fall within two standard deviations from the mean.\n",
                "-   Approximately 99.73 percent of values fall within three standard deviations from the mean.\n",
                "\n",
                "As a quick detour, let's verify that the distribution of grades follows a normal distribution.\n"
            ]
        },
        {
            "cell_type": "code",
            "execution_count": null,
            "metadata": {},
            "outputs": [],
            "source": [
                "# Get the variable to examine\n",
                "col <- df_students %>% \n",
                "  select(Grade)\n",
                "\n",
                "# Get the mean grade\n",
                "mean_grade <- mean(pull(col))\n",
                "\n",
                "# Get the standard deviation of grades\n",
                "std_dev <- sd(pull(col))\n",
                "\n",
                "# Find proportion that will fall within 1 standard deviation\n",
                "one_std_dev <- pnorm((mean_grade + std_dev), mean = mean_grade, sd = std_dev) -\n",
                "  pnorm((mean_grade - std_dev), mean = mean_grade, sd = std_dev)\n",
                "\n",
                "# Find proportion that will fall within 2 standard deviations\n",
                "two_std_dev <- pnorm((mean_grade + (2*std_dev)), mean = mean_grade, sd = std_dev) - \n",
                "  pnorm((mean_grade - (2*std_dev)), mean = mean_grade, sd = std_dev)\n",
                "\n",
                "# Find proportion that will fall within 3 standard deviations\n",
                "three_std_dev <- pnorm((mean_grade + (3*std_dev)), mean = mean_grade, sd = std_dev) - \n",
                "  pnorm((mean_grade - (3*std_dev)), mean = mean_grade, sd = std_dev)\n",
                "\n",
                "glue(\n",
                "  '\n",
                "  {format(round(one_std_dev*100, 2), nsmall = 2)}% of grades fall within one standard deviation from the mean.\n",
                "  {format(round(two_std_dev*100, 2), nsmall = 2)}% of grades fall within one standard deviation from the mean.\n",
                "  {format(round(three_std_dev*100, 2), nsmall = 2)}% of grades fall within one standard deviation from the mean.\n",
                "  \n",
                "  '\n",
                ")\n"
            ]
        },
        {
            "cell_type": "markdown",
            "metadata": {},
            "source": [
                "There's no doubt that the grades distribution follows a normal distribution.\n",
                "\n",
                "It wouldn't hurt to show this graphically, right? Instead of using `geom_density`, let's manually calculate the density of the `Grade` column and then use the results to whip up a density plot. We'll then fill the density plot depending on the number of standard deviations from the mean.\n"
            ]
        },
        {
            "cell_type": "code",
            "execution_count": null,
            "metadata": {},
            "outputs": [],
            "source": [
                "# Get the Grade column\n",
                "col <- df_students %>% \n",
                "  select(Grade)\n",
                "\n",
                "# Compute kernel density estimates\n",
                "density <- density(pull(col), kernel = \"gaussian\")\n",
                "\n",
                "# Create a dataframe containing coordinates where density is estimated\n",
                "#and the corresponding estimated value\n",
                "density_xy <- tibble(\n",
                "  x = density$x,\n",
                "  y = density$y\n",
                ")\n",
                "\n",
                "# Make density plots for various deviations of the mean\n",
                "\n",
                "plt_sd_1 <- density_xy %>%\n",
                "  ggplot(mapping = aes(x = x, y = y)) +\n",
                "  geom_line() +\n",
                "  geom_area(mapping = aes(x = ifelse(x>(mean_grade-std_dev) & x<(mean_grade+std_dev), x, 0)), fill = \"darkorange\", alpha = 0.8) +\n",
                "  annotate(\"text\", x = 50, y = 0.01, label = \"1 std (68.26%)\") +\n",
                "  xlim(1, max(col))+\n",
                "  geom_vline(xintercept = mean_grade, linetype = \"dashed\") +\n",
                "  labs(x = \"\", y = \"Density\")\n",
                "\n",
                "\n",
                "# 2 std deviations from the mean\n",
                "plt_sd_2 <- density_xy %>%\n",
                "  ggplot(mapping = aes(x = x, y = y)) +\n",
                "  geom_line() +\n",
                "  geom_area(mapping = aes(x = ifelse(x>(mean_grade-(2*std_dev)) & x<(mean_grade+(2*std_dev)), x, 0)), fill = \"purple\", alpha = 0.7) +\n",
                "  annotate(\"text\", x = 50, y = 0.01, label = \"2 std (95.45%)\") +\n",
                "  xlim(1, max(col)) +\n",
                "  geom_vline(xintercept = mean_grade, linetype = \"dashed\") +\n",
                "  labs(x = \"\", y = \"\")\n",
                "\n",
                "\n",
                "# 3 std deviations from the mean\n",
                "plt_sd_3 <- density_xy %>%\n",
                "  ggplot(aes(x = x, y = y)) +\n",
                "  geom_line() +\n",
                "  geom_area(mapping = aes(x = ifelse(x>(mean_grade-(3*std_dev)) & x<(mean_grade+(3*std_dev)), x, 0)), fill = \"cyan4\", alpha = 0.5) +\n",
                "  annotate(\"text\", x = 50, y = 0.01, label = \"3 std (99.73%)\") +\n",
                "  xlim(1, max(col)) +\n",
                "  geom_vline(xintercept = mean_grade, linetype = \"dashed\") +\n",
                "  labs(x = \"Grade\", y = \"\")\n",
                "\n",
                "\n",
                "\n",
                "# Patching things up\n",
                "plt_sd_1| (plt_sd_2/plt_sd_3) \n"
            ]
        },
        {
            "cell_type": "markdown",
            "metadata": {},
            "source": [
                "Because you know that the mean grade is `49.18`, the standard deviation is `21.74`, and distribution of grades is `normal`, you can calculate that `68.26%` of students should achieve a grade between `27.44` and `70.92`, as shown in the first plot in the preceding code.\n",
                "\n",
                "The descriptive statistics you've used to understand the distribution of the student data variables are the basis of statistical analysis. Because they're such an important part of exploring your data, there's a built-in Base R function, `base::summary()`, that returns the result summaries of the results of various objects that are passed to it.\n"
            ]
        },
        {
            "cell_type": "code",
            "execution_count": null,
            "metadata": {},
            "outputs": [],
            "source": [
                "# Get summary stats of the data frame\n",
                "summary(df_students)\n"
            ]
        },
        {
            "cell_type": "markdown",
            "metadata": {},
            "source": [
                "Of course, because of the need for much more robust data exploration and reporting, many packages have been developed for summarizing data.\n",
                "\n",
                "A good example would be the [summarytools](https://github.com/dcomtois/summarytools) package. `summarytools::descr()` does a remarkable job of finding statistics for numerical data.\n"
            ]
        },
        {
            "cell_type": "code",
            "execution_count": null,
            "metadata": {},
            "outputs": [],
            "source": [
                "# Get descriptive stats using summary tools package\n",
                "library(summarytools)\n",
                "descr(\n",
                "  df_students,\n",
                "  stats = \"common\"\n",
                ")\n"
            ]
        },
        {
            "cell_type": "markdown",
            "metadata": {},
            "source": [
                "### Compare data\n",
                "\n",
                "Now that you know something about the statistical distribution of the data in your dataset, you're ready to examine it to identify any apparent relationships between variables.\n",
                "\n",
                "First of all, remove any rows that contain outliers so that you have a sample that's representative of a typical class of students. You identified that the StudyHours column contains some outliers with extremely low values, so you can remove those rows.\n"
            ]
        },
        {
            "cell_type": "code",
            "execution_count": null,
            "metadata": {},
            "outputs": [],
            "source": [
                "# Filter to remove outliers\n",
                "df_sample <- df_students %>% \n",
                "  filter(StudyHours > 1)\n"
            ]
        },
        {
            "cell_type": "markdown",
            "metadata": {},
            "source": [
                "The data includes two *numeric* variables (`StudyHours` and `Grade`) and two *categorical* variables (`Name` and `Pass`). In R, categorical variables are usually saved as [factors](https://r4ds.had.co.nz/factors.html) or character vectors.\n",
                "\n",
                "Let's start by comparing the `numeric` *StudyHours* column with the `categorical` *Pass* column to see whether there's an apparent relationship between the number of hours studied and a passing grade.\n",
                "\n",
                "To make this comparison, you can create box plots that show the distribution of StudyHours for each possible Pass value (TRUE and FALSE).\n"
            ]
        },
        {
            "cell_type": "code",
            "execution_count": null,
            "metadata": {},
            "outputs": [],
            "source": [
                "# Plot a box plot comparing StudyHours and Pass\n",
                "df_sample %>% \n",
                "  ggplot() +\n",
                "  geom_boxplot(mapping = aes(x = Pass, y = StudyHours, fill = Pass), color = \"gray23\", alpha = 0.7) +\n",
                "  scale_fill_brewer(palette = \"Set1\") +\n",
                "  \n",
                "# Add titles and labels\n",
                "  ggtitle(\"Comparing Pass status and the Study hours\")+\n",
                "  xlab(\"Pass\")+\n",
                "  ylab(\"Study Hours\")+\n",
                "  theme(plot.title = element_text(hjust = 0.5))\n"
            ]
        },
        {
            "cell_type": "markdown",
            "metadata": {},
            "source": [
                "When you compare the StudyHours distributions, it's immediately apparent, if not particularly surprising, that students who passed the course tended to study for more hours than students who didn't pass. If you want to predict whether students are likely to pass the course, the amount of time they spend studying might be a good predictive feature.\n",
                "\n",
                "### Compare numeric variables\n",
                "\n",
                "Now let's compare two numeric variables. Start by creating a bar chart that shows both grades and study hours.\n",
                "\n",
                "To do this, you can first transform your data to a `long` format by using `tidyr::pivot_longer()` and then play around with the `fill` aesthetic and `position_dodge()` to place overlapping objects directly *beside* one another.\n",
                "\n",
                "Also, we'll try out [the paletter gallery](https://pmassicotte.github.io/paletteer_gallery/), a collection of color palettes in a single R package.\n"
            ]
        },
        {
            "cell_type": "code",
            "execution_count": null,
            "metadata": {},
            "outputs": [],
            "source": [
                "# Pivot data from wide to long\n",
                "df_sample_long <- df_sample %>%\n",
                "  select(-Pass) %>%\n",
                "  mutate(Name = fct_reorder(Name, Grade, .desc = TRUE)) %>% \n",
                "  pivot_longer(!Name, names_to = \"Metrics\", values_to = \"Values\")\n",
                "\n",
                "# Show first 10 rows\n",
                "df_sample_long %>% \n",
                "  slice_head(n = 10)\n"
            ]
        },
        {
            "cell_type": "markdown",
            "metadata": {},
            "source": [
                "\n"
            ]
        },
        {
            "cell_type": "code",
            "execution_count": null,
            "metadata": {},
            "outputs": [],
            "source": [
                "# Try out some color palettes\n",
                "library(paletteer)\n",
                "\n",
                "# Compare numeric variables with bar plots\n",
                "ggplot(data = df_sample_long) +\n",
                "  geom_bar(mapping = aes(x = Name, y = Values, fill = Metrics), alpha = 0.7, stat = \"identity\", position = position_dodge(width = 0.9)) +\n",
                "  xlab('Student') +\n",
                "  ylab('') +\n",
                "  scale_fill_paletteer_d(\"calecopal::kelp1\") +\n",
                "  theme(\n",
                "    panel.grid = element_blank(),\n",
                "    panel.grid.major.y = element_line(color = '#95a5a6',\n",
                "                                      linetype = 'dashed',\n",
                "                                      size = 0.5),\n",
                "    axis.text.x = element_text(angle = 90),\n",
                "    legend.title = element_blank()\n",
                "    \n",
                "  )\n"
            ]
        },
        {
            "cell_type": "markdown",
            "metadata": {},
            "source": [
                "The chart shows bars for both the grade and study hours for each student. They're not easy to compare, because the values are on different scales. Grades are measured in grade points, which range from 3 to 97, and study time is measured in hours, which range from 1 to 16.\n",
                "\n",
                "A common technique when you're dealing with numeric data in different scales is to *normalize* the data so that the values retain their proportional distribution, but are measured on the same scale. To do this, you use a technique called *`MinMax`*`scaling`, which distributes the values proportionally on a scale from 0 to 1. You could write the code to apply this transformation, but the [scales](https://scales.r-lib.org/) library provides a scaler, `scales::rescale()`, that does it for you.\n",
                "\n",
                "The good news is that the scaler is installed when you install ggplot2 or the Tidyverse.\n"
            ]
        },
        {
            "cell_type": "code",
            "execution_count": null,
            "metadata": {},
            "outputs": [],
            "source": [
                "# Load the scales package\n",
                "library(scales)\n",
                "\n",
                "# Normalize the numeric columns\n",
                "# group_by ensures that StudyHours and Grade are normalized independently\n",
                "df_normalized <- df_sample_long %>% \n",
                "  group_by(Metrics) %>% \n",
                "  mutate(Values = rescale(Values, to = c(0, 1)))\n",
                "\n",
                "# Show some of the normalized data\n",
                "df_normalized %>% \n",
                "  slice_head(n = 5)\n"
            ]
        },
        {
            "cell_type": "markdown",
            "metadata": {},
            "source": [
                "Great! Your grades and study hours are now rescaled.\n",
                "\n"
            ]
        },
        {
            "cell_type": "code",
            "execution_count": null,
            "metadata": {},
            "outputs": [],
            "source": [
                "# Compare numeric variables with bar plots\n",
                "ggplot(data = df_normalized) +\n",
                "  geom_bar(mapping = aes(x = Name, y = Values, fill = Metrics), alpha = 0.7, stat = \"identity\", position = position_dodge(width = 0.9)) +\n",
                "  xlab('Student') +\n",
                "  ylab('') +\n",
                "  scale_fill_paletteer_d(\"calecopal::kelp1\") +\n",
                "  theme(\n",
                "    panel.grid = element_blank(),\n",
                "    panel.grid.major.y = element_line(color = '#95a5a6',\n",
                "                                      linetype = 'dashed',\n",
                "                                      size = 0.5),\n",
                "    axis.text.x = element_text(angle = 90),\n",
                "    legend.title = element_blank()\n",
                "    \n",
                "  )\n"
            ]
        },
        {
            "cell_type": "markdown",
            "metadata": {},
            "source": [
                "With the data normalized, it's easier to see an apparent relationship between grades and study time. It's not an exact match, but it seems clear that students with higher grades tend to have studied more.\n",
                "\n",
                "### Fitting a simple linear regression model\n",
                "\n",
                "From the previous comparisons, there seems to be a correlation between study times and grades. In fact, there's a statistical *correlation* measurement that you can use to quantify the relationship between these columns.\n"
            ]
        },
        {
            "cell_type": "code",
            "execution_count": null,
            "metadata": {},
            "outputs": [],
            "source": [
                "# Compute Pearson Product Moment correlation coefficient\n",
                "cor(df_sample$StudyHours, df_sample$Grade)\n"
            ]
        },
        {
            "cell_type": "markdown",
            "metadata": {},
            "source": [
                "The correlation statistic is a value from -1 to 1 that indicates the strength of a relationship. Values greater than 0 indicate a *positive* correlation (high values of one variable tend to coincide with high values of the other), while values less than 0 indicate a *negative* correlation (high values of one variable tend to coincide with low values of the other). A correlation equal to 0 indicates that there is no relationship between the two variables. In this case, the correlation value is close to 1, which shows a strong positive correlation between study times and grades.\n",
                "\n",
                "> **Note**:\n",
                "> Data scientists often quote the maxim \"correlation is not causation.\" In other words, as tempting as it might be, you shouldn't interpret the statistical correlation as explaining *why* one of the values is high. In the case of the student data, the statistic demonstrates that students with high grades tend to have studied a great number of hours.But this is not the same as saying that they achieved high grades *because* they studied a lot. The statistic could equally be used as evidence to support the nonsensical conclusion that the students studied a lot *because* their grades were going to be high.\n",
                "\n",
                "Another way to visualize the apparent correlation between two numeric columns is to use a *scatter* plot. With `geom_point`, you'll be well on your way to whipping up a neat scatterplot.\n"
            ]
        },
        {
            "cell_type": "code",
            "execution_count": null,
            "metadata": {},
            "outputs": [],
            "source": [
                "# Create a scatter plot of study hours and grade\n",
                "df_sample %>% \n",
                "  ggplot(aes(x = StudyHours, y = Grade)) +\n",
                "  geom_point() +\n",
                "  ggtitle('Study Time vs Grade') +\n",
                "  theme(plot.title = element_text(hjust = 0.5))\n"
            ]
        },
        {
            "cell_type": "markdown",
            "metadata": {},
            "source": [
                "Again, it looks like there's a discernible pattern in which the students who studied the most hours are also the students who got the highest grades.\n",
                "\n",
                "You can see this more clearly by adding to the plot a *regression* line (or a *line of best fit*) that shows the general trend in the data. To do this, you can use a statistical technique called *least squares regression*.\n",
                "\n",
                "> **Warning: math ahead!** \n",
                ">\n",
                "> Cast your mind back to when you were learning how to solve linear equations in school, and recall that the *slope-intercept* form of a linear equation looks like this:\n",
                ">\n",
                "> `y = mx + b`. \n",
                ">\n",
                "> In this equation, *y* and *x* are the coordinate variables, *m* is the slope of the line, and *b* is the y-intercept (where the line goes through the y-axis). \n",
                ">\n",
                "> In the case of your scatter plot for our student data, you already have values for *x* (*StudyHours*) and *y* (*Grade*), so you need only calculate the intercept and slope of the straight line that lies closest to those points. Then you can form a linear equation that calculates a new *y* value on that line for each of your *x* values. To avoid confusion, let's call this new *y* value *f(x)*, because it's the output from a linear equation ***f***unction based on *x*. The difference between the original *y* (*Grade*) value and the *f(x)* value is the *error* between the regression line and the actual *Grade* achieved by the student. Your goal is to calculate the slope and intercept for a line with the lowest overall error. \n",
                ">\n",
                "> Specifically, you define the overall error by taking the error for each point, squaring it, and adding all the squared errors together. The line of best fit is the line that gives you the lowest value for the sum of the squared errors, hence the name *least squares regression*.\n",
                "\n",
                "Fortunately, you don't need to code the regression calculation yourself. The inbuilt R Stats Package *stats* provides the `lm()` function to do the hard work for you. `lm()` takes a formula of the form:\n",
                "\n",
                "`outcome ~ predictor`\n",
                "\n",
                "This returns, among other things, the coefficients you need for the slope equation, slope (*m*) and intercept (*b*), based on a specified pair of variable samples you want to compare.\n"
            ]
        },
        {
            "cell_type": "code",
            "execution_count": null,
            "metadata": {},
            "outputs": [],
            "source": [
                "# Drop all columns except Grade and StudyHours\n",
                "df_regression <- df_sample %>% \n",
                "  select(c(Grade, StudyHours))\n",
                "\n",
                "# Fit a linear model\n",
                "lm_df_regression <- lm(Grade ~ StudyHours, data = df_regression)\n",
                "\n",
                "# Get the regression slope and intercept\n",
                "intercept_b <- lm_df_regression$coefficients[1]\n",
                "slope_m <- lm_df_regression$coefficients[2]\n",
                "glue(\n",
                "  'slope: {format(round(slope_m, 4), nsmall = 4)}\n",
                "  y-intercept: {format(round(intercept_b, 4), nsmall = 4)}\n",
                "  so…\n",
                "   f(x) = {format(round(slope_m, 4), nsmall = 4)}x + {format(round(intercept_b, 4), nsmall = 4)}'\n",
                ")\n"
            ]
        },
        {
            "cell_type": "markdown",
            "metadata": {},
            "source": [
                "Now that you have the equation `f(x) = 6.3134x + -17.9164` of the least squares regression line, you can use it to estimate the grade based on the amount of hours spent studying.\n",
                "\n"
            ]
        },
        {
            "cell_type": "code",
            "execution_count": null,
            "metadata": {},
            "outputs": [],
            "source": [
                "# Use the function (mx + b) to calculate f(x) for each x (StudyHours) value\n",
                "df_regression <- df_regression %>% \n",
                "  mutate(fx = (slope_m * StudyHours + intercept_b),\n",
                "         error = fx - Grade)\n",
                "\n",
                "\n",
                "# Show data frame\n",
                "df_regression\n"
            ]
        },
        {
            "cell_type": "markdown",
            "metadata": {},
            "source": [
                "You now have a data frame that contains the following values:\n",
                "\n",
                "- The *StudyHours* for each student\n",
                "- The *Grade* achieved by each student\n",
                "- The *f(x)* value, calculated by using the regression line coefficients\n",
                "- The *error* between the calculated *f(x)* value and the actual *Grade* value.\n",
                "\n",
                "Some of the errors, particularly at the extreme ends, are quite large (up to over 17.5 grade points). In general, though, the line is pretty close to the actual grades.\n",
                "\n",
                "Now it's time to show this visually. You'll create the scatter plot of the sample study hours and grades, as before, and then add a line of best fit based on the least squares regression coefficients.\n"
            ]
        },
        {
            "cell_type": "code",
            "execution_count": null,
            "metadata": {},
            "outputs": [],
            "source": [
                "df_sample %>% \n",
                "  ggplot() +\n",
                "  geom_point(aes(x = StudyHours, y = Grade)) +\n",
                "  # Add a line based on the linear model\n",
                "  geom_abline(intercept = intercept_b, slope = slope_m, color = \"springgreen3\", size = 1) +\n",
                "  ggtitle('Study Time vs Grade') +\n",
                "  theme(plot.title = element_text(hjust = 0.5))\n"
            ]
        },
        {
            "cell_type": "markdown",
            "metadata": {},
            "source": [
                "### Use the regression coefficients for prediction\n",
                "\n",
                "Now that you have the regression coefficients for the study time and grade relationship, you can use them in a function to estimate the expected grade for a specified amount of study time.\n"
            ]
        },
        {
            "cell_type": "code",
            "execution_count": null,
            "metadata": {},
            "outputs": [],
            "source": [
                "# Define a function based on our regression coefficients\n",
                "f <- function(x) {\n",
                "  slope_m <-  6.3134\n",
                "  y_intercept_b <-  -17.9164\n",
                "  # y = mx + b\n",
                "  fx <-  slope_m * x + y_intercept_b\n",
                "  return(fx)\n",
                "}\n",
                "\n",
                "# Assume the student studied for 14 hours per week\n",
                "study_time <-  14\n",
                "\n",
                "# Get f(x) for study time\n",
                "prediction <- f(x = study_time)\n",
                "\n",
                "# Grade can't be less than 0 or more than 100\n",
                "expected_grade <- max(0, min(100, prediction))\n",
                "\n",
                "# Print the estimated grade\n",
                "glue(\n",
                "  'Studying for {study_time} hours per week may result in a grade of {format(round(expected_grade))}\n",
                "  ')\n"
            ]
        },
        {
            "cell_type": "markdown",
            "metadata": {},
            "source": [
                "By applying statistics to sample data, you've determined a relationship between study time and grade. And you've encapsulated that relationship in a general function that can be used to predict a grade for a given amount of study time.\n",
                "\n",
                "This technique is in fact the basic premise of machine learning. You can take a set of sample data that includes one or more *features* (in this case, the number of hours studied) and a known *label* value (in this case, the grade achieved) and use the sample data to derive a function that calculates predicted label values for any specified set of features.\n",
                "\n",
                "## Summary\n",
                "\n",
                "In this exercise, you've learned:\n",
                "\n",
                "- What outliers are and how to remove them\n",
                "- How data can be skewed\n",
                "- How to look at the spread of data\n",
                "- Basic ways to compare variables, such as grades and study time\n",
                "\n",
                "## Further reading\n",
                "\n",
                "To learn more about the R packages you explored in this notebook, see:\n",
                "\n",
                "-   [Tidyverse packages](https://www.tidyverse.org/packages/)\n",
                "-   [R for Data Science: Visualize, Model, Transform, Tidy, and Import Data](https://r4ds.had.co.nz/) by H. Wickham and G. Grolemund\n"
            ]
        }
    ],
    "metadata": {
        "anaconda-cloud": "",
        "kernelspec": {
            "display_name": "R",
            "language": "R",
            "name": "ir"
        },
        "language_info": {
            "codemirror_mode": "r",
            "file_extension": ".r",
            "mimetype": "text/x-r-source",
            "name": "R",
            "pygments_lexer": "r",
            "version": "3.4.1"
        }
    },
    "nbformat": 4,
    "nbformat_minor": 1
}
